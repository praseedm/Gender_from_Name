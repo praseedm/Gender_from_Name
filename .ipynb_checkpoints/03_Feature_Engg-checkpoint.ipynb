{
 "cells": [
  {
   "cell_type": "code",
   "execution_count": 17,
   "metadata": {},
   "outputs": [],
   "source": [
    "import pandas as pd\n",
    "import re\n",
    "from tqdm import tqdm "
   ]
  },
  {
   "cell_type": "code",
   "execution_count": 18,
   "metadata": {},
   "outputs": [],
   "source": [
    "data_loc = './data/clean/'"
   ]
  },
  {
   "cell_type": "code",
   "execution_count": 19,
   "metadata": {},
   "outputs": [
    {
     "data": {
      "text/plain": [
       "['Black-Male-Names.csv',\n",
       " 'Black-Female-Names.csv',\n",
       " 'Hispanic-Male-Names.csv',\n",
       " 'Hispanic-Female-Names.csv',\n",
       " 'White-Male-Names.csv',\n",
       " 'White-Female-Names.csv',\n",
       " 'Indian-Male-Names.csv',\n",
       " 'Indian-Female-Names.csv']"
      ]
     },
     "execution_count": 19,
     "metadata": {},
     "output_type": "execute_result"
    }
   ],
   "source": [
    "d_sets = ['Black-Male-Names.csv','Black-Female-Names.csv','Hispanic-Male-Names.csv','Hispanic-Female-Names.csv','White-Male-Names.csv','White-Female-Names.csv','Indian-Male-Names.csv','Indian-Female-Names.csv']\n",
    "d_sets"
   ]
  },
  {
   "cell_type": "code",
   "execution_count": 20,
   "metadata": {},
   "outputs": [],
   "source": [
    "def disp_d(name,d_loc):\n",
    "    d2 = pd.read_csv(d_loc+name)\n",
    "    print(name,'\\n',d2.head())\n",
    "    print('size :',len(d2))\n",
    "    print('-----------------')"
   ]
  },
  {
   "cell_type": "markdown",
   "metadata": {},
   "source": [
    "### Features\n",
    "* Length   - character count \n",
    "* ll_is_v  - Last letter is vowel, 0 - False, 1 - True\n",
    "* fl_is_v  - First letter is vowel, 0 - False, 1 - True\n",
    "* first_2  - First two letters of name\n",
    "* last_2   - Last two letters of name\n",
    "* first_3  - First three letters of name\n",
    "* last_3   - Last three letters of name"
   ]
  },
  {
   "cell_type": "code",
   "execution_count": 21,
   "metadata": {},
   "outputs": [],
   "source": [
    "# utils\n",
    "\n",
    "def is_vowel(c):\n",
    "    c = c.lower()\n",
    "    v_set = list('aeiou')\n",
    "    if c in v_set:\n",
    "        return 1\n",
    "    return 0"
   ]
  },
  {
   "cell_type": "code",
   "execution_count": 22,
   "metadata": {},
   "outputs": [
    {
     "data": {
      "text/plain": [
       "1"
      ]
     },
     "execution_count": 22,
     "metadata": {},
     "output_type": "execute_result"
    }
   ],
   "source": [
    "is_vowel('a')"
   ]
  },
  {
   "cell_type": "code",
   "execution_count": 25,
   "metadata": {},
   "outputs": [],
   "source": [
    "def add_features(file_name):\n",
    "    d2 = pd.read_csv(data_loc+file_name)\n",
    "    #adding new features\n",
    "    d2['name'] = d2.name.astype(str)\n",
    "    d2['length'] = d2.name.apply(lambda x : len(str(x)))\n",
    "    d2['fl_is_v'] = d2.name.apply(lambda x : is_vowel(x[0]))\n",
    "    d2['ll_is_v'] = d2.name.apply(lambda x : is_vowel(x[-1]))\n",
    "    d2['first_2'] = d2.name.apply(lambda x : x[0:2])\n",
    "    d2['last_2'] = d2.name.apply(lambda x : x[-2:])\n",
    "    d2['first_3'] = d2.name.apply(lambda x : x[0:3])\n",
    "    d2['last_3'] = d2.name.apply(lambda x : x[-3:])\n",
    "    #save csv\n",
    "    d2.to_csv(data_loc+file_name, index=False)"
   ]
  },
  {
   "cell_type": "code",
   "execution_count": 26,
   "metadata": {},
   "outputs": [
    {
     "name": "stderr",
     "output_type": "stream",
     "text": [
      "100%|██████████| 8/8 [00:00<00:00, 17.60it/s]\n"
     ]
    }
   ],
   "source": [
    "for i in tqdm(d_sets):\n",
    "    add_features(i)"
   ]
  },
  {
   "cell_type": "code",
   "execution_count": 27,
   "metadata": {},
   "outputs": [
    {
     "name": "stdout",
     "output_type": "stream",
     "text": [
      "Black-Male-Names.csv \n",
      "         name  gender  race  length  fl_is_v  ll_is_v first_2 last_2 first_3  \\\n",
      "0      aaric       0     0       5        1        0      aa     ic     aar   \n",
      "1  dominique       0     0       9        0        1      do     ue     dom   \n",
      "2   fredrick       0     0       8        0        0      fr     ck     fre   \n",
      "3     jarvis       0     0       6        0        0      ja     is     jar   \n",
      "4    lorenzo       0     0       7        0        1      lo     zo     lor   \n",
      "\n",
      "  last_3  \n",
      "0    ric  \n",
      "1    que  \n",
      "2    ick  \n",
      "3    vis  \n",
      "4    nzo  \n",
      "size : 6981\n",
      "-----------------\n",
      "Black-Female-Names.csv \n",
      "         name  gender  race  length  fl_is_v  ll_is_v first_2 last_2 first_3  \\\n",
      "0  tashanika       1     0       9        0        1      ta     ka     tas   \n",
      "1    denetra       1     0       7        0        1      de     ra     den   \n",
      "2    tomesha       1     0       7        0        1      to     ha     tom   \n",
      "3   trellany       1     0       8        0        0      tr     ny     tre   \n",
      "4    cynthia       1     0       7        0        1      cy     ia     cyn   \n",
      "\n",
      "  last_3  \n",
      "0    ika  \n",
      "1    tra  \n",
      "2    sha  \n",
      "3    any  \n",
      "4    hia  \n",
      "size : 1436\n",
      "-----------------\n",
      "Hispanic-Male-Names.csv \n",
      "       name  gender  race  length  fl_is_v  ll_is_v first_2 last_2 first_3  \\\n",
      "0   jothan       0     1       6        0        0      jo     an     jot   \n",
      "1    pablo       0     1       5        0        1      pa     lo     pab   \n",
      "2  basilio       0     1       7        0        1      ba     io     bas   \n",
      "3   german       0     1       6        0        0      ge     an     ger   \n",
      "4   javier       0     1       6        0        0      ja     er     jav   \n",
      "\n",
      "  last_3  \n",
      "0    han  \n",
      "1    blo  \n",
      "2    lio  \n",
      "3    man  \n",
      "4    ier  \n",
      "size : 872\n",
      "-----------------\n",
      "Hispanic-Female-Names.csv \n",
      "       name  gender  race  length  fl_is_v  ll_is_v first_2 last_2 first_3  \\\n",
      "0  shirley       1     1       7        0        0      sh     ey     shi   \n",
      "1      NaN       1     1       3        0        0      na     an     NaN   \n",
      "2   miriam       1     1       6        0        0      mi     am     mir   \n",
      "3   ivette       1     1       6        1        1      iv     te     ive   \n",
      "4    saray       1     1       5        0        0      sa     ay     sar   \n",
      "\n",
      "  last_3  \n",
      "0    ley  \n",
      "1    NaN  \n",
      "2    iam  \n",
      "3    tte  \n",
      "4    ray  \n",
      "size : 168\n",
      "-----------------\n",
      "White-Male-Names.csv \n",
      "        name  gender  race  length  fl_is_v  ll_is_v first_2 last_2 first_3  \\\n",
      "0     billy       0     2       5        0        0      bi     ly     bil   \n",
      "1   charles       0     2       7        0        0      ch     es     cha   \n",
      "2  clarence       0     2       8        0        1      cl     ce     cla   \n",
      "3    justin       0     2       6        0        0      ju     in     jus   \n",
      "4       roy       0     2       3        0        0      ro     oy     roy   \n",
      "\n",
      "  last_3  \n",
      "0    lly  \n",
      "1    les  \n",
      "2    nce  \n",
      "3    tin  \n",
      "4    roy  \n",
      "size : 3184\n",
      "-----------------\n",
      "White-Female-Names.csv \n",
      "          name  gender  race  length  fl_is_v  ll_is_v first_2 last_2 first_3  \\\n",
      "0      leslie       1     2       6        0        1      le     ie     les   \n",
      "1       peggy       1     2       5        0        0      pe     gy     peg   \n",
      "2     rebecca       1     2       7        0        1      re     ca     reb   \n",
      "3  antoinette       1     2      10        1        1      an     te     ant   \n",
      "4    shaylene       1     2       8        0        1      sh     ne     sha   \n",
      "\n",
      "  last_3  \n",
      "0    lie  \n",
      "1    ggy  \n",
      "2    cca  \n",
      "3    tte  \n",
      "4    ene  \n",
      "size : 1159\n",
      "-----------------\n",
      "Indian-Male-Names.csv \n",
      "            name  gender  race  length  fl_is_v  ll_is_v first_2 last_2  \\\n",
      "0       barjraj       0     3       7        0        0      ba     aj   \n",
      "1  ramdin verma       0     3      12        0        1      ra     ma   \n",
      "2        sharat       0     3       6        0        0      sh     at   \n",
      "3      birender       0     3       8        0        0      bi     er   \n",
      "4          amit       0     3       4        1        0      am     it   \n",
      "\n",
      "  first_3 last_3  \n",
      "0     bar    raj  \n",
      "1     ram    rma  \n",
      "2     sha    rat  \n",
      "3     bir    der  \n",
      "4     ami    mit  \n",
      "size : 7406\n",
      "-----------------\n",
      "Indian-Female-Names.csv \n",
      "               name  gender  race  length  fl_is_v  ll_is_v first_2 last_2  \\\n",
      "0          shivani       1     3       7        0        1      sh     ni   \n",
      "1             isha       1     3       4        1        1      is     ha   \n",
      "2  smt shyani devi       1     3      15        0        1      sm     vi   \n",
      "3            divya       1     3       5        0        1      di     ya   \n",
      "4            mansi       1     3       5        0        1      ma     si   \n",
      "\n",
      "  first_3 last_3  \n",
      "0     shi    ani  \n",
      "1     ish    sha  \n",
      "2     smt    evi  \n",
      "3     div    vya  \n",
      "4     man    nsi  \n",
      "size : 5717\n",
      "-----------------\n"
     ]
    }
   ],
   "source": [
    "for i in d_sets:\n",
    "    disp_d(i,data_loc)"
   ]
  },
  {
   "cell_type": "code",
   "execution_count": 51,
   "metadata": {},
   "outputs": [
    {
     "data": {
      "text/plain": [
       "'roshan kumar s'"
      ]
     },
     "execution_count": 51,
     "metadata": {},
     "output_type": "execute_result"
    }
   ],
   "source": [
    "re.sub(r'na|/.*|@.*','','roshan kumar s/o rajkumar,')"
   ]
  },
  {
   "cell_type": "code",
   "execution_count": 61,
   "metadata": {},
   "outputs": [],
   "source": [
    "re?"
   ]
  },
  {
   "cell_type": "code",
   "execution_count": null,
   "metadata": {},
   "outputs": [],
   "source": []
  }
 ],
 "metadata": {
  "kernelspec": {
   "display_name": "Python 3",
   "language": "python",
   "name": "python3"
  },
  "language_info": {
   "codemirror_mode": {
    "name": "ipython",
    "version": 3
   },
   "file_extension": ".py",
   "mimetype": "text/x-python",
   "name": "python",
   "nbconvert_exporter": "python",
   "pygments_lexer": "ipython3",
   "version": "3.6.8"
  }
 },
 "nbformat": 4,
 "nbformat_minor": 2
}
