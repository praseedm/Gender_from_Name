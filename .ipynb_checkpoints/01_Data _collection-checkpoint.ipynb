{
 "cells": [
  {
   "cell_type": "code",
   "execution_count": 2,
   "metadata": {},
   "outputs": [
    {
     "name": "stdout",
     "output_type": "stream",
     "text": [
      "Black-Female-Names.csv\t   Hispanic-Male-Names.csv  White-Female-Names.csv\r\n",
      "Black-Male-Names.csv\t   Indian-Female-Names.csv  White-Male-Names.csv\r\n",
      "Hispanic-Female-Names.csv  Indian-Male-Names.csv\r\n"
     ]
    }
   ],
   "source": [
    "!ls ./data/"
   ]
  },
  {
   "cell_type": "code",
   "execution_count": 8,
   "metadata": {},
   "outputs": [
    {
     "data": {
      "text/plain": [
       "['Black-Male-Names.csv',\n",
       " 'Black-Female-Names.csv',\n",
       " 'Hispanic-Male-Names.csv',\n",
       " 'Hispanic-Female-Names.csv',\n",
       " 'White-Male-Names.csv',\n",
       " 'White-Female-Names.csv',\n",
       " 'Indian-Male-Names.csv',\n",
       " 'Indian-Female-Names.csv']"
      ]
     },
     "execution_count": 8,
     "metadata": {},
     "output_type": "execute_result"
    }
   ],
   "source": [
    "d_sets = ['Black-Male-Names.csv','Black-Female-Names.csv','Hispanic-Male-Names.csv','Hispanic-Female-Names.csv','White-Male-Names.csv','White-Female-Names.csv','Indian-Male-Names.csv','Indian-Female-Names.csv']\n",
    "d_sets"
   ]
  },
  {
   "cell_type": "code",
   "execution_count": 9,
   "metadata": {},
   "outputs": [],
   "source": [
    "import pandas as pd"
   ]
  },
  {
   "cell_type": "code",
   "execution_count": 10,
   "metadata": {},
   "outputs": [],
   "source": [
    "data_loc = './data/'"
   ]
  },
  {
   "cell_type": "code",
   "execution_count": 22,
   "metadata": {},
   "outputs": [],
   "source": [
    "def disp_d(name):\n",
    "    d2 = pd.read_csv(data_loc+name)\n",
    "    print(name,'\\n',d2.head())\n",
    "    print('size :',len(d2))\n",
    "    print('-----------------')"
   ]
  },
  {
   "cell_type": "code",
   "execution_count": 24,
   "metadata": {},
   "outputs": [
    {
     "name": "stdout",
     "output_type": "stream",
     "text": [
      "Black-Male-Names.csv \n",
      "   last name     first name gender   race\n",
      "0     aaron       aaric a       m  black\n",
      "1     aaron   dominique j       m  black\n",
      "2     aaron    fredrick r       m  black\n",
      "3     aaron       jarvis        m  black\n",
      "4     aaron      lorenzo        m  black\n",
      "size : 35081\n",
      "-----------------\n",
      "Black-Female-Names.csv \n",
      "   last name     first name gender   race\n",
      "0   abraham   tashanika l       f  black\n",
      "1     adams     denetra c       f  black\n",
      "2     adams     tomesha d       f  black\n",
      "3     adams    trellany c       f  black\n",
      "4  adderley     cynthia s       f  black\n",
      "size : 2438\n",
      "-----------------\n",
      "Hispanic-Male-Names.csv \n",
      "        last name    first name gender      race\n",
      "0           abad   jonathan r       m  hispanic\n",
      "1  abellas-bauzo   jonathan a       m  hispanic\n",
      "2          abreu       pablo        m  hispanic\n",
      "3     abreu sosa    basilio l       m  hispanic\n",
      "4   abreu-bolano      german        m  hispanic\n",
      "size : 4166\n",
      "-----------------\n",
      "Hispanic-Female-Names.csv \n",
      "   last name   first name gender      race\n",
      "0     adams   shirley m       f  hispanic\n",
      "1    alonso       ana d       f  hispanic\n",
      "2    alonzo     miriam        f  hispanic\n",
      "3   alvarez     ivette        f  hispanic\n",
      "4    amador      saray        f  hispanic\n",
      "size : 217\n",
      "-----------------\n",
      "White-Male-Names.csv \n",
      "   last name    first name gender   race\n",
      "0     aaron      billy r       m  white\n",
      "1     aaron    charles d       m  white\n",
      "2     aaron   clarence d       m  white\n",
      "3     aaron     justin c       m  white\n",
      "4     aaron        roy s       m  white\n",
      "size : 44048\n",
      "-----------------\n",
      "White-Female-Names.csv \n",
      "    last name     first name gender   race\n",
      "0     abbott      leslie b       f  white\n",
      "1     abbott       peggy s       f  white\n",
      "2  abernathy     rebecca r       f  white\n",
      "3     abidin   antoinette        f  white\n",
      "4       able    shaylene n       f  white\n",
      "size : 4600\n",
      "-----------------\n",
      "Indian-Male-Names.csv \n",
      "               name gender    race\n",
      "0          barjraj      m  indian\n",
      "1     ramdin verma      m  indian\n",
      "2  sharat chandran      m  indian\n",
      "3  birender mandal      m  indian\n",
      "4             amit      m  indian\n",
      "size : 14845\n",
      "-----------------\n",
      "Indian-Female-Names.csv \n",
      "               name gender    race\n",
      "0          shivani      f  indian\n",
      "1             isha      f  indian\n",
      "2  smt shyani devi      f  indian\n",
      "3            divya      f  indian\n",
      "4            mansi      f  indian\n",
      "size : 15382\n",
      "-----------------\n"
     ]
    }
   ],
   "source": [
    "for i in d_sets:\n",
    "    disp_d(i)"
   ]
  },
  {
   "cell_type": "code",
   "execution_count": null,
   "metadata": {},
   "outputs": [],
   "source": []
  }
 ],
 "metadata": {
  "kernelspec": {
   "display_name": "Python 3",
   "language": "python",
   "name": "python3"
  },
  "language_info": {
   "codemirror_mode": {
    "name": "ipython",
    "version": 3
   },
   "file_extension": ".py",
   "mimetype": "text/x-python",
   "name": "python",
   "nbconvert_exporter": "python",
   "pygments_lexer": "ipython3",
   "version": "3.6.8"
  }
 },
 "nbformat": 4,
 "nbformat_minor": 2
}
