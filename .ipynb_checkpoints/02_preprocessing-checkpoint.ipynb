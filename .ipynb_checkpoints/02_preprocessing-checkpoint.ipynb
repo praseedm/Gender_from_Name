{
 "cells": [
  {
   "cell_type": "code",
   "execution_count": 5,
   "metadata": {},
   "outputs": [],
   "source": [
    "import pandas as pd"
   ]
  },
  {
   "cell_type": "code",
   "execution_count": 30,
   "metadata": {},
   "outputs": [
    {
     "data": {
      "text/plain": [
       "['Indian-Male-Names.csv', 'Indian-Female-Names.csv']"
      ]
     },
     "execution_count": 30,
     "metadata": {},
     "output_type": "execute_result"
    }
   ],
   "source": [
    "data_loc = './data/'\n",
    "clean_loc = './data/clean/'\n",
    "d_sets = ['Indian-Male-Names.csv','Indian-Female-Names.csv']\n",
    "d_sets"
   ]
  },
  {
   "cell_type": "markdown",
   "metadata": {},
   "source": [
    "## Mapping In"
   ]
  },
  {
   "cell_type": "code",
   "execution_count": 7,
   "metadata": {},
   "outputs": [],
   "source": [
    "def disp_d(name,d_loc):\n",
    "    d2 = pd.read_csv(d_loc+name)\n",
    "    print(name,'\\n',d2.head())\n",
    "    print('size :',len(d2))\n",
    "    print('-----------------')"
   ]
  },
  {
   "cell_type": "code",
   "execution_count": 8,
   "metadata": {},
   "outputs": [
    {
     "name": "stdout",
     "output_type": "stream",
     "text": [
      "Indian-Male-Names.csv \n",
      "               name gender    race\n",
      "0          barjraj      m  indian\n",
      "1     ramdin verma      m  indian\n",
      "2  sharat chandran      m  indian\n",
      "3  birender mandal      m  indian\n",
      "4             amit      m  indian\n",
      "size : 14845\n",
      "-----------------\n",
      "Indian-Female-Names.csv \n",
      "               name gender    race\n",
      "0          shivani      f  indian\n",
      "1             isha      f  indian\n",
      "2  smt shyani devi      f  indian\n",
      "3            divya      f  indian\n",
      "4            mansi      f  indian\n",
      "size : 15382\n",
      "-----------------\n"
     ]
    }
   ],
   "source": [
    "for i in d_sets:\n",
    "    disp_d(i)"
   ]
  },
  {
   "cell_type": "code",
   "execution_count": 15,
   "metadata": {},
   "outputs": [],
   "source": [
    "ind_m = pd.read_csv(data_loc+d_sets[0])\n",
    "ind_f = pd.read_csv(data_loc+d_sets[1])"
   ]
  },
  {
   "cell_type": "markdown",
   "metadata": {},
   "source": [
    "### 1) Check for NULL Values"
   ]
  },
  {
   "cell_type": "code",
   "execution_count": 13,
   "metadata": {},
   "outputs": [
    {
     "data": {
      "text/plain": [
       "name      24\n",
       "gender     0\n",
       "race       0\n",
       "dtype: int64"
      ]
     },
     "execution_count": 13,
     "metadata": {},
     "output_type": "execute_result"
    }
   ],
   "source": [
    "ind_m.isna().sum()"
   ]
  },
  {
   "cell_type": "code",
   "execution_count": 16,
   "metadata": {},
   "outputs": [
    {
     "data": {
      "text/plain": [
       "name      31\n",
       "gender     0\n",
       "race       0\n",
       "dtype: int64"
      ]
     },
     "execution_count": 16,
     "metadata": {},
     "output_type": "execute_result"
    }
   ],
   "source": [
    "ind_f.isna().sum()"
   ]
  },
  {
   "cell_type": "markdown",
   "metadata": {},
   "source": [
    "### 2) Check for Duplicates"
   ]
  },
  {
   "cell_type": "code",
   "execution_count": 19,
   "metadata": {},
   "outputs": [
    {
     "data": {
      "text/plain": [
       "6325"
      ]
     },
     "execution_count": 19,
     "metadata": {},
     "output_type": "execute_result"
    }
   ],
   "source": [
    "ind_m.duplicated().sum()"
   ]
  },
  {
   "cell_type": "code",
   "execution_count": 20,
   "metadata": {},
   "outputs": [
    {
     "data": {
      "text/plain": [
       "8608"
      ]
     },
     "execution_count": 20,
     "metadata": {},
     "output_type": "execute_result"
    }
   ],
   "source": [
    "ind_f.duplicated().sum()"
   ]
  },
  {
   "cell_type": "markdown",
   "metadata": {},
   "source": [
    "## Drop duplicates"
   ]
  },
  {
   "cell_type": "code",
   "execution_count": 21,
   "metadata": {},
   "outputs": [],
   "source": [
    "ind_f.drop_duplicates(inplace=True)"
   ]
  },
  {
   "cell_type": "code",
   "execution_count": 22,
   "metadata": {},
   "outputs": [
    {
     "data": {
      "text/plain": [
       "6774"
      ]
     },
     "execution_count": 22,
     "metadata": {},
     "output_type": "execute_result"
    }
   ],
   "source": [
    "len(ind_f)"
   ]
  },
  {
   "cell_type": "code",
   "execution_count": 23,
   "metadata": {},
   "outputs": [
    {
     "data": {
      "text/plain": [
       "8520"
      ]
     },
     "execution_count": 23,
     "metadata": {},
     "output_type": "execute_result"
    }
   ],
   "source": [
    "ind_m.drop_duplicates(inplace=True)\n",
    "len(ind_m)"
   ]
  },
  {
   "cell_type": "code",
   "execution_count": 27,
   "metadata": {},
   "outputs": [
    {
     "data": {
      "text/plain": [
       "8519"
      ]
     },
     "execution_count": 27,
     "metadata": {},
     "output_type": "execute_result"
    }
   ],
   "source": [
    "ind_m.dropna(inplace=True)\n",
    "len(ind_m)"
   ]
  },
  {
   "cell_type": "code",
   "execution_count": 29,
   "metadata": {},
   "outputs": [
    {
     "data": {
      "text/plain": [
       "8519"
      ]
     },
     "execution_count": 29,
     "metadata": {},
     "output_type": "execute_result"
    }
   ],
   "source": [
    "ind_f.dropna(inplace=True)\n",
    "len(ind_m)"
   ]
  },
  {
   "cell_type": "markdown",
   "metadata": {},
   "source": [
    "### Prepocess"
   ]
  },
  {
   "cell_type": "code",
   "execution_count": 31,
   "metadata": {},
   "outputs": [],
   "source": [
    "def preprocess_ds(name):\n",
    "    d2 = pd.read_csv(data_loc+name)\n",
    "    print(name,'\\n')\n",
    "    print('Before :',len(d2))\n",
    "    print('Duplicates :', d2.duplicated().sum())\n",
    "    print('Null :', d2.isna().sum())\n",
    "    d2.drop_duplicates(inplace=True)\n",
    "    d2.dropna(inplace=True)\n",
    "    print('After :',len(d2))\n",
    "    d2.to_csv(clean_loc+name, index=False)\n",
    "    print('-----------------')"
   ]
  },
  {
   "cell_type": "code",
   "execution_count": 32,
   "metadata": {},
   "outputs": [
    {
     "data": {
      "text/plain": [
       "['Black-Male-Names.csv',\n",
       " 'Black-Female-Names.csv',\n",
       " 'Hispanic-Male-Names.csv',\n",
       " 'Hispanic-Female-Names.csv',\n",
       " 'White-Male-Names.csv',\n",
       " 'White-Female-Names.csv',\n",
       " 'Indian-Male-Names.csv',\n",
       " 'Indian-Female-Names.csv']"
      ]
     },
     "execution_count": 32,
     "metadata": {},
     "output_type": "execute_result"
    }
   ],
   "source": [
    "fd_sets = ['Black-Male-Names.csv','Black-Female-Names.csv','Hispanic-Male-Names.csv','Hispanic-Female-Names.csv','White-Male-Names.csv','White-Female-Names.csv','Indian-Male-Names.csv','Indian-Female-Names.csv']\n",
    "fd_sets"
   ]
  },
  {
   "cell_type": "code",
   "execution_count": 33,
   "metadata": {},
   "outputs": [
    {
     "name": "stdout",
     "output_type": "stream",
     "text": [
      "Black-Male-Names.csv \n",
      "\n",
      "Before : 35081\n",
      "Duplicates : 1029\n",
      "Null : last name     0\n",
      "first name    0\n",
      "gender        0\n",
      "race          0\n",
      "dtype: int64\n",
      "After : 34052\n",
      "-----------------\n",
      "Black-Female-Names.csv \n",
      "\n",
      "Before : 2438\n",
      "Duplicates : 2\n",
      "Null : last name      0\n",
      " first name    0\n",
      "gender         0\n",
      "race           0\n",
      "dtype: int64\n",
      "After : 2436\n",
      "-----------------\n",
      "Hispanic-Male-Names.csv \n",
      "\n",
      "Before : 4166\n",
      "Duplicates : 66\n",
      "Null : last name     0\n",
      "first name    0\n",
      "gender        0\n",
      "race          0\n",
      "dtype: int64\n",
      "After : 4100\n",
      "-----------------\n",
      "Hispanic-Female-Names.csv \n",
      "\n",
      "Before : 217\n",
      "Duplicates : 1\n",
      "Null : last name      0\n",
      " first name    0\n",
      "gender         0\n",
      "race           0\n",
      "dtype: int64\n",
      "After : 216\n",
      "-----------------\n",
      "White-Male-Names.csv \n",
      "\n",
      "Before : 44048\n",
      "Duplicates : 544\n",
      "Null : last name      3\n",
      " first name    0\n",
      "gender         0\n",
      "race           0\n",
      "dtype: int64\n",
      "After : 43501\n",
      "-----------------\n",
      "White-Female-Names.csv \n",
      "\n",
      "Before : 4600\n",
      "Duplicates : 7\n",
      "Null : last name      0\n",
      " first name    0\n",
      "gender         0\n",
      "race           0\n",
      "dtype: int64\n",
      "After : 4593\n",
      "-----------------\n",
      "Indian-Male-Names.csv \n",
      "\n",
      "Before : 14845\n",
      "Duplicates : 6325\n",
      "Null : name      24\n",
      "gender     0\n",
      "race       0\n",
      "dtype: int64\n",
      "After : 8519\n",
      "-----------------\n",
      "Indian-Female-Names.csv \n",
      "\n",
      "Before : 15382\n",
      "Duplicates : 8608\n",
      "Null : name      31\n",
      "gender     0\n",
      "race       0\n",
      "dtype: int64\n",
      "After : 6773\n",
      "-----------------\n"
     ]
    }
   ],
   "source": [
    "for i in fd_sets:\n",
    "    preprocess_ds(i)"
   ]
  },
  {
   "cell_type": "code",
   "execution_count": null,
   "metadata": {},
   "outputs": [],
   "source": []
  }
 ],
 "metadata": {
  "kernelspec": {
   "display_name": "Python 3",
   "language": "python",
   "name": "python3"
  },
  "language_info": {
   "codemirror_mode": {
    "name": "ipython",
    "version": 3
   },
   "file_extension": ".py",
   "mimetype": "text/x-python",
   "name": "python",
   "nbconvert_exporter": "python",
   "pygments_lexer": "ipython3",
   "version": "3.6.8"
  }
 },
 "nbformat": 4,
 "nbformat_minor": 2
}
