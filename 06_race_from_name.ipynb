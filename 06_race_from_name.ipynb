{
 "cells": [
  {
   "cell_type": "code",
   "execution_count": 1,
   "metadata": {},
   "outputs": [],
   "source": [
    "import pandas as pd\n",
    "import re"
   ]
  },
  {
   "cell_type": "code",
   "execution_count": 2,
   "metadata": {},
   "outputs": [
    {
     "data": {
      "text/plain": [
       "['Black-Male-Names.csv',\n",
       " 'Black-Female-Names.csv',\n",
       " 'Hispanic-Male-Names.csv',\n",
       " 'Hispanic-Female-Names.csv',\n",
       " 'White-Male-Names.csv',\n",
       " 'White-Female-Names.csv',\n",
       " 'Indian-Male-Names.csv',\n",
       " 'Indian-Female-Names.csv']"
      ]
     },
     "execution_count": 2,
     "metadata": {},
     "output_type": "execute_result"
    }
   ],
   "source": [
    "s_loc = './data/sample/'\n",
    "d_sets = ['Black-Male-Names.csv','Black-Female-Names.csv','Hispanic-Male-Names.csv','Hispanic-Female-Names.csv','White-Male-Names.csv','White-Female-Names.csv','Indian-Male-Names.csv','Indian-Female-Names.csv']\n",
    "d_sets"
   ]
  },
  {
   "cell_type": "code",
   "execution_count": 3,
   "metadata": {},
   "outputs": [
    {
     "data": {
      "text/plain": [
       "{'gender': {0: 'Male', 1: 'Female'},\n",
       " 'race': {0: 'black', 1: 'hispanic', 2: 'white', 3: 'indian'}}"
      ]
     },
     "execution_count": 3,
     "metadata": {},
     "output_type": "execute_result"
    }
   ],
   "source": [
    "map_info = {'gender': {0:'Male',1:'Female'}, 'race' : {0:'black',1:'hispanic',2:'white',3:'indian'}}\n",
    "map_info"
   ]
  },
  {
   "cell_type": "code",
   "execution_count": 4,
   "metadata": {},
   "outputs": [],
   "source": [
    "data = pd.DataFrame([])"
   ]
  },
  {
   "cell_type": "code",
   "execution_count": 5,
   "metadata": {},
   "outputs": [],
   "source": [
    "#rows_c = 1000\n",
    "for i in d_sets:\n",
    "    temp = pd.read_csv(s_loc+i)#,nrows=rows_c)\n",
    "    data = data.append(temp)"
   ]
  },
  {
   "cell_type": "code",
   "execution_count": 6,
   "metadata": {},
   "outputs": [
    {
     "data": {
      "text/html": [
       "<div>\n",
       "<style scoped>\n",
       "    .dataframe tbody tr th:only-of-type {\n",
       "        vertical-align: middle;\n",
       "    }\n",
       "\n",
       "    .dataframe tbody tr th {\n",
       "        vertical-align: top;\n",
       "    }\n",
       "\n",
       "    .dataframe thead th {\n",
       "        text-align: right;\n",
       "    }\n",
       "</style>\n",
       "<table border=\"1\" class=\"dataframe\">\n",
       "  <thead>\n",
       "    <tr style=\"text-align: right;\">\n",
       "      <th></th>\n",
       "      <th>name</th>\n",
       "      <th>gender</th>\n",
       "      <th>race</th>\n",
       "      <th>length</th>\n",
       "      <th>fl_is_v</th>\n",
       "      <th>ll_is_v</th>\n",
       "      <th>first_2</th>\n",
       "      <th>last_2</th>\n",
       "      <th>first_3</th>\n",
       "      <th>last_3</th>\n",
       "    </tr>\n",
       "  </thead>\n",
       "  <tbody>\n",
       "    <tr>\n",
       "      <th>0</th>\n",
       "      <td>aaric</td>\n",
       "      <td>0</td>\n",
       "      <td>0</td>\n",
       "      <td>5</td>\n",
       "      <td>1</td>\n",
       "      <td>0</td>\n",
       "      <td>aa</td>\n",
       "      <td>ic</td>\n",
       "      <td>aar</td>\n",
       "      <td>ric</td>\n",
       "    </tr>\n",
       "    <tr>\n",
       "      <th>1</th>\n",
       "      <td>dominique</td>\n",
       "      <td>0</td>\n",
       "      <td>0</td>\n",
       "      <td>9</td>\n",
       "      <td>0</td>\n",
       "      <td>1</td>\n",
       "      <td>do</td>\n",
       "      <td>ue</td>\n",
       "      <td>dom</td>\n",
       "      <td>que</td>\n",
       "    </tr>\n",
       "    <tr>\n",
       "      <th>2</th>\n",
       "      <td>fredrick</td>\n",
       "      <td>0</td>\n",
       "      <td>0</td>\n",
       "      <td>8</td>\n",
       "      <td>0</td>\n",
       "      <td>0</td>\n",
       "      <td>fr</td>\n",
       "      <td>ck</td>\n",
       "      <td>fre</td>\n",
       "      <td>ick</td>\n",
       "    </tr>\n",
       "    <tr>\n",
       "      <th>3</th>\n",
       "      <td>jarvis</td>\n",
       "      <td>0</td>\n",
       "      <td>0</td>\n",
       "      <td>6</td>\n",
       "      <td>0</td>\n",
       "      <td>0</td>\n",
       "      <td>ja</td>\n",
       "      <td>is</td>\n",
       "      <td>jar</td>\n",
       "      <td>vis</td>\n",
       "    </tr>\n",
       "    <tr>\n",
       "      <th>4</th>\n",
       "      <td>lorenzo</td>\n",
       "      <td>0</td>\n",
       "      <td>0</td>\n",
       "      <td>7</td>\n",
       "      <td>0</td>\n",
       "      <td>1</td>\n",
       "      <td>lo</td>\n",
       "      <td>zo</td>\n",
       "      <td>lor</td>\n",
       "      <td>nzo</td>\n",
       "    </tr>\n",
       "    <tr>\n",
       "      <th>5</th>\n",
       "      <td>paul</td>\n",
       "      <td>0</td>\n",
       "      <td>0</td>\n",
       "      <td>4</td>\n",
       "      <td>0</td>\n",
       "      <td>0</td>\n",
       "      <td>pa</td>\n",
       "      <td>ul</td>\n",
       "      <td>pau</td>\n",
       "      <td>aul</td>\n",
       "    </tr>\n",
       "    <tr>\n",
       "      <th>6</th>\n",
       "      <td>richard</td>\n",
       "      <td>0</td>\n",
       "      <td>0</td>\n",
       "      <td>7</td>\n",
       "      <td>0</td>\n",
       "      <td>0</td>\n",
       "      <td>ri</td>\n",
       "      <td>rd</td>\n",
       "      <td>ric</td>\n",
       "      <td>ard</td>\n",
       "    </tr>\n",
       "    <tr>\n",
       "      <th>7</th>\n",
       "      <td>tyler</td>\n",
       "      <td>0</td>\n",
       "      <td>0</td>\n",
       "      <td>5</td>\n",
       "      <td>0</td>\n",
       "      <td>0</td>\n",
       "      <td>ty</td>\n",
       "      <td>er</td>\n",
       "      <td>tyl</td>\n",
       "      <td>ler</td>\n",
       "    </tr>\n",
       "    <tr>\n",
       "      <th>8</th>\n",
       "      <td>elsharnoubi</td>\n",
       "      <td>0</td>\n",
       "      <td>0</td>\n",
       "      <td>11</td>\n",
       "      <td>1</td>\n",
       "      <td>1</td>\n",
       "      <td>el</td>\n",
       "      <td>bi</td>\n",
       "      <td>els</td>\n",
       "      <td>ubi</td>\n",
       "    </tr>\n",
       "    <tr>\n",
       "      <th>9</th>\n",
       "      <td>calvin</td>\n",
       "      <td>0</td>\n",
       "      <td>0</td>\n",
       "      <td>6</td>\n",
       "      <td>0</td>\n",
       "      <td>0</td>\n",
       "      <td>ca</td>\n",
       "      <td>in</td>\n",
       "      <td>cal</td>\n",
       "      <td>vin</td>\n",
       "    </tr>\n",
       "  </tbody>\n",
       "</table>\n",
       "</div>"
      ],
      "text/plain": [
       "          name  gender  race  length  fl_is_v  ll_is_v first_2 last_2 first_3  \\\n",
       "0        aaric       0     0       5        1        0      aa     ic     aar   \n",
       "1    dominique       0     0       9        0        1      do     ue     dom   \n",
       "2     fredrick       0     0       8        0        0      fr     ck     fre   \n",
       "3       jarvis       0     0       6        0        0      ja     is     jar   \n",
       "4      lorenzo       0     0       7        0        1      lo     zo     lor   \n",
       "5         paul       0     0       4        0        0      pa     ul     pau   \n",
       "6      richard       0     0       7        0        0      ri     rd     ric   \n",
       "7        tyler       0     0       5        0        0      ty     er     tyl   \n",
       "8  elsharnoubi       0     0      11        1        1      el     bi     els   \n",
       "9       calvin       0     0       6        0        0      ca     in     cal   \n",
       "\n",
       "  last_3  \n",
       "0    ric  \n",
       "1    que  \n",
       "2    ick  \n",
       "3    vis  \n",
       "4    nzo  \n",
       "5    aul  \n",
       "6    ard  \n",
       "7    ler  \n",
       "8    ubi  \n",
       "9    vin  "
      ]
     },
     "execution_count": 6,
     "metadata": {},
     "output_type": "execute_result"
    }
   ],
   "source": [
    "data.head(10)"
   ]
  },
  {
   "cell_type": "code",
   "execution_count": 220,
   "metadata": {},
   "outputs": [],
   "source": [
    "data.dropna(inplace=True)"
   ]
  },
  {
   "cell_type": "code",
   "execution_count": 221,
   "metadata": {
    "scrolled": true
   },
   "outputs": [
    {
     "data": {
      "text/plain": [
       "0    27656\n",
       "1    16192\n",
       "Name: gender, dtype: int64"
      ]
     },
     "execution_count": 221,
     "metadata": {},
     "output_type": "execute_result"
    }
   ],
   "source": [
    "data.gender.value_counts()"
   ]
  },
  {
   "cell_type": "code",
   "execution_count": 222,
   "metadata": {},
   "outputs": [
    {
     "data": {
      "text/plain": [
       "3    17712\n",
       "0    13137\n",
       "2     9063\n",
       "1     3936\n",
       "Name: race, dtype: int64"
      ]
     },
     "execution_count": 222,
     "metadata": {},
     "output_type": "execute_result"
    }
   ],
   "source": [
    "data.race.value_counts()"
   ]
  },
  {
   "cell_type": "markdown",
   "metadata": {},
   "source": [
    "#### X & Y"
   ]
  },
  {
   "cell_type": "code",
   "execution_count": 223,
   "metadata": {},
   "outputs": [
    {
     "data": {
      "text/plain": [
       "Index(['name', 'gender', 'race', 'length', 'fl_is_v', 'll_is_v', 'first_2',\n",
       "       'last_2', 'first_3', 'last_3'],\n",
       "      dtype='object')"
      ]
     },
     "execution_count": 223,
     "metadata": {},
     "output_type": "execute_result"
    }
   ],
   "source": [
    "data.columns"
   ]
  },
  {
   "cell_type": "code",
   "execution_count": 224,
   "metadata": {},
   "outputs": [],
   "source": [
    "c_list = ['length','ll_is_v','last_2','first_2']"
   ]
  },
  {
   "cell_type": "code",
   "execution_count": 225,
   "metadata": {},
   "outputs": [],
   "source": [
    "X = data.iloc[:,3:]#data[c_list]"
   ]
  },
  {
   "cell_type": "code",
   "execution_count": 226,
   "metadata": {},
   "outputs": [
    {
     "data": {
      "text/plain": [
       "43848"
      ]
     },
     "execution_count": 226,
     "metadata": {},
     "output_type": "execute_result"
    }
   ],
   "source": [
    "y = data.race.values\n",
    "len(y)"
   ]
  },
  {
   "cell_type": "markdown",
   "metadata": {},
   "source": [
    "### Train-Test split"
   ]
  },
  {
   "cell_type": "code",
   "execution_count": 227,
   "metadata": {},
   "outputs": [],
   "source": [
    "from sklearn.model_selection import train_test_split"
   ]
  },
  {
   "cell_type": "code",
   "execution_count": 228,
   "metadata": {},
   "outputs": [],
   "source": [
    "X_train, X_test, y_train, y_test = train_test_split(X,y,test_size=0.2)"
   ]
  },
  {
   "cell_type": "code",
   "execution_count": 229,
   "metadata": {},
   "outputs": [
    {
     "data": {
      "text/plain": [
       "3    3556\n",
       "0    2575\n",
       "2    1858\n",
       "1     781\n",
       "dtype: int64"
      ]
     },
     "execution_count": 229,
     "metadata": {},
     "output_type": "execute_result"
    }
   ],
   "source": [
    "pd.Series(y_test).value_counts()"
   ]
  },
  {
   "cell_type": "markdown",
   "metadata": {},
   "source": [
    "### Utiities"
   ]
  },
  {
   "cell_type": "code",
   "execution_count": 19,
   "metadata": {},
   "outputs": [],
   "source": [
    "def name_prep(word):\n",
    "    #te = re.sub(r'/.*|@.*','',word).strip()\n",
    "    te = str(word).lower()\n",
    "    te = re.sub(r'[^a-z.\\s].*','',te).strip()\n",
    "    te = re.sub(r'[^a-z ]+','',te).strip()\n",
    "    te = re.sub(r' +',' ',te).strip()\n",
    "    te = re.sub(r'along.*|with.*|and.*',' ',te).strip()\n",
    "    #te = re.sub(r'\\b\\w$|\\b\\w\\w$','',te).strip()\n",
    "    te = re.sub(r'\\b\\w\\b|\\b\\w\\w\\b','',te).strip()\n",
    "    #te = re.sub(r'\\bna\\b|\\bNaN\\b','',te).strip()\n",
    "    if(len(te) < 3):\n",
    "        return None\n",
    "    else:\n",
    "        return te"
   ]
  },
  {
   "cell_type": "code",
   "execution_count": 20,
   "metadata": {},
   "outputs": [],
   "source": [
    "def conv_input(name,vectorizer):\n",
    "    pre = name\n",
    "    return vectorizer.transform([pre])"
   ]
  },
  {
   "cell_type": "code",
   "execution_count": 21,
   "metadata": {},
   "outputs": [],
   "source": [
    "def predict_from_name(model,name,vectorizer):\n",
    "    pre = name_prep(name)\n",
    "    if(pre is None):\n",
    "        print(\"Invalid !!!\")\n",
    "        return\n",
    "    else:\n",
    "        p = model.predict(conv_input(pre,vectorizer).toarray())\n",
    "        print(\"Name : \",name,\"\\n\",\"Race :\",map_info['race'][p[0]])"
   ]
  },
  {
   "cell_type": "markdown",
   "metadata": {},
   "source": [
    "### Character Vectorization"
   ]
  },
  {
   "cell_type": "code",
   "execution_count": 255,
   "metadata": {},
   "outputs": [],
   "source": [
    "names = data.name"
   ]
  },
  {
   "cell_type": "code",
   "execution_count": 256,
   "metadata": {},
   "outputs": [],
   "source": [
    "name_train, name_test, race_train, race_test = train_test_split(names,y,test_size=0.2)"
   ]
  },
  {
   "cell_type": "code",
   "execution_count": 22,
   "metadata": {},
   "outputs": [],
   "source": [
    "def name_to_list(names):\n",
    "    return list(map(lambda x: str(x),names))"
   ]
  },
  {
   "cell_type": "code",
   "execution_count": 257,
   "metadata": {},
   "outputs": [],
   "source": [
    "names_list = name_to_list(name_train)"
   ]
  },
  {
   "cell_type": "markdown",
   "metadata": {},
   "source": [
    "* Character count Vectorizer"
   ]
  },
  {
   "cell_type": "code",
   "execution_count": 258,
   "metadata": {},
   "outputs": [],
   "source": [
    "from sklearn.feature_extraction.text import CountVectorizer"
   ]
  },
  {
   "cell_type": "code",
   "execution_count": 259,
   "metadata": {},
   "outputs": [],
   "source": [
    "char_vec = CountVectorizer(lowercase=True,token_pattern='.')"
   ]
  },
  {
   "cell_type": "code",
   "execution_count": 260,
   "metadata": {},
   "outputs": [],
   "source": [
    "char_name_vec = char_vec.fit_transform(names_list)"
   ]
  },
  {
   "cell_type": "code",
   "execution_count": 261,
   "metadata": {},
   "outputs": [
    {
     "data": {
      "text/plain": [
       "<35078x27 sparse matrix of type '<class 'numpy.int64'>'\n",
       "\twith 222675 stored elements in Compressed Sparse Row format>"
      ]
     },
     "execution_count": 261,
     "metadata": {},
     "output_type": "execute_result"
    }
   ],
   "source": [
    "char_name_vec"
   ]
  },
  {
   "cell_type": "code",
   "execution_count": 262,
   "metadata": {},
   "outputs": [
    {
     "name": "stdout",
     "output_type": "stream",
     "text": [
      "{'d': 4, 'e': 5, 'v': 22, 'i': 9, 'n': 14, 'k': 11, 'r': 18, 'a': 1, 'g': 7, 'l': 12, 'x': 24, 's': 19, 'm': 13, 't': 20, ' ': 0, 'p': 16, 'h': 8, 'u': 21, 'w': 23, 'j': 10, 'o': 15, 'b': 2, 'y': 25, 'f': 6, 'c': 3, 'q': 17, 'z': 26}\n"
     ]
    }
   ],
   "source": [
    "print(char_vec.vocabulary_)"
   ]
  },
  {
   "cell_type": "markdown",
   "metadata": {},
   "source": [
    "### Model"
   ]
  },
  {
   "cell_type": "code",
   "execution_count": 263,
   "metadata": {},
   "outputs": [],
   "source": [
    "train_score = {}\n",
    "test_score = {}"
   ]
  },
  {
   "cell_type": "code",
   "execution_count": 264,
   "metadata": {},
   "outputs": [],
   "source": [
    "from sklearn.metrics import classification_report,accuracy_score,confusion_matrix,f1_score"
   ]
  },
  {
   "cell_type": "code",
   "execution_count": 265,
   "metadata": {},
   "outputs": [],
   "source": [
    "from sklearn.naive_bayes import GaussianNB"
   ]
  },
  {
   "cell_type": "markdown",
   "metadata": {},
   "source": [
    "* Naive Bayes"
   ]
  },
  {
   "cell_type": "code",
   "execution_count": 266,
   "metadata": {},
   "outputs": [],
   "source": [
    "model_1 = 'NavieB'"
   ]
  },
  {
   "cell_type": "code",
   "execution_count": 267,
   "metadata": {},
   "outputs": [],
   "source": [
    "naive_b = GaussianNB()"
   ]
  },
  {
   "cell_type": "code",
   "execution_count": 268,
   "metadata": {},
   "outputs": [
    {
     "data": {
      "text/plain": [
       "GaussianNB(priors=None, var_smoothing=1e-09)"
      ]
     },
     "execution_count": 268,
     "metadata": {},
     "output_type": "execute_result"
    }
   ],
   "source": [
    "naive_b.fit(char_name_vec.toarray(),y_train)"
   ]
  },
  {
   "cell_type": "code",
   "execution_count": 269,
   "metadata": {},
   "outputs": [],
   "source": [
    "p = naive_b.predict(conv_input('Narendra Modi',char_vec).toarray())"
   ]
  },
  {
   "cell_type": "code",
   "execution_count": 270,
   "metadata": {},
   "outputs": [
    {
     "name": "stdout",
     "output_type": "stream",
     "text": [
      "Name :  Narendra Modi \n",
      " Race : indian\n"
     ]
    }
   ],
   "source": [
    "predict_from_name(naive_b,'Narendra Modi',char_vec)"
   ]
  },
  {
   "cell_type": "code",
   "execution_count": 271,
   "metadata": {},
   "outputs": [
    {
     "data": {
      "text/plain": [
       "0.38528422372997323"
      ]
     },
     "execution_count": 271,
     "metadata": {},
     "output_type": "execute_result"
    }
   ],
   "source": [
    "naive_b.score(char_name_vec.toarray(),y_train)"
   ]
  },
  {
   "cell_type": "code",
   "execution_count": 272,
   "metadata": {},
   "outputs": [
    {
     "data": {
      "text/plain": [
       "0.36875712656784493"
      ]
     },
     "execution_count": 272,
     "metadata": {},
     "output_type": "execute_result"
    }
   ],
   "source": [
    "naive_b.score(char_vec.transform(name_to_list(name_test)).toarray(),race_test)"
   ]
  },
  {
   "cell_type": "markdown",
   "metadata": {},
   "source": [
    "## Custom Features"
   ]
  },
  {
   "cell_type": "code",
   "execution_count": 230,
   "metadata": {},
   "outputs": [],
   "source": [
    "from sklearn.feature_extraction import DictVectorizer"
   ]
  },
  {
   "cell_type": "code",
   "execution_count": 231,
   "metadata": {},
   "outputs": [],
   "source": [
    "m_result = {'train_score' : {},'test_score' : {}}"
   ]
  },
  {
   "cell_type": "code",
   "execution_count": 232,
   "metadata": {},
   "outputs": [],
   "source": [
    "custom_vec = DictVectorizer()"
   ]
  },
  {
   "cell_type": "code",
   "execution_count": 233,
   "metadata": {},
   "outputs": [],
   "source": [
    "train_features = custom_vec.fit_transform(X_train.to_dict(orient='records')) # convert dataframe to dict like records"
   ]
  },
  {
   "cell_type": "code",
   "execution_count": 234,
   "metadata": {},
   "outputs": [
    {
     "data": {
      "text/plain": [
       "<35078x5440 sparse matrix of type '<class 'numpy.float64'>'\n",
       "\twith 195773 stored elements in Compressed Sparse Row format>"
      ]
     },
     "execution_count": 234,
     "metadata": {},
     "output_type": "execute_result"
    }
   ],
   "source": [
    "train_features"
   ]
  },
  {
   "cell_type": "code",
   "execution_count": 235,
   "metadata": {},
   "outputs": [
    {
     "name": "stdout",
     "output_type": "stream",
     "text": [
      "['first_2=aa', 'first_2=ab', 'first_2=ac', 'first_2=ad', 'first_2=ae', 'first_2=af', 'first_2=ag', 'first_2=ah', 'first_2=ai', 'first_2=aj', 'first_2=ak', 'first_2=al', 'first_2=am', 'first_2=an', 'first_2=ao', 'first_2=ap', 'first_2=aq', 'first_2=ar', 'first_2=as', 'first_2=at', 'first_2=au', 'first_2=av', 'first_2=aw', 'first_2=ax', 'first_2=ay', 'first_2=az', 'first_2=ba', 'first_2=be', 'first_2=bh', 'first_2=bi', 'first_2=bl', 'first_2=bo', 'first_2=br', 'first_2=bu', 'first_2=by', 'first_2=ca', 'first_2=ce', 'first_2=ch', 'first_2=ci', 'first_2=cl', 'first_2=co', 'first_2=cr', 'first_2=cs', 'first_2=cu', 'first_2=cy', 'first_2=da', 'first_2=dc', 'first_2=de', 'first_2=dh', 'first_2=di', 'first_2=dj', 'first_2=dm', 'first_2=do', 'first_2=dq', 'first_2=dr', 'first_2=ds', 'first_2=du', 'first_2=dv', 'first_2=dw', 'first_2=dy', 'first_2=ea', 'first_2=eb', 'first_2=ec', 'first_2=ed', 'first_2=ee', 'first_2=ef', 'first_2=eg', 'first_2=eh', 'first_2=ei', 'first_2=ek', 'first_2=el', 'first_2=em', 'first_2=en', 'first_2=ep', 'first_2=er', 'first_2=es', 'first_2=et', 'first_2=eu', 'first_2=ev', 'first_2=ex', 'first_2=ey', 'first_2=ez', 'first_2=fa', 'first_2=fe', 'first_2=fh', 'first_2=fi', 'first_2=fl', 'first_2=fo', 'first_2=fr', 'first_2=fu', 'first_2=ga', 'first_2=gd', 'first_2=ge', 'first_2=gh', 'first_2=gi', 'first_2=gj', 'first_2=gl', 'first_2=gm', 'first_2=go', 'first_2=gr', 'first_2=gu', 'first_2=gw', 'first_2=gy', 'first_2=ha', 'first_2=he', 'first_2=hi', 'first_2=hk', 'first_2=ho', 'first_2=hr', 'first_2=hu', 'first_2=hy', 'first_2=i ', 'first_2=ia', 'first_2=ib', 'first_2=ic', 'first_2=id', 'first_2=ie', 'first_2=ig', 'first_2=ih', 'first_2=ii', 'first_2=ij', 'first_2=ik', 'first_2=il', 'first_2=im', 'first_2=in', 'first_2=io', 'first_2=iq', 'first_2=ir', 'first_2=is', 'first_2=it', 'first_2=iv', 'first_2=ix', 'first_2=iy', 'first_2=iz', 'first_2=ja', 'first_2=jd', 'first_2=je', 'first_2=jh', 'first_2=ji', 'first_2=jj', 'first_2=jm', 'first_2=jn', 'first_2=jo', 'first_2=jr', 'first_2=ju', 'first_2=jw', 'first_2=jy', 'first_2=k ', 'first_2=ka', 'first_2=kb', 'first_2=kc', 'first_2=ke', 'first_2=kh', 'first_2=ki', 'first_2=kj', 'first_2=kl', 'first_2=km', 'first_2=kn', 'first_2=ko', 'first_2=kr', 'first_2=ku', 'first_2=kv', 'first_2=kw', 'first_2=ky', 'first_2=la', 'first_2=le', 'first_2=li', 'first_2=ll', 'first_2=lo', 'first_2=lt', 'first_2=lu', 'first_2=lw', 'first_2=ly', 'first_2=ma', 'first_2=mc', 'first_2=md', 'first_2=me', 'first_2=mh', 'first_2=mi', 'first_2=mj', 'first_2=ml', 'first_2=mm', 'first_2=mn', 'first_2=mo', 'first_2=mr', 'first_2=mu', 'first_2=my', 'first_2=nc', 'first_2=ne', 'first_2=ng', 'first_2=nh', 'first_2=ni', 'first_2=nj', 'first_2=nk', 'first_2=nn', 'first_2=no', 'first_2=nr', 'first_2=ns', 'first_2=nt', 'first_2=nu', 'first_2=nw', 'first_2=ny', 'first_2=oa', 'first_2=ob', 'first_2=oc', 'first_2=od', 'first_2=og', 'first_2=oh', 'first_2=oj', 'first_2=ok', 'first_2=ol', 'first_2=om', 'first_2=on', 'first_2=op', 'first_2=or', 'first_2=os', 'first_2=ot', 'first_2=ou', 'first_2=ov', 'first_2=ow', 'first_2=ox', 'first_2=oz', 'first_2=pa', 'first_2=pe', 'first_2=ph', 'first_2=pi', 'first_2=pk', 'first_2=pl', 'first_2=po', 'first_2=pp', 'first_2=pr', 'first_2=pu', 'first_2=py', 'first_2=qa', 'first_2=qi', 'first_2=ql', 'first_2=qm', 'first_2=qo', 'first_2=qu', 'first_2=qw', 'first_2=r ', 'first_2=ra', 'first_2=rb', 'first_2=rc', 'first_2=re', 'first_2=rg', 'first_2=rh', 'first_2=ri', 'first_2=rk', 'first_2=rm', 'first_2=ro', 'first_2=rs', 'first_2=ru', 'first_2=rv', 'first_2=ry', 'first_2=sa', 'first_2=sc', 'first_2=se', 'first_2=sh', 'first_2=si', 'first_2=sk', 'first_2=sl', 'first_2=sm', 'first_2=sn', 'first_2=so', 'first_2=sp', 'first_2=sr', 'first_2=ss', 'first_2=st', 'first_2=su', 'first_2=sw', 'first_2=sy', 'first_2=ta', 'first_2=te', 'first_2=tf', 'first_2=th', 'first_2=ti', 'first_2=tj', 'first_2=to', 'first_2=tr', 'first_2=ts', 'first_2=tt', 'first_2=tu', 'first_2=tw', 'first_2=ty', 'first_2=ub', 'first_2=ud', 'first_2=ug', 'first_2=uj', 'first_2=uk', 'first_2=ul', 'first_2=um', 'first_2=un', 'first_2=up', 'first_2=ur', 'first_2=us', 'first_2=ut', 'first_2=uv', 'first_2=uw', 'first_2=va', 'first_2=vd', 'first_2=ve', 'first_2=vi', 'first_2=vj', 'first_2=vl', 'first_2=vn', 'first_2=vo', 'first_2=vr', 'first_2=vu', 'first_2=wa', 'first_2=we', 'first_2=wh', 'first_2=wi', 'first_2=wo', 'first_2=wr', 'first_2=wy', 'first_2=xa', 'first_2=xx', 'first_2=xz', 'first_2=ya', 'first_2=ye', 'first_2=yi', 'first_2=yk', 'first_2=yo', 'first_2=yt', 'first_2=yu', 'first_2=yv', 'first_2=za', 'first_2=ze', 'first_2=zh', 'first_2=zi', 'first_2=zl', 'first_2=zm', 'first_2=zo', 'first_2=zr', 'first_2=zs', 'first_2=zu', 'first_2=zy', 'first_3=aab', 'first_3=aac', 'first_3=aad', 'first_3=aae', 'first_3=aaf', 'first_3=aag', 'first_3=aah', 'first_3=aaj', 'first_3=aak', 'first_3=aal', 'first_3=aam', 'first_3=aan', 'first_3=aaq', 'first_3=aar', 'first_3=aas', 'first_3=aat', 'first_3=aav', 'first_3=aay', 'first_3=aaz', 'first_3=aba', 'first_3=abb', 'first_3=abd', 'first_3=abe', 'first_3=abh', 'first_3=abi', 'first_3=abl', 'first_3=abn', 'first_3=abo', 'first_3=abr', 'first_3=abs', 'first_3=abu', 'first_3=ace', 'first_3=ach', 'first_3=ack', 'first_3=aco', 'first_3=acq', 'first_3=act', 'first_3=ada', 'first_3=add', 'first_3=ade', 'first_3=adh', 'first_3=adi', 'first_3=adl', 'first_3=adm', 'first_3=adn', 'first_3=ado', 'first_3=adr', 'first_3=aej', 'first_3=ael', 'first_3=aer', 'first_3=aes', 'first_3=afe', 'first_3=aff', 'first_3=afg', 'first_3=afi', 'first_3=afj', 'first_3=afn', 'first_3=afr', 'first_3=afs', 'first_3=aft', 'first_3=afz', 'first_3=aga', 'first_3=age', 'first_3=agu', 'first_3=agy', 'first_3=aha', 'first_3=ahm', 'first_3=ahq', 'first_3=ahs', 'first_3=ahu', 'first_3=aid', 'first_3=aij', 'first_3=ail', 'first_3=aim', 'first_3=ain', 'first_3=air', 'first_3=ais', 'first_3=aja', 'first_3=ajb', 'first_3=aje', 'first_3=aji', 'first_3=ajj', 'first_3=ajm', 'first_3=ajn', 'first_3=aka', 'first_3=akb', 'first_3=ake', 'first_3=akh', 'first_3=aki', 'first_3=akk', 'first_3=akm', 'first_3=ako', 'first_3=akr', 'first_3=aks', 'first_3=akt', 'first_3=aky', 'first_3=ala', 'first_3=alb', 'first_3=alc', 'first_3=ald', 'first_3=ale', 'first_3=alf', 'first_3=alg', 'first_3=alh', 'first_3=ali', 'first_3=alj', 'first_3=alk', 'first_3=all', 'first_3=alm', 'first_3=aln', 'first_3=alo', 'first_3=alp', 'first_3=alq', 'first_3=alr', 'first_3=als', 'first_3=alt', 'first_3=alu', 'first_3=alv', 'first_3=aly', 'first_3=am ', 'first_3=ama', 'first_3=amb', 'first_3=ame', 'first_3=ami', 'first_3=amj', 'first_3=amk', 'first_3=aml', 'first_3=amm', 'first_3=amo', 'first_3=amr', 'first_3=amu', 'first_3=amy', 'first_3=amz', 'first_3=anb', 'first_3=anc', 'first_3=ane', 'first_3=anf', 'first_3=ang', 'first_3=ani', 'first_3=anj', 'first_3=ank', 'first_3=anl', 'first_3=anm', 'first_3=ann', 'first_3=ano', 'first_3=anq', 'first_3=anr', 'first_3=ans', 'first_3=ant', 'first_3=anu', 'first_3=anv', 'first_3=anw', 'first_3=any', 'first_3=anz', 'first_3=aoo', 'first_3=apa', 'first_3=aph', 'first_3=apo', 'first_3=apr', 'first_3=aps', 'first_3=aqu', 'first_3=aqw', 'first_3=ara', 'first_3=arb', 'first_3=arc', 'first_3=ard', 'first_3=are', 'first_3=arf', 'first_3=arg', 'first_3=arh', 'first_3=ari', 'first_3=arj', 'first_3=ark', 'first_3=arl', 'first_3=arm', 'first_3=arn', 'first_3=aro', 'first_3=arp', 'first_3=arq', 'first_3=arr', 'first_3=ars', 'first_3=art', 'first_3=aru', 'first_3=arv', 'first_3=ary', 'first_3=arz', 'first_3=asa', 'first_3=asb', 'first_3=asc', 'first_3=ase', 'first_3=asg', 'first_3=ash', 'first_3=asi', 'first_3=ask', 'first_3=asl', 'first_3=asm', 'first_3=asr', 'first_3=ast', 'first_3=asu', 'first_3=asw', 'first_3=ata', 'first_3=ate', 'first_3=ath', 'first_3=ati', 'first_3=atl', 'first_3=atr', 'first_3=att', 'first_3=atu', 'first_3=atw', 'first_3=aub', 'first_3=aud', 'first_3=aug', 'first_3=auk', 'first_3=aum', 'first_3=aun', 'first_3=aur', 'first_3=aus', 'first_3=aut', 'first_3=ava', 'first_3=avd', 'first_3=ave', 'first_3=avf', 'first_3=avi', 'first_3=avn', 'first_3=avo', 'first_3=avt', 'first_3=awd', 'first_3=awe', 'first_3=awl', 'first_3=axa', 'first_3=axe', 'first_3=axz', 'first_3=aya', 'first_3=ayd', 'first_3=aye', 'first_3=ays', 'first_3=ayu', 'first_3=aza', 'first_3=aze', 'first_3=azh', 'first_3=azi', 'first_3=azo', 'first_3=azr', 'first_3=bab', 'first_3=bac', 'first_3=bad', 'first_3=bae', 'first_3=bag', 'first_3=bah', 'first_3=bai', 'first_3=baj', 'first_3=bak', 'first_3=bal', 'first_3=ban', 'first_3=bap', 'first_3=bar', 'first_3=bas', 'first_3=bat', 'first_3=bau', 'first_3=bav', 'first_3=baw', 'first_3=bax', 'first_3=bay', 'first_3=baz', 'first_3=bea', 'first_3=beb', 'first_3=bec', 'first_3=bed', 'first_3=bee', 'first_3=beg', 'first_3=bel', 'first_3=ben', 'first_3=ber', 'first_3=bes', 'first_3=bet', 'first_3=beu', 'first_3=bev', 'first_3=bey', 'first_3=bha', 'first_3=bhe', 'first_3=bhh', 'first_3=bhi', 'first_3=bho', 'first_3=bhr', 'first_3=bht', 'first_3=bhu', 'first_3=bi ', 'first_3=bia', 'first_3=bid', 'first_3=bie', 'first_3=big', 'first_3=bii', 'first_3=bij', 'first_3=bik', 'first_3=bil', 'first_3=bim', 'first_3=bin', 'first_3=bip', 'first_3=bir', 'first_3=bis', 'first_3=bit', 'first_3=biv', 'first_3=biw', 'first_3=bla', 'first_3=ble', 'first_3=blo', 'first_3=bob', 'first_3=bod', 'first_3=bog', 'first_3=boh', 'first_3=boj', 'first_3=bol', 'first_3=bon', 'first_3=boo', 'first_3=bor', 'first_3=bos', 'first_3=bov', 'first_3=bow', 'first_3=boy', 'first_3=bra', 'first_3=bre', 'first_3=bri', 'first_3=brk', 'first_3=bro', 'first_3=bru', 'first_3=bry', 'first_3=bub', 'first_3=buc', 'first_3=bud', 'first_3=bue', 'first_3=buf', 'first_3=buh', 'first_3=bui', 'first_3=bul', 'first_3=bun', 'first_3=bup', 'first_3=bur', 'first_3=bus', 'first_3=but', 'first_3=bya', 'first_3=byr', 'first_3=cab', 'first_3=cac', 'first_3=cad', 'first_3=cae', 'first_3=cai', 'first_3=cal', 'first_3=cam', 'first_3=can', 'first_3=cap', 'first_3=car', 'first_3=cas', 'first_3=cat', 'first_3=cau', 'first_3=cav', 'first_3=cay', 'first_3=caz', 'first_3=cea', 'first_3=cec', 'first_3=ced', 'first_3=cel', 'first_3=cen', 'first_3=cep', 'first_3=cer', 'first_3=ces', 'first_3=cha', 'first_3=chd', 'first_3=che', 'first_3=chh', 'first_3=chi', 'first_3=chl', 'first_3=chn', 'first_3=cho', 'first_3=chr', 'first_3=cht', 'first_3=chu', 'first_3=chy', 'first_3=cie', 'first_3=cim', 'first_3=cin', 'first_3=cip', 'first_3=cir', 'first_3=civ', 'first_3=cla', 'first_3=cle', 'first_3=cli', 'first_3=clo', 'first_3=clu', 'first_3=cly', 'first_3=cob', 'first_3=cod', 'first_3=coh', 'first_3=cok', 'first_3=col', 'first_3=com', 'first_3=con', 'first_3=coq', 'first_3=cor', 'first_3=cos', 'first_3=cot', 'first_3=cou', 'first_3=cov', 'first_3=cow', 'first_3=coy', 'first_3=coz', 'first_3=cra', 'first_3=cre', 'first_3=cri', 'first_3=cru', 'first_3=cry', 'first_3=csh', 'first_3=cul', 'first_3=cup', 'first_3=cur', 'first_3=cyd', 'first_3=cyn', 'first_3=cyr', 'first_3=da ', 'first_3=daa', 'first_3=dac', 'first_3=dad', 'first_3=dae', 'first_3=daf', 'first_3=dag', 'first_3=dah', 'first_3=dai', 'first_3=daj', 'first_3=dak', 'first_3=dal', 'first_3=dam', 'first_3=dan', 'first_3=dap', 'first_3=daq', 'first_3=dar', 'first_3=das', 'first_3=dat', 'first_3=dau', 'first_3=dav', 'first_3=daw', 'first_3=day', 'first_3=daz', 'first_3=dco', 'first_3=dea', 'first_3=deb', 'first_3=dec', 'first_3=ded', 'first_3=dee', 'first_3=def', 'first_3=deg', 'first_3=deh', 'first_3=dei', 'first_3=dej', 'first_3=dek', 'first_3=del', 'first_3=dem', 'first_3=den', 'first_3=deo', 'first_3=dep', 'first_3=deq', 'first_3=der', 'first_3=des', 'first_3=det', 'first_3=deu', 'first_3=dev', 'first_3=dew', 'first_3=dex', 'first_3=dey', 'first_3=dez', 'first_3=dha', 'first_3=dhe', 'first_3=dhi', 'first_3=dhm', 'first_3=dho', 'first_3=dhr', 'first_3=dhu', 'first_3=dia', 'first_3=dib', 'first_3=dic', 'first_3=did', 'first_3=die', 'first_3=dig', 'first_3=dih', 'first_3=dij', 'first_3=dik', 'first_3=dil', 'first_3=dim', 'first_3=din', 'first_3=dio', 'first_3=dip', 'first_3=dir', 'first_3=dis', 'first_3=dit', 'first_3=div', 'first_3=diw', 'first_3=dix', 'first_3=diy', 'first_3=dje', 'first_3=djo', 'first_3=dju', 'first_3=dma', 'first_3=dmi', 'first_3=dob', 'first_3=doc', 'first_3=dod', 'first_3=doe', 'first_3=doi', 'first_3=dol', 'first_3=dom', 'first_3=don', 'first_3=doo', 'first_3=dor', 'first_3=dou', 'first_3=dov', 'first_3=dow', 'first_3=doy', 'first_3=doz', 'first_3=dqu', 'first_3=dra', 'first_3=dre', 'first_3=dri', 'first_3=dro', 'first_3=dru', 'first_3=dsh', 'first_3=dua', 'first_3=dub', 'first_3=dud', 'first_3=dug', 'first_3=duk', 'first_3=dul', 'first_3=dum', 'first_3=dun', 'first_3=dur', 'first_3=dus', 'first_3=dut', 'first_3=duv', 'first_3=duw', 'first_3=dvo', 'first_3=dwa', 'first_3=dwe', 'first_3=dwi', 'first_3=dwo', 'first_3=dwy', 'first_3=dya', 'first_3=dyl', 'first_3=dym', 'first_3=dyo', 'first_3=dyr', 'first_3=dys', 'first_3=dyt', 'first_3=dyw', 'first_3=ear', 'first_3=eas', 'first_3=eba', 'first_3=ebe', 'first_3=ebi', 'first_3=ebo', 'first_3=ech', 'first_3=edd', 'first_3=ede', 'first_3=edg', 'first_3=edi', 'first_3=edj', 'first_3=edk', 'first_3=edm', 'first_3=edn', 'first_3=edo', 'first_3=edr', 'first_3=eds', 'first_3=edu', 'first_3=edv', 'first_3=edw', 'first_3=eea', 'first_3=eem', 'first_3=eff', 'first_3=efr', 'first_3=efs', 'first_3=ega', 'first_3=egb', 'first_3=egl', 'first_3=eha', 'first_3=ehr', 'first_3=eil', 'first_3=eio', 'first_3=eka', 'first_3=eki', 'first_3=ekl', 'first_3=ekr', 'first_3=ekt', 'first_3=ela', 'first_3=elb', 'first_3=eld', 'first_3=ele', 'first_3=elf', 'first_3=elg', 'first_3=eli', 'first_3=elk', 'first_3=ell', 'first_3=elm', 'first_3=elo', 'first_3=elp', 'first_3=elr', 'first_3=els', 'first_3=elt', 'first_3=elu', 'first_3=elv', 'first_3=elw', 'first_3=ely', 'first_3=ema', 'first_3=emb', 'first_3=eme', 'first_3=emi', 'first_3=emm', 'first_3=emo', 'first_3=emr', 'first_3=ene', 'first_3=eng', 'first_3=eni', 'first_3=enm', 'first_3=enn', 'first_3=eno', 'first_3=enr', 'first_3=eph', 'first_3=epi', 'first_3=era', 'first_3=ere', 'first_3=eri', 'first_3=erl', 'first_3=erm', 'first_3=ern', 'first_3=ero', 'first_3=err', 'first_3=ers', 'first_3=erv', 'first_3=erw', 'first_3=ery', 'first_3=esa', 'first_3=esb', 'first_3=esc', 'first_3=esd', 'first_3=ese', 'first_3=esh', 'first_3=esl', 'first_3=esm', 'first_3=esn', 'first_3=esp', 'first_3=esr', 'first_3=ess', 'first_3=est', 'first_3=eta', 'first_3=ete', 'first_3=eth', 'first_3=eti', 'first_3=eto', 'first_3=eud', 'first_3=eug', 'first_3=eul', 'first_3=eum', 'first_3=eun', 'first_3=eur', 'first_3=eus', 'first_3=eut', 'first_3=euw', 'first_3=eva', 'first_3=eve', 'first_3=evg', 'first_3=evi', 'first_3=evo', 'first_3=exa', 'first_3=exd', 'first_3=exs', 'first_3=exz', 'first_3=eym', 'first_3=eyv', 'first_3=eza', 'first_3=eze', 'first_3=ezr', 'first_3=ezz', 'first_3=faa', 'first_3=fab', 'first_3=fad', 'first_3=fag', 'first_3=fah', 'first_3=fai', 'first_3=fak', 'first_3=fal', 'first_3=fan', 'first_3=faq', 'first_3=far', 'first_3=fat', 'first_3=fau', 'first_3=faw', 'first_3=fay', 'first_3=faz', 'first_3=fe ', 'first_3=fed', 'first_3=fee', 'first_3=feg', 'first_3=feh', 'first_3=fei', 'first_3=fel', 'first_3=fem', 'first_3=fen', 'first_3=fer', 'first_3=fes', 'first_3=fez', 'first_3=fha', 'first_3=fid', 'first_3=fie', 'first_3=fij', 'first_3=fil', 'first_3=fin', 'first_3=fir', 'first_3=fis', 'first_3=fit', 'first_3=fiy', 'first_3=fiz', 'first_3=fla', 'first_3=fle', 'first_3=flo', 'first_3=fly', 'first_3=fol', 'first_3=fon', 'first_3=foo', 'first_3=for', 'first_3=fos', 'first_3=fou', 'first_3=foy', 'first_3=foz', 'first_3=fra', 'first_3=fre', 'first_3=fri', 'first_3=frj', 'first_3=fro', 'first_3=frr', 'first_3=fru', 'first_3=ful', 'first_3=fuq', 'first_3=fur', 'first_3=fut', 'first_3=gab', 'first_3=gae', 'first_3=gaf', 'first_3=gag', 'first_3=gah', 'first_3=gai', 'first_3=gaj', 'first_3=gal', 'first_3=gam', 'first_3=gan', 'first_3=gap', 'first_3=gar', 'first_3=gas', 'first_3=gat', 'first_3=gau', 'first_3=gav', 'first_3=gaw', 'first_3=gay', 'first_3=gdy', 'first_3=gea', 'first_3=ged', 'first_3=gee', 'first_3=gef', 'first_3=gei', 'first_3=gel', 'first_3=gem', 'first_3=gen', 'first_3=geo', 'first_3=gep', 'first_3=ger', 'first_3=ges', 'first_3=gha', 'first_3=ghu', 'first_3=gia', 'first_3=gid', 'first_3=gie', 'first_3=gif', 'first_3=gil', 'first_3=gin', 'first_3=gio', 'first_3=gir', 'first_3=gis', 'first_3=git', 'first_3=giu', 'first_3=giv', 'first_3=gje', 'first_3=gla', 'first_3=gle', 'first_3=glo', 'first_3=gma', 'first_3=go ', 'first_3=gob', 'first_3=god', 'first_3=gok', 'first_3=gol', 'first_3=gom', 'first_3=gon', 'first_3=goo', 'first_3=gop', 'first_3=gor', 'first_3=gos', 'first_3=got', 'first_3=gou', 'first_3=gov', 'first_3=gra', 'first_3=gre', 'first_3=gri', 'first_3=gro', 'first_3=grp', 'first_3=gru', 'first_3=gua', 'first_3=gud', 'first_3=gue', 'first_3=guf', 'first_3=gui', 'first_3=gul', 'first_3=gum', 'first_3=gun', 'first_3=gur', 'first_3=gus', 'first_3=gut', 'first_3=guy', 'first_3=guz', 'first_3=gwe', 'first_3=gya', 'first_3=gys', 'first_3=gyt', 'first_3=hab', 'first_3=hac', 'first_3=had', 'first_3=hag', 'first_3=hai', 'first_3=haj', 'first_3=hak', 'first_3=hal', 'first_3=ham', 'first_3=han', 'first_3=hap', 'first_3=har', 'first_3=has', 'first_3=hat', 'first_3=hav', 'first_3=haw', 'first_3=hay', 'first_3=haz', 'first_3=he ', 'first_3=hea', 'first_3=heb', 'first_3=hec', 'first_3=hee', 'first_3=hef', 'first_3=hei', 'first_3=hel', 'first_3=hem', 'first_3=hen', 'first_3=her', 'first_3=hes', 'first_3=het', 'first_3=heu', 'first_3=hev', 'first_3=hew', 'first_3=hey', 'first_3=hi ', 'first_3=hid', 'first_3=hif', 'first_3=hig', 'first_3=hil', 'first_3=him', 'first_3=hin', 'first_3=hip', 'first_3=hir', 'first_3=his', 'first_3=hit', 'first_3=hke', 'first_3=hob', 'first_3=hod', 'first_3=hol', 'first_3=hom', 'first_3=hon', 'first_3=hoo', 'first_3=hop', 'first_3=hor', 'first_3=hos', 'first_3=hot', 'first_3=hou', 'first_3=how', 'first_3=hoy', 'first_3=hoz', 'first_3=hri', 'first_3=hub', 'first_3=hud', 'first_3=hue', 'first_3=hug', 'first_3=huk', 'first_3=hul', 'first_3=hum', 'first_3=hun', 'first_3=hur', 'first_3=hus', 'first_3=hut', 'first_3=huy', 'first_3=hya', 'first_3=hyl', 'first_3=hyo', 'first_3=hyr', 'first_3=i b', 'first_3=i k', 'first_3=iam', 'first_3=ian', 'first_3=iar', 'first_3=iba', 'first_3=ibe', 'first_3=ibr', 'first_3=ici', 'first_3=ico', 'first_3=ida', 'first_3=ide', 'first_3=idi', 'first_3=idr', 'first_3=iee', 'first_3=iem', 'first_3=ies', 'first_3=igc', 'first_3=ign', 'first_3=iha', 'first_3=iii', 'first_3=iis', 'first_3=ijh', 'first_3=ika', 'first_3=ikb', 'first_3=ike', 'first_3=iki', 'first_3=ikl', 'first_3=ikr', 'first_3=ila', 'first_3=ild', 'first_3=ile', 'first_3=ili', 'first_3=ilm', 'first_3=ily', 'first_3=im ', 'first_3=ima', 'first_3=imm', 'first_3=imr', 'first_3=ims', 'first_3=imt', 'first_3=imu', 'first_3=inc', 'first_3=ind', 'first_3=ine', 'first_3=ing', 'first_3=inj', 'first_3=ink', 'first_3=ino', 'first_3=ins', 'first_3=int', 'first_3=inz', 'first_3=ion', 'first_3=iqa', 'first_3=iqb', 'first_3=iqr', 'first_3=iqu', 'first_3=ira', 'first_3=irb', 'first_3=ire', 'first_3=irf', 'first_3=iri', 'first_3=irm', 'first_3=irn', 'first_3=irp', 'first_3=irs', 'first_3=irv', 'first_3=irw', 'first_3=iry', 'first_3=isa', 'first_3=ish', 'first_3=isi', 'first_3=isk', 'first_3=isl', 'first_3=ism', 'first_3=isn', 'first_3=isr', 'first_3=iss', 'first_3=ist', 'first_3=isw', 'first_3=ith', 'first_3=iti', 'first_3=itw', 'first_3=itz', 'first_3=iva', 'first_3=ive', 'first_3=ivi', 'first_3=ivo', 'first_3=ivr', 'first_3=ivy', 'first_3=ixi', 'first_3=iyo', 'first_3=iza', 'first_3=ize', 'first_3=jaa', 'first_3=jab', 'first_3=jac', 'first_3=jad', 'first_3=jae', 'first_3=jaf', 'first_3=jag', 'first_3=jah', 'first_3=jai', 'first_3=jaj', 'first_3=jak', 'first_3=jal', 'first_3=jam', 'first_3=jan', 'first_3=jap', 'first_3=jaq', 'first_3=jar', 'first_3=jas', 'first_3=jat', 'first_3=jau', 'first_3=jav', 'first_3=jaw', 'first_3=jay', 'first_3=jaz', 'first_3=jde', 'first_3=jea', 'first_3=jeb', 'first_3=jec', 'first_3=jed', 'first_3=jee', 'first_3=jef', 'first_3=jeh', 'first_3=jei', 'first_3=jek', 'first_3=jel', 'first_3=jem', 'first_3=jen', 'first_3=jeo', 'first_3=jep', 'first_3=jer', 'first_3=jes', 'first_3=jet', 'first_3=jev', 'first_3=jew', 'first_3=jha', 'first_3=jhe', 'first_3=jhi', 'first_3=jho', 'first_3=jhu', 'first_3=jib', 'first_3=jid', 'first_3=jih', 'first_3=jij', 'first_3=jil', 'first_3=jim', 'first_3=jin', 'first_3=jio', 'first_3=jis', 'first_3=jit', 'first_3=jiv', 'first_3=jiw', 'first_3=jiy', 'first_3=jja', 'first_3=jma', 'first_3=jmi', 'first_3=jni', 'first_3=joa', 'first_3=job', 'first_3=joc', 'first_3=jod', 'first_3=joe', 'first_3=jog', 'first_3=joh', 'first_3=joi', 'first_3=joj', 'first_3=jol', 'first_3=jom', 'first_3=jon', 'first_3=joo', 'first_3=joq', 'first_3=jor', 'first_3=jos', 'first_3=jot', 'first_3=jou', 'first_3=jov', 'first_3=jow', 'first_3=joy', 'first_3=jre', 'first_3=jri', 'first_3=jua', 'first_3=jub', 'first_3=juc', 'first_3=jud', 'first_3=jug', 'first_3=juh', 'first_3=jui', 'first_3=juj', 'first_3=juk', 'first_3=jul', 'first_3=jum', 'first_3=jun', 'first_3=jur', 'first_3=jus', 'first_3=juv', 'first_3=jwa', 'first_3=jya', 'first_3=jym', 'first_3=jyo', 'first_3=k s', 'first_3=ka ', 'first_3=kaa', 'first_3=kab', 'first_3=kac', 'first_3=kad', 'first_3=kaf', 'first_3=kah', 'first_3=kai', 'first_3=kaj', 'first_3=kak', 'first_3=kal', 'first_3=kam', 'first_3=kan', 'first_3=kao', 'first_3=kap', 'first_3=kar', 'first_3=kas', 'first_3=kat', 'first_3=kau', 'first_3=kav', 'first_3=kaw', 'first_3=kay', 'first_3=kaz', 'first_3=kbe', 'first_3=kch', 'first_3=kea', 'first_3=ked', 'first_3=kee', 'first_3=keg', 'first_3=keh', 'first_3=kei', 'first_3=kej', 'first_3=kek', 'first_3=kel', 'first_3=kem', 'first_3=ken', 'first_3=keo', 'first_3=ker', 'first_3=kes', 'first_3=ket', 'first_3=keu', 'first_3=kev', 'first_3=kew', 'first_3=key', 'first_3=kha', 'first_3=khe', 'first_3=khi', 'first_3=kho', 'first_3=khr', 'first_3=khs', 'first_3=khu', 'first_3=khw', 'first_3=kia', 'first_3=kid', 'first_3=kie', 'first_3=kif', 'first_3=kik', 'first_3=kil', 'first_3=kim', 'first_3=kin', 'first_3=kio', 'first_3=kip', 'first_3=kir', 'first_3=kis', 'first_3=kit', 'first_3=kiy', 'first_3=kiz', 'first_3=kje', 'first_3=kju', 'first_3=kla', 'first_3=kli', 'first_3=klu', 'first_3=kma', 'first_3=kmd', 'first_3=kml', 'first_3=kmo', 'first_3=kmp', 'first_3=kms', 'first_3=knh', 'first_3=kni', 'first_3=kob', 'first_3=kod', 'first_3=koh', 'first_3=koi', 'first_3=kok', 'first_3=kol', 'first_3=kom', 'first_3=kon', 'first_3=kor', 'first_3=kos', 'first_3=kou', 'first_3=kov', 'first_3=koy', 'first_3=kra', 'first_3=kre', 'first_3=kri', 'first_3=kry', 'first_3=krz', 'first_3=kua', 'first_3=kud', 'first_3=kul', 'first_3=kum', 'first_3=kun', 'first_3=kup', 'first_3=kur', 'first_3=kus', 'first_3=kuw', 'first_3=kve', 'first_3=kwa', 'first_3=kwe', 'first_3=kwm', 'first_3=kya', 'first_3=kye', 'first_3=kyl', 'first_3=kym', 'first_3=kyn', 'first_3=kyr', 'first_3=kyv', 'first_3=laa', 'first_3=lab', 'first_3=lac', 'first_3=lad', 'first_3=laf', 'first_3=lag', 'first_3=lah', 'first_3=lai', 'first_3=laj', 'first_3=lak', 'first_3=lal', 'first_3=lam', 'first_3=lan', 'first_3=lao', 'first_3=lap', 'first_3=laq', 'first_3=lar', 'first_3=las', 'first_3=lat', 'first_3=lau', 'first_3=lav', 'first_3=law', 'first_3=lax', 'first_3=lay', 'first_3=laz', 'first_3=lea', 'first_3=leb', 'first_3=lec', 'first_3=led', 'first_3=lee', 'first_3=lef', 'first_3=leg', 'first_3=lei', 'first_3=lej', 'first_3=lek', 'first_3=lel', 'first_3=lem', 'first_3=len', 'first_3=leo', 'first_3=ler', 'first_3=les', 'first_3=let', 'first_3=leu', 'first_3=lev', 'first_3=lew', 'first_3=lex', 'first_3=lia', 'first_3=lib', 'first_3=lic', 'first_3=lid', 'first_3=lie', 'first_3=lif', 'first_3=lih', 'first_3=lik', 'first_3=lil', 'first_3=lim', 'first_3=lin', 'first_3=lio', 'first_3=liq', 'first_3=lir', 'first_3=lis', 'first_3=lit', 'first_3=liu', 'first_3=liv', 'first_3=liy', 'first_3=liz', 'first_3=llo', 'first_3=loc', 'first_3=log', 'first_3=loi', 'first_3=lok', 'first_3=lol', 'first_3=lom', 'first_3=lon', 'first_3=loo', 'first_3=lop', 'first_3=loq', 'first_3=lor', 'first_3=lot', 'first_3=lou', 'first_3=lov', 'first_3=low', 'first_3=loy', 'first_3=lta', 'first_3=lua', 'first_3=lub', 'first_3=luc', 'first_3=lud', 'first_3=lue', 'first_3=lug', 'first_3=lui', 'first_3=luk', 'first_3=lum', 'first_3=lun', 'first_3=luq', 'first_3=lur', 'first_3=lus', 'first_3=lut', 'first_3=luv', 'first_3=lux', 'first_3=luz', 'first_3=lwa', 'first_3=lyd', 'first_3=lyl', 'first_3=lym', 'first_3=lyn', 'first_3=lyo', 'first_3=lyr', 'first_3=lyz', 'first_3=ma ', 'first_3=maa', 'first_3=mab', 'first_3=mac', 'first_3=mad', 'first_3=mag', 'first_3=mah', 'first_3=mai', 'first_3=maj', 'first_3=mak', 'first_3=mal', 'first_3=mam', 'first_3=man', 'first_3=maq', 'first_3=mar', 'first_3=mas', 'first_3=mat', 'first_3=mau', 'first_3=mav', 'first_3=max', 'first_3=may', 'first_3=maz', 'first_3=mca', 'first_3=mcc', 'first_3=mcd', 'first_3=mcg', 'first_3=mck', 'first_3=mdb', 'first_3=mdg', 'first_3=mdt', 'first_3=mdy', 'first_3=me ', 'first_3=mea', 'first_3=mec', 'first_3=med', 'first_3=mee', 'first_3=meg', 'first_3=meh', 'first_3=mei', 'first_3=mek', 'first_3=mel', 'first_3=mem', 'first_3=men', 'first_3=meq', 'first_3=mer', 'first_3=mes', 'first_3=met', 'first_3=mey', 'first_3=mhe', 'first_3=mho', 'first_3=mi ', 'first_3=mia', 'first_3=mic', 'first_3=mid', 'first_3=mig', 'first_3=mih', 'first_3=mii', 'first_3=mij', 'first_3=mik', 'first_3=mil', 'first_3=min', 'first_3=miq', 'first_3=mir', 'first_3=mis', 'first_3=mit', 'first_3=mix', 'first_3=mju', 'first_3=mla', 'first_3=mmt', 'first_3=mni', 'first_3=mno', 'first_3=mo ', 'first_3=moa', 'first_3=mob', 'first_3=mod', 'first_3=moe', 'first_3=mog', 'first_3=moh', 'first_3=moi', 'first_3=moj', 'first_3=mok', 'first_3=mol', 'first_3=mom', 'first_3=mon', 'first_3=moo', 'first_3=mor', 'first_3=mos', 'first_3=mot', 'first_3=mou', 'first_3=mow', 'first_3=mra', 'first_3=mri', 'first_3=mrs', 'first_3=mub', 'first_3=mud', 'first_3=muh', 'first_3=muj', 'first_3=muk', 'first_3=mul', 'first_3=mum', 'first_3=mun', 'first_3=mur', 'first_3=mus', 'first_3=mut', 'first_3=muz', 'first_3=mya', 'first_3=myc', 'first_3=mye', 'first_3=myk', 'first_3=myl', 'first_3=myn', 'first_3=myq', 'first_3=myr', 'first_3=mys', 'first_3=myt', 'first_3=nci', 'first_3=ncy', 'first_3=nea', 'first_3=nec', 'first_3=ned', 'first_3=nee', 'first_3=nef', 'first_3=neg', 'first_3=neh', 'first_3=nei', 'first_3=nej', 'first_3=nek', 'first_3=nel', 'first_3=nem', 'first_3=nen', 'first_3=neo', 'first_3=nep', 'first_3=ner', 'first_3=nes', 'first_3=net', 'first_3=neu', 'first_3=nev', 'first_3=new', 'first_3=ney', 'first_3=ngh', 'first_3=nha', 'first_3=nhe', 'first_3=nhu', 'first_3=nia', 'first_3=nib', 'first_3=nic', 'first_3=nid', 'first_3=nig', 'first_3=nih', 'first_3=nij', 'first_3=nik', 'first_3=nil', 'first_3=nim', 'first_3=nin', 'first_3=nio', 'first_3=nip', 'first_3=nir', 'first_3=nis', 'first_3=nit', 'first_3=niu', 'first_3=niv', 'first_3=niw', 'first_3=nix', 'first_3=niz', 'first_3=nja', 'first_3=nka', 'first_3=nke', 'first_3=nki', 'first_3=nko', 'first_3=nku', 'first_3=nnu', 'first_3=no ', 'first_3=noa', 'first_3=nob', 'first_3=noe', 'first_3=noh', 'first_3=nol', 'first_3=non', 'first_3=noo', 'first_3=nor', 'first_3=nos', 'first_3=not', 'first_3=nov', 'first_3=noy', 'first_3=nre', 'first_3=nro', 'first_3=nsh', 'first_3=nta', 'first_3=nu ', 'first_3=nun', 'first_3=nup', 'first_3=nur', 'first_3=nus', 'first_3=nut', 'first_3=nwe', 'first_3=nya', 'first_3=nyd', 'first_3=nyg', 'first_3=nyk', 'first_3=nyr', 'first_3=oak', 'first_3=oar', 'first_3=obe', 'first_3=obi', 'first_3=obr', 'first_3=oca', 'first_3=oci', 'first_3=oct', 'first_3=oda', 'first_3=ode', 'first_3=odi', 'first_3=odl', 'first_3=odn', 'first_3=odo', 'first_3=oge', 'first_3=ogh', 'first_3=oha', 'first_3=ohm', 'first_3=oja', 'first_3=okp', 'first_3=ola', 'first_3=old', 'first_3=ole', 'first_3=olg', 'first_3=oli', 'first_3=oll', 'first_3=olm', 'first_3=olo', 'first_3=ols', 'first_3=olu', 'first_3=olv', 'first_3=oly', 'first_3=oma', 'first_3=omb', 'first_3=ome', 'first_3=omi', 'first_3=omj', 'first_3=omk', 'first_3=omm', 'first_3=omp', 'first_3=ond', 'first_3=one', 'first_3=ong', 'first_3=oni', 'first_3=ont', 'first_3=opa', 'first_3=ope', 'first_3=opi', 'first_3=opr', 'first_3=ora', 'first_3=orb', 'first_3=ore', 'first_3=org', 'first_3=ori', 'first_3=orl', 'first_3=orp', 'first_3=orr', 'first_3=ors', 'first_3=ort', 'first_3=orv', 'first_3=orz', 'first_3=osc', 'first_3=ose', 'first_3=osh', 'first_3=osi', 'first_3=osl', 'first_3=osm', 'first_3=osn', 'first_3=oss', 'first_3=osv', 'first_3=osw', 'first_3=ota', 'first_3=oth', 'first_3=oti', 'first_3=ott', 'first_3=oud', 'first_3=ova', 'first_3=ove', 'first_3=ovi', 'first_3=owe', 'first_3=oxa', 'first_3=oza', 'first_3=ozz', 'first_3=pab', 'first_3=pac', 'first_3=pad', 'first_3=pai', 'first_3=paj', 'first_3=pak', 'first_3=pal', 'first_3=pam', 'first_3=pan', 'first_3=pao', 'first_3=pap', 'first_3=par', 'first_3=pas', 'first_3=pat', 'first_3=pau', 'first_3=pav', 'first_3=paw', 'first_3=pay', 'first_3=pea', 'first_3=ped', 'first_3=pee', 'first_3=peg', 'first_3=pel', 'first_3=pem', 'first_3=pen', 'first_3=per', 'first_3=pet', 'first_3=pey', 'first_3=pha', 'first_3=phe', 'first_3=phi', 'first_3=pho', 'first_3=phr', 'first_3=phu', 'first_3=phy', 'first_3=pie', 'first_3=pin', 'first_3=pio', 'first_3=pir', 'first_3=pis', 'first_3=pit', 'first_3=piy', 'first_3=piz', 'first_3=pka', 'first_3=ple', 'first_3=pok', 'first_3=pol', 'first_3=pom', 'first_3=pon', 'first_3=poo', 'first_3=pop', 'first_3=por', 'first_3=pos', 'first_3=pow', 'first_3=pph', 'first_3=pra', 'first_3=prd', 'first_3=pre', 'first_3=prh', 'first_3=pri', 'first_3=prk', 'first_3=prm', 'first_3=pro', 'first_3=prs', 'first_3=pry', 'first_3=puj', 'first_3=puk', 'first_3=pul', 'first_3=pum', 'first_3=pun', 'first_3=pur', 'first_3=pus', 'first_3=pya', 'first_3=qaa', 'first_3=qaw', 'first_3=qia', 'first_3=qib', 'first_3=qli', 'first_3=qme', 'first_3=qor', 'first_3=qua', 'first_3=que', 'first_3=qui', 'first_3=qun', 'first_3=quo', 'first_3=qur', 'first_3=qwa', 'first_3=qwi', 'first_3=r s', 'first_3=ra ', 'first_3=rab', 'first_3=rac', 'first_3=rad', 'first_3=rae', 'first_3=raf', 'first_3=rag', 'first_3=rah', 'first_3=rai', 'first_3=raj', 'first_3=rak', 'first_3=ral', 'first_3=ram', 'first_3=ran', 'first_3=rao', 'first_3=rap', 'first_3=raq', 'first_3=ras', 'first_3=rat', 'first_3=rau', 'first_3=rav', 'first_3=raw', 'first_3=ray', 'first_3=raz', 'first_3=rba', 'first_3=rbd', 'first_3=rbi', 'first_3=rci', 'first_3=re ', 'first_3=rea', 'first_3=reb', 'first_3=rec', 'first_3=red', 'first_3=ree', 'first_3=ref', 'first_3=reg', 'first_3=reh', 'first_3=rei', 'first_3=rej', 'first_3=rek', 'first_3=rel', 'first_3=rem', 'first_3=ren', 'first_3=reo', 'first_3=rep', 'first_3=rer', 'first_3=res', 'first_3=ret', 'first_3=reu', 'first_3=rev', 'first_3=rex', 'first_3=rey', 'first_3=rez', 'first_3=rge', 'first_3=rgh', 'first_3=rgi', 'first_3=rha', 'first_3=rhe', 'first_3=rhi', 'first_3=rho', 'first_3=rhu', 'first_3=rhy', 'first_3=ri ', 'first_3=ria', 'first_3=ric', 'first_3=rid', 'first_3=rig', 'first_3=rih', 'first_3=rij', 'first_3=rik', 'first_3=ril', 'first_3=rim', 'first_3=rin', 'first_3=rio', 'first_3=rip', 'first_3=ris', 'first_3=rit', 'first_3=riv', 'first_3=riy', 'first_3=riz', 'first_3=rke', 'first_3=rma', 'first_3=rob', 'first_3=roc', 'first_3=rod', 'first_3=roe', 'first_3=rog', 'first_3=roh', 'first_3=roi', 'first_3=roj', 'first_3=rok', 'first_3=rol', 'first_3=rom', 'first_3=ron', 'first_3=roo', 'first_3=roq', 'first_3=ror', 'first_3=ros', 'first_3=rot', 'first_3=rou', 'first_3=rov', 'first_3=row', 'first_3=rox', 'first_3=roy', 'first_3=roz', 'first_3=rsi', 'first_3=rsj', 'first_3=rua', 'first_3=rub', 'first_3=ruc', 'first_3=rud', 'first_3=rue', 'first_3=ruf', 'first_3=ruh', 'first_3=rui', 'first_3=ruj', 'first_3=ruk', 'first_3=rum', 'first_3=run', 'first_3=rup', 'first_3=rur', 'first_3=rus', 'first_3=rut', 'first_3=ruz', 'first_3=rvi', 'first_3=rya', 'first_3=rye', 'first_3=ryk', 'first_3=ryl', 'first_3=rys', 'first_3=sa ', 'first_3=saa', 'first_3=sab', 'first_3=sac', 'first_3=sad', 'first_3=sae', 'first_3=saf', 'first_3=sag', 'first_3=sah', 'first_3=sai', 'first_3=saj', 'first_3=sak', 'first_3=sal', 'first_3=sam', 'first_3=san', 'first_3=sap', 'first_3=sar', 'first_3=sas', 'first_3=sat', 'first_3=sau', 'first_3=sav', 'first_3=saw', 'first_3=sax', 'first_3=say', 'first_3=saz', 'first_3=sca', 'first_3=sch', 'first_3=sci', 'first_3=sco', 'first_3=sea', 'first_3=seb', 'first_3=sec', 'first_3=sed', 'first_3=see', 'first_3=sef', 'first_3=seg', 'first_3=seh', 'first_3=sej', 'first_3=sek', 'first_3=sel', 'first_3=sem', 'first_3=sen', 'first_3=seo', 'first_3=sep', 'first_3=ser', 'first_3=ses', 'first_3=set', 'first_3=sev', 'first_3=sey', 'first_3=sh ', 'first_3=sha', 'first_3=shb', 'first_3=shd', 'first_3=she', 'first_3=shi', 'first_3=shk', 'first_3=shl', 'first_3=shm', 'first_3=shn', 'first_3=sho', 'first_3=shq', 'first_3=shr', 'first_3=shs', 'first_3=shu', 'first_3=shv', 'first_3=shw', 'first_3=shy', 'first_3=sia', 'first_3=sib', 'first_3=sid', 'first_3=sie', 'first_3=sif', 'first_3=sig', 'first_3=sik', 'first_3=sil', 'first_3=sim', 'first_3=sin', 'first_3=sio', 'first_3=sip', 'first_3=sir', 'first_3=sis', 'first_3=sit', 'first_3=siv', 'first_3=siw', 'first_3=six', 'first_3=siy', 'first_3=sky', 'first_3=sla', 'first_3=slo', 'first_3=sly', 'first_3=sma', 'first_3=smh', 'first_3=smi', 'first_3=smo', 'first_3=smt', 'first_3=sne', 'first_3=sng', 'first_3=snj', 'first_3=snt', 'first_3=sny', 'first_3=so ', 'first_3=soa', 'first_3=sob', 'first_3=soc', 'first_3=sod', 'first_3=sof', 'first_3=soh', 'first_3=sok', 'first_3=sol', 'first_3=som', 'first_3=son', 'first_3=soo', 'first_3=sop', 'first_3=sor', 'first_3=sos', 'first_3=sot', 'first_3=sou', 'first_3=sow', 'first_3=soy', 'first_3=spa', 'first_3=spe', 'first_3=spi', 'first_3=sre', 'first_3=srh', 'first_3=sri', 'first_3=sru', 'first_3=ssi', 'first_3=sta', 'first_3=ste', 'first_3=sti', 'first_3=sto', 'first_3=stu', 'first_3=sua', 'first_3=sub', 'first_3=suc', 'first_3=sud', 'first_3=sue', 'first_3=suf', 'first_3=sug', 'first_3=suh', 'first_3=sui', 'first_3=suj', 'first_3=suk', 'first_3=sul', 'first_3=sum', 'first_3=sun', 'first_3=sup', 'first_3=sur', 'first_3=sus', 'first_3=sut', 'first_3=suw', 'first_3=suy', 'first_3=suz', 'first_3=swa', 'first_3=swe', 'first_3=swi', 'first_3=sya', 'first_3=syd', 'first_3=sye', 'first_3=syh', 'first_3=syl', 'first_3=sym', 'first_3=taa', 'first_3=tab', 'first_3=tac', 'first_3=tad', 'first_3=tae', 'first_3=taf', 'first_3=tah', 'first_3=tai', 'first_3=taj', 'first_3=tak', 'first_3=tal', 'first_3=tam', 'first_3=tan', 'first_3=tap', 'first_3=taq', 'first_3=tar', 'first_3=tas', 'first_3=tat', 'first_3=tau', 'first_3=tav', 'first_3=taw', 'first_3=tay', 'first_3=taz', 'first_3=tea', 'first_3=tec', 'first_3=ted', 'first_3=tee', 'first_3=teg', 'first_3=tei', 'first_3=tej', 'first_3=tek', 'first_3=tel', 'first_3=tem', 'first_3=ten', 'first_3=teo', 'first_3=tep', 'first_3=teq', 'first_3=ter', 'first_3=tes', 'first_3=tev', 'first_3=tey', 'first_3=tfa', 'first_3=tha', 'first_3=the', 'first_3=thi', 'first_3=tho', 'first_3=thr', 'first_3=ths', 'first_3=thu', 'first_3=thy', 'first_3=ti ', 'first_3=tia', 'first_3=tib', 'first_3=tid', 'first_3=tie', 'first_3=tif', 'first_3=tih', 'first_3=tij', 'first_3=tik', 'first_3=til', 'first_3=tim', 'first_3=tin', 'first_3=tip', 'first_3=tir', 'first_3=tis', 'first_3=tit', 'first_3=tiv', 'first_3=tiw', 'first_3=tja', 'first_3=tob', 'first_3=toc', 'first_3=tod', 'first_3=toe', 'first_3=tof', 'first_3=toh', 'first_3=tol', 'first_3=tom', 'first_3=ton', 'first_3=too', 'first_3=toq', 'first_3=tor', 'first_3=tos', 'first_3=tov', 'first_3=tow', 'first_3=toy', 'first_3=tra', 'first_3=tre', 'first_3=tri', 'first_3=trl', 'first_3=tro', 'first_3=tru', 'first_3=tsh', 'first_3=tth', 'first_3=tua', 'first_3=tub', 'first_3=tud', 'first_3=tuf', 'first_3=tuk', 'first_3=tul', 'first_3=tum', 'first_3=tun', 'first_3=tup', 'first_3=tur', 'first_3=tus', 'first_3=tuv', 'first_3=tuw', 'first_3=twa', 'first_3=twe', 'first_3=twi', 'first_3=two', 'first_3=twy', 'first_3=tya', 'first_3=tyb', 'first_3=tyc', 'first_3=tyd', 'first_3=tye', 'first_3=tyh', 'first_3=tyj', 'first_3=tyk', 'first_3=tyl', 'first_3=tym', 'first_3=tyn', 'first_3=tyo', 'first_3=typ', 'first_3=tyq', 'first_3=tyr', 'first_3=tys', 'first_3=tyv', 'first_3=tyw', 'first_3=ube', 'first_3=uda', 'first_3=ude', 'first_3=udh', 'first_3=udi', 'first_3=udm', 'first_3=udr', 'first_3=uga', 'first_3=ugm', 'first_3=uja', 'first_3=uji', 'first_3=ujj', 'first_3=uke', 'first_3=ula', 'first_3=ule', 'first_3=uli', 'first_3=ulr', 'first_3=uly', 'first_3=uma', 'first_3=umb', 'first_3=umd', 'first_3=ume', 'first_3=umr', 'first_3=und', 'first_3=ung', 'first_3=uni', 'first_3=unk', 'first_3=unt', 'first_3=upa', 'first_3=upe', 'first_3=ura', 'first_3=urb', 'first_3=ure', 'first_3=uri', 'first_3=urm', 'first_3=urs', 'first_3=urv', 'first_3=urw', 'first_3=usa', 'first_3=ush', 'first_3=usm', 'first_3=uta', 'first_3=utp', 'first_3=utt', 'first_3=uva', 'first_3=uvo', 'first_3=uwe', 'first_3=vad', 'first_3=vah', 'first_3=vai', 'first_3=vak', 'first_3=val', 'first_3=van', 'first_3=var', 'first_3=vas', 'first_3=vau', 'first_3=vaz', 'first_3=vde', 'first_3=vea', 'first_3=ved', 'first_3=vee', 'first_3=vel', 'first_3=vem', 'first_3=ven', 'first_3=ver', 'first_3=ves', 'first_3=vet', 'first_3=vev', 'first_3=vi ', 'first_3=via', 'first_3=vib', 'first_3=vic', 'first_3=vid', 'first_3=vig', 'first_3=vih', 'first_3=vij', 'first_3=vik', 'first_3=vil', 'first_3=vim', 'first_3=vin', 'first_3=vio', 'first_3=vip', 'first_3=vir', 'first_3=vis', 'first_3=vit', 'first_3=viv', 'first_3=viy', 'first_3=vja', 'first_3=vjo', 'first_3=vla', 'first_3=vle', 'first_3=vne', 'first_3=vni', 'first_3=voh', 'first_3=voi', 'first_3=vol', 'first_3=von', 'first_3=vor', 'first_3=vre', 'first_3=vrt', 'first_3=vud', 'first_3=vuz', 'first_3=wab', 'first_3=wad', 'first_3=wah', 'first_3=waj', 'first_3=wak', 'first_3=wal', 'first_3=war', 'first_3=was', 'first_3=wat', 'first_3=wav', 'first_3=way', 'first_3=waz', 'first_3=web', 'first_3=wed', 'first_3=wel', 'first_3=wen', 'first_3=wer', 'first_3=wes', 'first_3=whe', 'first_3=whi', 'first_3=wid', 'first_3=wil', 'first_3=win', 'first_3=wir', 'first_3=wis', 'first_3=wit', 'first_3=wol', 'first_3=won', 'first_3=woo', 'first_3=wor', 'first_3=wra', 'first_3=wre', 'first_3=wyd', 'first_3=wyk', 'first_3=wyl', 'first_3=wym', 'first_3=wyn', 'first_3=wyo', 'first_3=xav', 'first_3=xxe', 'first_3=xza', 'first_3=ya ', 'first_3=yaa', 'first_3=yac', 'first_3=yad', 'first_3=yah', 'first_3=yak', 'first_3=yal', 'first_3=yam', 'first_3=yan', 'first_3=yaq', 'first_3=yar', 'first_3=yas', 'first_3=yat', 'first_3=yau', 'first_3=yaz', 'first_3=yee', 'first_3=yef', 'first_3=yel', 'first_3=yem', 'first_3=yen', 'first_3=yer', 'first_3=yes', 'first_3=yil', 'first_3=yir', 'first_3=yiv', 'first_3=yki', 'first_3=yoa', 'first_3=yoc', 'first_3=yoe', 'first_3=yog', 'first_3=yoh', 'first_3=yoi', 'first_3=yol', 'first_3=yom', 'first_3=yon', 'first_3=yoq', 'first_3=yor', 'first_3=yos', 'first_3=yot', 'first_3=you', 'first_3=yov', 'first_3=ytr', 'first_3=yua', 'first_3=yud', 'first_3=yuk', 'first_3=yul', 'first_3=yum', 'first_3=yun', 'first_3=yur', 'first_3=yus', 'first_3=yuv', 'first_3=yva', 'first_3=yve', 'first_3=yvo', 'first_3=zab', 'first_3=zac', 'first_3=zad', 'first_3=zae', 'first_3=zaf', 'first_3=zah', 'first_3=zai', 'first_3=zak', 'first_3=zam', 'first_3=zan', 'first_3=zar', 'first_3=zau', 'first_3=zav', 'first_3=zaw', 'first_3=zay', 'first_3=zeb', 'first_3=zed', 'first_3=zee', 'first_3=zel', 'first_3=zen', 'first_3=zep', 'first_3=zer', 'first_3=zes', 'first_3=zet', 'first_3=zev', 'first_3=zhe', 'first_3=zhi', 'first_3=zi ', 'first_3=zia', 'first_3=zib', 'first_3=zie', 'first_3=zig', 'first_3=zik', 'first_3=zil', 'first_3=zim', 'first_3=zir', 'first_3=zis', 'first_3=ziy', 'first_3=zle', 'first_3=zli', 'first_3=zma', 'first_3=zmi', 'first_3=zmu', 'first_3=zoe', 'first_3=zon', 'first_3=zor', 'first_3=zoy', 'first_3=zra', 'first_3=zre', 'first_3=zri', 'first_3=zsa', 'first_3=zsv', 'first_3=zuc', 'first_3=zud', 'first_3=zuh', 'first_3=zul', 'first_3=zuq', 'first_3=zuv', 'first_3=zuz', 'first_3=zyk', 'first_3=zyq', 'fl_is_v', 'last_2= g', 'last_2= i', 'last_2= k', 'last_2= t', 'last_2= z', 'last_2=aa', 'last_2=ab', 'last_2=ac', 'last_2=ad', 'last_2=ae', 'last_2=af', 'last_2=ag', 'last_2=ah', 'last_2=ai', 'last_2=aj', 'last_2=ak', 'last_2=al', 'last_2=am', 'last_2=an', 'last_2=ao', 'last_2=ap', 'last_2=aq', 'last_2=ar', 'last_2=as', 'last_2=at', 'last_2=au', 'last_2=av', 'last_2=aw', 'last_2=ax', 'last_2=ay', 'last_2=az', 'last_2=ba', 'last_2=be', 'last_2=bh', 'last_2=bi', 'last_2=bm', 'last_2=bn', 'last_2=bo', 'last_2=br', 'last_2=bu', 'last_2=by', 'last_2=ca', 'last_2=ce', 'last_2=ch', 'last_2=ci', 'last_2=ck', 'last_2=co', 'last_2=ct', 'last_2=cu', 'last_2=cy', 'last_2=da', 'last_2=dd', 'last_2=de', 'last_2=dh', 'last_2=di', 'last_2=dl', 'last_2=dn', 'last_2=do', 'last_2=dr', 'last_2=ds', 'last_2=dt', 'last_2=du', 'last_2=dy', 'last_2=dz', 'last_2=ea', 'last_2=eb', 'last_2=ec', 'last_2=ed', 'last_2=ee', 'last_2=ef', 'last_2=eg', 'last_2=eh', 'last_2=ei', 'last_2=ej', 'last_2=ek', 'last_2=el', 'last_2=em', 'last_2=en', 'last_2=eo', 'last_2=ep', 'last_2=er', 'last_2=es', 'last_2=et', 'last_2=eu', 'last_2=ev', 'last_2=ew', 'last_2=ex', 'last_2=ey', 'last_2=ez', 'last_2=fa', 'last_2=fe', 'last_2=ff', 'last_2=fi', 'last_2=fo', 'last_2=ga', 'last_2=ge', 'last_2=gg', 'last_2=gh', 'last_2=gi', 'last_2=gj', 'last_2=gl', 'last_2=gm', 'last_2=gn', 'last_2=go', 'last_2=gr', 'last_2=gu', 'last_2=gy', 'last_2=ha', 'last_2=hd', 'last_2=he', 'last_2=hh', 'last_2=hi', 'last_2=hj', 'last_2=hl', 'last_2=hm', 'last_2=hn', 'last_2=ho', 'last_2=hs', 'last_2=ht', 'last_2=hu', 'last_2=hv', 'last_2=hw', 'last_2=hy', 'last_2=hz', 'last_2=ia', 'last_2=ib', 'last_2=ic', 'last_2=id', 'last_2=ie', 'last_2=if', 'last_2=ig', 'last_2=ih', 'last_2=ii', 'last_2=ij', 'last_2=ik', 'last_2=il', 'last_2=im', 'last_2=in', 'last_2=io', 'last_2=ip', 'last_2=iq', 'last_2=ir', 'last_2=is', 'last_2=it', 'last_2=iu', 'last_2=iv', 'last_2=ix', 'last_2=iy', 'last_2=iz', 'last_2=ja', 'last_2=jd', 'last_2=je', 'last_2=jh', 'last_2=ji', 'last_2=jl', 'last_2=jn', 'last_2=jo', 'last_2=ju', 'last_2=jy', 'last_2=ka', 'last_2=ke', 'last_2=kh', 'last_2=ki', 'last_2=kl', 'last_2=ko', 'last_2=ks', 'last_2=kt', 'last_2=ku', 'last_2=ky', 'last_2=la', 'last_2=ld', 'last_2=le', 'last_2=lf', 'last_2=li', 'last_2=lj', 'last_2=ll', 'last_2=lm', 'last_2=ln', 'last_2=lo', 'last_2=lp', 'last_2=ls', 'last_2=lt', 'last_2=lu', 'last_2=lv', 'last_2=ly', 'last_2=lz', 'last_2=ma', 'last_2=md', 'last_2=me', 'last_2=mi', 'last_2=mn', 'last_2=mo', 'last_2=mr', 'last_2=ms', 'last_2=mt', 'last_2=mu', 'last_2=my', 'last_2=nc', 'last_2=nd', 'last_2=ne', 'last_2=ng', 'last_2=nh', 'last_2=ni', 'last_2=nj', 'last_2=nk', 'last_2=nl', 'last_2=nm', 'last_2=nn', 'last_2=no', 'last_2=nr', 'last_2=ns', 'last_2=nt', 'last_2=nu', 'last_2=nv', 'last_2=nx', 'last_2=ny', 'last_2=nz', 'last_2=oa', 'last_2=ob', 'last_2=od', 'last_2=oe', 'last_2=of', 'last_2=oh', 'last_2=oi', 'last_2=oj', 'last_2=ok', 'last_2=ol', 'last_2=om', 'last_2=on', 'last_2=oo', 'last_2=op', 'last_2=oq', 'last_2=or', 'last_2=os', 'last_2=ot', 'last_2=ou', 'last_2=ow', 'last_2=ox', 'last_2=oy', 'last_2=oz', 'last_2=pa', 'last_2=pe', 'last_2=ph', 'last_2=pi', 'last_2=po', 'last_2=pp', 'last_2=ps', 'last_2=pt', 'last_2=pu', 'last_2=py', 'last_2=qu', 'last_2=ra', 'last_2=rb', 'last_2=rc', 'last_2=rd', 'last_2=re', 'last_2=rf', 'last_2=rg', 'last_2=ri', 'last_2=rj', 'last_2=rk', 'last_2=rl', 'last_2=rm', 'last_2=rn', 'last_2=ro', 'last_2=rr', 'last_2=rs', 'last_2=rt', 'last_2=ru', 'last_2=rv', 'last_2=rx', 'last_2=ry', 'last_2=rz', 'last_2=sa', 'last_2=se', 'last_2=sh', 'last_2=si', 'last_2=sl', 'last_2=sn', 'last_2=so', 'last_2=ss', 'last_2=st', 'last_2=su', 'last_2=sv', 'last_2=sy', 'last_2=ta', 'last_2=te', 'last_2=th', 'last_2=ti', 'last_2=tl', 'last_2=to', 'last_2=tr', 'last_2=ts', 'last_2=tt', 'last_2=tu', 'last_2=tw', 'last_2=ty', 'last_2=tz', 'last_2=ua', 'last_2=ub', 'last_2=uc', 'last_2=ud', 'last_2=ue', 'last_2=uf', 'last_2=ug', 'last_2=uh', 'last_2=ui', 'last_2=uj', 'last_2=uk', 'last_2=ul', 'last_2=um', 'last_2=un', 'last_2=uo', 'last_2=up', 'last_2=uq', 'last_2=ur', 'last_2=us', 'last_2=ut', 'last_2=uu', 'last_2=uy', 'last_2=uz', 'last_2=va', 'last_2=ve', 'last_2=vh', 'last_2=vi', 'last_2=vm', 'last_2=vn', 'last_2=vo', 'last_2=vr', 'last_2=vy', 'last_2=wa', 'last_2=we', 'last_2=wi', 'last_2=wn', 'last_2=wr', 'last_2=ws', 'last_2=xa', 'last_2=xe', 'last_2=xi', 'last_2=xn', 'last_2=xo', 'last_2=xs', 'last_2=xx', 'last_2=ya', 'last_2=yc', 'last_2=yd', 'last_2=ye', 'last_2=yf', 'last_2=yh', 'last_2=yi', 'last_2=yk', 'last_2=yl', 'last_2=ym', 'last_2=yn', 'last_2=yo', 'last_2=yr', 'last_2=ys', 'last_2=yt', 'last_2=yu', 'last_2=yv', 'last_2=yw', 'last_2=za', 'last_2=ze', 'last_2=zi', 'last_2=zo', 'last_2=zu', 'last_2=zy', 'last_2=zz', 'last_3= ag', 'last_3= az', 'last_3= bu', 'last_3= hi', 'last_3= in', 'last_3= ja', 'last_3= je', 'last_3= ji', 'last_3= me', 'last_3= mi', 'last_3= mo', 'last_3= ra', 'last_3= sa', 'last_3= so', 'last_3= th', 'last_3=a g', 'last_3=a t', 'last_3=aac', 'last_3=aad', 'last_3=aai', 'last_3=aak', 'last_3=aal', 'last_3=aan', 'last_3=aar', 'last_3=aat', 'last_3=aaz', 'last_3=aba', 'last_3=abe', 'last_3=abh', 'last_3=abi', 'last_3=abm', 'last_3=abo', 'last_3=abr', 'last_3=abu', 'last_3=aby', 'last_3=ace', 'last_3=ach', 'last_3=aci', 'last_3=ack', 'last_3=acy', 'last_3=ada', 'last_3=add', 'last_3=ade', 'last_3=adh', 'last_3=adi', 'last_3=adn', 'last_3=ado', 'last_3=adu', 'last_3=ady', 'last_3=aed', 'last_3=aee', 'last_3=ael', 'last_3=aen', 'last_3=aes', 'last_3=aey', 'last_3=afa', 'last_3=afe', 'last_3=afi', 'last_3=aga', 'last_3=age', 'last_3=agi', 'last_3=ago', 'last_3=aha', 'last_3=ahe', 'last_3=ahi', 'last_3=ahj', 'last_3=ahl', 'last_3=ahm', 'last_3=ahn', 'last_3=ahu', 'last_3=ahv', 'last_3=ahz', 'last_3=aib', 'last_3=aic', 'last_3=aid', 'last_3=aie', 'last_3=aif', 'last_3=aig', 'last_3=aih', 'last_3=ail', 'last_3=aim', 'last_3=ain', 'last_3=air', 'last_3=ais', 'last_3=ait', 'last_3=aiz', 'last_3=aja', 'last_3=ajd', 'last_3=aji', 'last_3=ajl', 'last_3=ajo', 'last_3=aju', 'last_3=aka', 'last_3=ake', 'last_3=akh', 'last_3=aki', 'last_3=ako', 'last_3=aks', 'last_3=aku', 'last_3=ala', 'last_3=ald', 'last_3=ale', 'last_3=alf', 'last_3=ali', 'last_3=all', 'last_3=alo', 'last_3=alp', 'last_3=alu', 'last_3=aly', 'last_3=ama', 'last_3=amd', 'last_3=ame', 'last_3=ami', 'last_3=amn', 'last_3=amo', 'last_3=amr', 'last_3=ams', 'last_3=amt', 'last_3=amu', 'last_3=amy', 'last_3=ane', 'last_3=ang', 'last_3=anh', 'last_3=ani', 'last_3=anj', 'last_3=ank', 'last_3=anl', 'last_3=anm', 'last_3=ann', 'last_3=ano', 'last_3=ans', 'last_3=ant', 'last_3=anu', 'last_3=any', 'last_3=aon', 'last_3=aos', 'last_3=aot', 'last_3=apa', 'last_3=app', 'last_3=apt', 'last_3=apu', 'last_3=ara', 'last_3=arb', 'last_3=arc', 'last_3=ard', 'last_3=are', 'last_3=arg', 'last_3=ari', 'last_3=arj', 'last_3=ark', 'last_3=arl', 'last_3=arm', 'last_3=arn', 'last_3=aro', 'last_3=arr', 'last_3=ars', 'last_3=art', 'last_3=aru', 'last_3=arv', 'last_3=arx', 'last_3=ary', 'last_3=arz', 'last_3=asa', 'last_3=ase', 'last_3=ash', 'last_3=asi', 'last_3=aso', 'last_3=ass', 'last_3=ast', 'last_3=asu', 'last_3=ata', 'last_3=ate', 'last_3=ath', 'last_3=ati', 'last_3=ato', 'last_3=ats', 'last_3=att', 'last_3=atu', 'last_3=atw', 'last_3=aud', 'last_3=aue', 'last_3=auh', 'last_3=aui', 'last_3=aul', 'last_3=aum', 'last_3=aun', 'last_3=aur', 'last_3=aus', 'last_3=ava', 'last_3=ave', 'last_3=avi', 'last_3=avm', 'last_3=avo', 'last_3=avy', 'last_3=awa', 'last_3=awi', 'last_3=awn', 'last_3=axe', 'last_3=axo', 'last_3=aya', 'last_3=aye', 'last_3=ayh', 'last_3=ayl', 'last_3=ayn', 'last_3=ayo', 'last_3=ays', 'last_3=ayv', 'last_3=aza', 'last_3=aze', 'last_3=azi', 'last_3=azo', 'last_3=azz', 'last_3=bad', 'last_3=bae', 'last_3=bai', 'last_3=baj', 'last_3=bak', 'last_3=bal', 'last_3=bam', 'last_3=ban', 'last_3=bar', 'last_3=bas', 'last_3=bay', 'last_3=baz', 'last_3=bba', 'last_3=bbi', 'last_3=bbu', 'last_3=bby', 'last_3=bch', 'last_3=bda', 'last_3=bed', 'last_3=bee', 'last_3=beg', 'last_3=bel', 'last_3=ben', 'last_3=ber', 'last_3=bet', 'last_3=bey', 'last_3=bez', 'last_3=bha', 'last_3=bhi', 'last_3=bhm', 'last_3=bhu', 'last_3=bia', 'last_3=bib', 'last_3=bid', 'last_3=bie', 'last_3=bij', 'last_3=bim', 'last_3=bin', 'last_3=bio', 'last_3=bir', 'last_3=bis', 'last_3=ble', 'last_3=bli', 'last_3=blo', 'last_3=blu', 'last_3=bob', 'last_3=bon', 'last_3=boo', 'last_3=bor', 'last_3=bra', 'last_3=bre', 'last_3=bri', 'last_3=brn', 'last_3=bro', 'last_3=bry', 'last_3=bsa', 'last_3=bul', 'last_3=bur', 'last_3=bus', 'last_3=but', 'last_3=bva', 'last_3=byn', 'last_3=bys', 'last_3=cab', 'last_3=cah', 'last_3=cai', 'last_3=cal', 'last_3=cam', 'last_3=can', 'last_3=car', 'last_3=cas', 'last_3=caz', 'last_3=cca', 'last_3=cci', 'last_3=cco', 'last_3=ccy', 'last_3=cea', 'last_3=ced', 'last_3=cee', 'last_3=cel', 'last_3=cen', 'last_3=ceo', 'last_3=cer', 'last_3=ces', 'last_3=cet', 'last_3=cey', 'last_3=cha', 'last_3=che', 'last_3=chi', 'last_3=chl', 'last_3=chn', 'last_3=cho', 'last_3=chu', 'last_3=chy', 'last_3=cia', 'last_3=cie', 'last_3=cii', 'last_3=cil', 'last_3=cio', 'last_3=cis', 'last_3=cka', 'last_3=cke', 'last_3=cki', 'last_3=cks', 'last_3=cky', 'last_3=cle', 'last_3=cli', 'last_3=cob', 'last_3=coe', 'last_3=col', 'last_3=com', 'last_3=con', 'last_3=cos', 'last_3=cot', 'last_3=coy', 'last_3=cto', 'last_3=cus', 'last_3=dab', 'last_3=dad', 'last_3=dah', 'last_3=dai', 'last_3=dak', 'last_3=dal', 'last_3=dam', 'last_3=dan', 'last_3=dar', 'last_3=das', 'last_3=dat', 'last_3=dav', 'last_3=day', 'last_3=dda', 'last_3=dde', 'last_3=ddh', 'last_3=ddi', 'last_3=ddo', 'last_3=ddu', 'last_3=ddy', 'last_3=dea', 'last_3=dee', 'last_3=del', 'last_3=dem', 'last_3=den', 'last_3=dep', 'last_3=der', 'last_3=des', 'last_3=det', 'last_3=deu', 'last_3=dev', 'last_3=dew', 'last_3=dex', 'last_3=dey', 'last_3=dga', 'last_3=dge', 'last_3=dha', 'last_3=dhi', 'last_3=dho', 'last_3=dhu', 'last_3=dhy', 'last_3=dia', 'last_3=dib', 'last_3=dic', 'last_3=did', 'last_3=die', 'last_3=dih', 'last_3=dik', 'last_3=dil', 'last_3=dim', 'last_3=din', 'last_3=dio', 'last_3=diq', 'last_3=dir', 'last_3=dis', 'last_3=dit', 'last_3=diy', 'last_3=dja', 'last_3=djy', 'last_3=dla', 'last_3=dle', 'last_3=dli', 'last_3=dly', 'last_3=dma', 'last_3=dny', 'last_3=doe', 'last_3=doi', 'last_3=dol', 'last_3=dom', 'last_3=don', 'last_3=dor', 'last_3=dos', 'last_3=dou', 'last_3=dow', 'last_3=doy', 'last_3=dra', 'last_3=dre', 'last_3=dri', 'last_3=dro', 'last_3=dru', 'last_3=dry', 'last_3=dth', 'last_3=dua', 'last_3=dul', 'last_3=dur', 'last_3=dus', 'last_3=dut', 'last_3=dwa', 'last_3=dwi', 'last_3=dya', 'last_3=dyl', 'last_3=dyn', 'last_3=dys', 'last_3=dyw', 'last_3=e k', 'last_3=eab', 'last_3=eac', 'last_3=ead', 'last_3=eah', 'last_3=eak', 'last_3=eal', 'last_3=ean', 'last_3=ear', 'last_3=eas', 'last_3=eau', 'last_3=eba', 'last_3=ebe', 'last_3=ebi', 'last_3=eby', 'last_3=eca', 'last_3=ece', 'last_3=ech', 'last_3=eci', 'last_3=eck', 'last_3=eco', 'last_3=ecy', 'last_3=eda', 'last_3=edd', 'last_3=ede', 'last_3=edi', 'last_3=edl', 'last_3=edo', 'last_3=edt', 'last_3=edu', 'last_3=edy', 'last_3=eeb', 'last_3=eed', 'last_3=eef', 'last_3=eeh', 'last_3=eek', 'last_3=eel', 'last_3=eem', 'last_3=een', 'last_3=eep', 'last_3=eer', 'last_3=ees', 'last_3=eet', 'last_3=eev', 'last_3=eez', 'last_3=efa', 'last_3=efe', 'last_3=eff', 'last_3=efi', 'last_3=ega', 'last_3=ege', 'last_3=egg', 'last_3=egi', 'last_3=egl', 'last_3=egm', 'last_3=ego', 'last_3=eha', 'last_3=ehe', 'last_3=ehi', 'last_3=ehj', 'last_3=ehu', 'last_3=ehz', 'last_3=eia', 'last_3=eid', 'last_3=eif', 'last_3=eig', 'last_3=eii', 'last_3=eil', 'last_3=eim', 'last_3=ein', 'last_3=eio', 'last_3=eir', 'last_3=eis', 'last_3=eit', 'last_3=eja', 'last_3=eje', 'last_3=eji', 'last_3=ejo', 'last_3=eka', 'last_3=eke', 'last_3=ekh', 'last_3=eki', 'last_3=eko', 'last_3=eks', 'last_3=ela', 'last_3=eld', 'last_3=ele', 'last_3=eli', 'last_3=ell', 'last_3=elo', 'last_3=elt', 'last_3=elu', 'last_3=elv', 'last_3=ely', 'last_3=ema', 'last_3=eme', 'last_3=emi', 'last_3=emo', 'last_3=ems', 'last_3=emy', 'last_3=enc', 'last_3=end', 'last_3=ene', 'last_3=eng', 'last_3=eni', 'last_3=enl', 'last_3=enn', 'last_3=eno', 'last_3=ens', 'last_3=ent', 'last_3=enu', 'last_3=eny', 'last_3=enz', 'last_3=eol', 'last_3=eon', 'last_3=epa', 'last_3=eph', 'last_3=epu', 'last_3=era', 'last_3=erb', 'last_3=erd', 'last_3=ere', 'last_3=erg', 'last_3=eri', 'last_3=erk', 'last_3=erl', 'last_3=ern', 'last_3=ero', 'last_3=err', 'last_3=ers', 'last_3=ert', 'last_3=eru', 'last_3=erv', 'last_3=ery', 'last_3=esa', 'last_3=ese', 'last_3=esh', 'last_3=esi', 'last_3=esl', 'last_3=eso', 'last_3=ess', 'last_3=est', 'last_3=esv', 'last_3=eta', 'last_3=ete', 'last_3=eth', 'last_3=eti', 'last_3=eto', 'last_3=etr', 'last_3=ett', 'last_3=etu', 'last_3=ety', 'last_3=eud', 'last_3=eus', 'last_3=eva', 'last_3=eve', 'last_3=evi', 'last_3=evo', 'last_3=evy', 'last_3=ewa', 'last_3=ews', 'last_3=exa', 'last_3=exe', 'last_3=exi', 'last_3=exs', 'last_3=exx', 'last_3=eya', 'last_3=eyi', 'last_3=eyl', 'last_3=eyo', 'last_3=eys', 'last_3=eza', 'last_3=eze', 'last_3=ezi', 'last_3=fah', 'last_3=fal', 'last_3=fam', 'last_3=fan', 'last_3=faq', 'last_3=far', 'last_3=fas', 'last_3=fat', 'last_3=fed', 'last_3=fee', 'last_3=fel', 'last_3=fen', 'last_3=fer', 'last_3=ffe', 'last_3=fia', 'last_3=fie', 'last_3=fif', 'last_3=fik', 'last_3=fin', 'last_3=fio', 'last_3=fiq', 'last_3=fir', 'last_3=fit', 'last_3=fiz', 'last_3=fon', 'last_3=for', 'last_3=foy', 'last_3=fra', 'last_3=fry', 'last_3=fsa', 'last_3=fta', 'last_3=fuj', 'last_3=ful', 'last_3=fun', 'last_3=fur', 'last_3=fus', 'last_3=gad', 'last_3=gag', 'last_3=gah', 'last_3=gal', 'last_3=gam', 'last_3=gan', 'last_3=gar', 'last_3=gas', 'last_3=gat', 'last_3=gav', 'last_3=gce', 'last_3=gda', 'last_3=gee', 'last_3=gel', 'last_3=gen', 'last_3=ger', 'last_3=ges', 'last_3=get', 'last_3=gey', 'last_3=gga', 'last_3=ggy', 'last_3=gha', 'last_3=ghi', 'last_3=ghn', 'last_3=ght', 'last_3=gia', 'last_3=gib', 'last_3=gid', 'last_3=gie', 'last_3=gil', 'last_3=gim', 'last_3=gin', 'last_3=gio', 'last_3=gir', 'last_3=gis', 'last_3=git', 'last_3=gla', 'last_3=gle', 'last_3=gli', 'last_3=gma', 'last_3=gne', 'last_3=gni', 'last_3=gno', 'last_3=gny', 'last_3=god', 'last_3=gon', 'last_3=gop', 'last_3=gor', 'last_3=gra', 'last_3=gro', 'last_3=gsi', 'last_3=gta', 'last_3=gti', 'last_3=gua', 'last_3=gum', 'last_3=gun', 'last_3=gus', 'last_3=guy', 'last_3=gya', 'last_3=haa', 'last_3=hab', 'last_3=hac', 'last_3=had', 'last_3=hae', 'last_3=haf', 'last_3=hag', 'last_3=hah', 'last_3=hai', 'last_3=haj', 'last_3=hak', 'last_3=hal', 'last_3=ham', 'last_3=han', 'last_3=haq', 'last_3=har', 'last_3=has', 'last_3=hat', 'last_3=hau', 'last_3=hav', 'last_3=haw', 'last_3=hay', 'last_3=haz', 'last_3=hbu', 'last_3=hby', 'last_3=hch', 'last_3=hdi', 'last_3=hea', 'last_3=heb', 'last_3=hed', 'last_3=hee', 'last_3=hej', 'last_3=hek', 'last_3=hel', 'last_3=hem', 'last_3=hen', 'last_3=heo', 'last_3=her', 'last_3=hes', 'last_3=het', 'last_3=hew', 'last_3=hey', 'last_3=hez', 'last_3=hhe', 'last_3=hhi', 'last_3=hia', 'last_3=hib', 'last_3=hid', 'last_3=hie', 'last_3=hif', 'last_3=hik', 'last_3=hil', 'last_3=him', 'last_3=hin', 'last_3=hip', 'last_3=hir', 'last_3=his', 'last_3=hit', 'last_3=hiv', 'last_3=hiy', 'last_3=hja', 'last_3=hjo', 'last_3=hka', 'last_3=hla', 'last_3=hli', 'last_3=hma', 'last_3=hmd', 'last_3=hmi', 'last_3=hne', 'last_3=hni', 'last_3=hnu', 'last_3=hny', 'last_3=hod', 'last_3=hoi', 'last_3=hok', 'last_3=hol', 'last_3=hom', 'last_3=hon', 'last_3=hoo', 'last_3=hop', 'last_3=hor', 'last_3=hos', 'last_3=hot', 'last_3=hoy', 'last_3=hpa', 'last_3=hra', 'last_3=hre', 'last_3=hri', 'last_3=hry', 'last_3=hsa', 'last_3=hsi', 'last_3=hso', 'last_3=hta', 'last_3=hte', 'last_3=hth', 'last_3=hti', 'last_3=hto', 'last_3=hty', 'last_3=hua', 'last_3=hud', 'last_3=hue', 'last_3=hug', 'last_3=hui', 'last_3=huj', 'last_3=hul', 'last_3=hum', 'last_3=hun', 'last_3=huq', 'last_3=hur', 'last_3=hus', 'last_3=hut', 'last_3=huy', 'last_3=hva', 'last_3=hvi', 'last_3=hvr', 'last_3=hwa', 'last_3=hwi', 'last_3=hya', 'last_3=iac', 'last_3=iad', 'last_3=iae', 'last_3=iah', 'last_3=ial', 'last_3=iam', 'last_3=ian', 'last_3=iar', 'last_3=ias', 'last_3=iba', 'last_3=ibi', 'last_3=ibn', 'last_3=ibo', 'last_3=ica', 'last_3=ice', 'last_3=ich', 'last_3=ick', 'last_3=ico', 'last_3=ict', 'last_3=ida', 'last_3=ide', 'last_3=idi', 'last_3=ido', 'last_3=idu', 'last_3=idy', 'last_3=iea', 'last_3=ied', 'last_3=iee', 'last_3=ief', 'last_3=iek', 'last_3=iel', 'last_3=iem', 'last_3=ien', 'last_3=ieo', 'last_3=ier', 'last_3=ies', 'last_3=iet', 'last_3=ieu', 'last_3=iev', 'last_3=iez', 'last_3=ifa', 'last_3=ife', 'last_3=iff', 'last_3=ifi', 'last_3=iga', 'last_3=ige', 'last_3=igg', 'last_3=igh', 'last_3=igi', 'last_3=ign', 'last_3=igo', 'last_3=igu', 'last_3=iha', 'last_3=iie', 'last_3=iii', 'last_3=iil', 'last_3=iis', 'last_3=ija', 'last_3=iji', 'last_3=ijn', 'last_3=iju', 'last_3=ika', 'last_3=ike', 'last_3=ikh', 'last_3=iki', 'last_3=iko', 'last_3=ila', 'last_3=ild', 'last_3=ile', 'last_3=ili', 'last_3=ill', 'last_3=ilo', 'last_3=ils', 'last_3=ilu', 'last_3=ily', 'last_3=ima', 'last_3=ime', 'last_3=imn', 'last_3=imo', 'last_3=ims', 'last_3=imy', 'last_3=inc', 'last_3=ind', 'last_3=ine', 'last_3=ing', 'last_3=inh', 'last_3=ini', 'last_3=inj', 'last_3=inl', 'last_3=inn', 'last_3=ino', 'last_3=inr', 'last_3=ins', 'last_3=int', 'last_3=inu', 'last_3=iny', 'last_3=ioa', 'last_3=iol', 'last_3=iom', 'last_3=ion', 'last_3=ior', 'last_3=ios', 'last_3=iot', 'last_3=ipe', 'last_3=ipo', 'last_3=ipp', 'last_3=ips', 'last_3=ipu', 'last_3=iqu', 'last_3=ira', 'last_3=ird', 'last_3=ire', 'last_3=iri', 'last_3=irj', 'last_3=irk', 'last_3=irn', 'last_3=iro', 'last_3=iru', 'last_3=iry', 'last_3=isa', 'last_3=ise', 'last_3=ish', 'last_3=isi', 'last_3=isl', 'last_3=iso', 'last_3=iss', 'last_3=ist', 'last_3=isu', 'last_3=isy', 'last_3=ita', 'last_3=ite', 'last_3=ith', 'last_3=iti', 'last_3=ito', 'last_3=itt', 'last_3=itu', 'last_3=ity', 'last_3=itz', 'last_3=iud', 'last_3=ium', 'last_3=iun', 'last_3=ius', 'last_3=iva', 'last_3=ive', 'last_3=ivi', 'last_3=ivo', 'last_3=ivy', 'last_3=iwi', 'last_3=ixi', 'last_3=iya', 'last_3=iyf', 'last_3=iyn', 'last_3=iyr', 'last_3=iyu', 'last_3=iza', 'last_3=ize', 'last_3=izi', 'last_3=izo', 'last_3=jad', 'last_3=jae', 'last_3=jah', 'last_3=jai', 'last_3=jaj', 'last_3=jak', 'last_3=jal', 'last_3=jam', 'last_3=jan', 'last_3=jar', 'last_3=jas', 'last_3=jat', 'last_3=jay', 'last_3=jda', 'last_3=jeb', 'last_3=jed', 'last_3=jee', 'last_3=jel', 'last_3=jen', 'last_3=jer', 'last_3=jha', 'last_3=jhh', 'last_3=jhi', 'last_3=jia', 'last_3=jib', 'last_3=jic', 'last_3=jid', 'last_3=jik', 'last_3=jim', 'last_3=jiq', 'last_3=jis', 'last_3=jit', 'last_3=jiv', 'last_3=jiz', 'last_3=jja', 'last_3=jju', 'last_3=jka', 'last_3=jla', 'last_3=jli', 'last_3=jma', 'last_3=jni', 'last_3=job', 'last_3=joe', 'last_3=joh', 'last_3=joi', 'last_3=jol', 'last_3=jon', 'last_3=joo', 'last_3=jor', 'last_3=jos', 'last_3=joy', 'last_3=jra', 'last_3=jta', 'last_3=jua', 'last_3=jul', 'last_3=jum', 'last_3=jun', 'last_3=jur', 'last_3=jwi', 'last_3=jya', 'last_3=kab', 'last_3=kad', 'last_3=kah', 'last_3=kai', 'last_3=kaj', 'last_3=kak', 'last_3=kal', 'last_3=kam', 'last_3=kan', 'last_3=kar', 'last_3=kas', 'last_3=kat', 'last_3=kaw', 'last_3=kay', 'last_3=kch', 'last_3=kco', 'last_3=kda', 'last_3=kdy', 'last_3=ked', 'last_3=kee', 'last_3=kei', 'last_3=kel', 'last_3=kem', 'last_3=ken', 'last_3=keo', 'last_3=ker', 'last_3=kes', 'last_3=ket', 'last_3=key', 'last_3=kha', 'last_3=khi', 'last_3=khu', 'last_3=kia', 'last_3=kib', 'last_3=kie', 'last_3=kil', 'last_3=kim', 'last_3=kin', 'last_3=kio', 'last_3=kip', 'last_3=kir', 'last_3=kis', 'last_3=kit', 'last_3=kka', 'last_3=kki', 'last_3=kko', 'last_3=kku', 'last_3=kky', 'last_3=kla', 'last_3=kle', 'last_3=kly', 'last_3=kni', 'last_3=kob', 'last_3=kol', 'last_3=kon', 'last_3=koo', 'last_3=kor', 'last_3=kos', 'last_3=kra', 'last_3=ksa', 'last_3=kse', 'last_3=ksh', 'last_3=ksi', 'last_3=kta', 'last_3=kti', 'last_3=kue', 'last_3=kul', 'last_3=kum', 'last_3=kun', 'last_3=kur', 'last_3=kus', 'last_3=kvr', 'last_3=kwa', 'last_3=kxi', 'last_3=kya', 'last_3=kye', 'last_3=kyl', 'last_3=kys', 'last_3=laa', 'last_3=lab', 'last_3=lad', 'last_3=lah', 'last_3=lai', 'last_3=lak', 'last_3=lal', 'last_3=lam', 'last_3=lan', 'last_3=lao', 'last_3=lap', 'last_3=lar', 'last_3=las', 'last_3=lat', 'last_3=lau', 'last_3=lav', 'last_3=law', 'last_3=lax', 'last_3=lay', 'last_3=laz', 'last_3=lba', 'last_3=lbe', 'last_3=lbi', 'last_3=lby', 'last_3=lch', 'last_3=lci', 'last_3=lda', 'last_3=ldi', 'last_3=ldo', 'last_3=lds', 'last_3=ldy', 'last_3=lea', 'last_3=leb', 'last_3=lec', 'last_3=lee', 'last_3=leg', 'last_3=lei', 'last_3=lej', 'last_3=lek', 'last_3=lel', 'last_3=lem', 'last_3=len', 'last_3=leo', 'last_3=ler', 'last_3=les', 'last_3=let', 'last_3=lew', 'last_3=lex', 'last_3=ley', 'last_3=lfi', 'last_3=lfo', 'last_3=lga', 'last_3=lha', 'last_3=lhi', 'last_3=lia', 'last_3=lib', 'last_3=lic', 'last_3=lid', 'last_3=lie', 'last_3=lif', 'last_3=lih', 'last_3=lii', 'last_3=lik', 'last_3=lil', 'last_3=lim', 'last_3=lin', 'last_3=lio', 'last_3=lip', 'last_3=lir', 'last_3=lis', 'last_3=lit', 'last_3=liu', 'last_3=lix', 'last_3=liy', 'last_3=liz', 'last_3=lka', 'last_3=lke', 'last_3=lki', 'last_3=lla', 'last_3=lle', 'last_3=lli', 'last_3=llo', 'last_3=lls', 'last_3=llu', 'last_3=lly', 'last_3=lma', 'last_3=lmi', 'last_3=lmo', 'last_3=lmy', 'last_3=lnj', 'last_3=lob', 'last_3=loe', 'last_3=loh', 'last_3=lok', 'last_3=lom', 'last_3=lon', 'last_3=loo', 'last_3=lop', 'last_3=lor', 'last_3=los', 'last_3=lot', 'last_3=lou', 'last_3=loy', 'last_3=lpa', 'last_3=lph', 'last_3=lpi', 'last_3=lra', 'last_3=lsa', 'last_3=lsi', 'last_3=lso', 'last_3=lta', 'last_3=lti', 'last_3=lto', 'last_3=lua', 'last_3=luc', 'last_3=lue', 'last_3=lui', 'last_3=lun', 'last_3=lup', 'last_3=lur', 'last_3=lus', 'last_3=luz', 'last_3=lva', 'last_3=lvi', 'last_3=lya', 'last_3=lyn', 'last_3=lys', 'last_3=lza', 'last_3=maa', 'last_3=mac', 'last_3=mad', 'last_3=mae', 'last_3=mag', 'last_3=mah', 'last_3=mai', 'last_3=maj', 'last_3=mak', 'last_3=mal', 'last_3=mam', 'last_3=man', 'last_3=mar', 'last_3=mas', 'last_3=mat', 'last_3=mav', 'last_3=max', 'last_3=may', 'last_3=mba', 'last_3=mbe', 'last_3=mbi', 'last_3=mby', 'last_3=mca', 'last_3=mch', 'last_3=mcy', 'last_3=mdi', 'last_3=mea', 'last_3=med', 'last_3=mee', 'last_3=meh', 'last_3=mei', 'last_3=mej', 'last_3=mel', 'last_3=mem', 'last_3=men', 'last_3=meo', 'last_3=mer', 'last_3=mes', 'last_3=met', 'last_3=mew', 'last_3=mey', 'last_3=mez', 'last_3=mho', 'last_3=mia', 'last_3=mid', 'last_3=mie', 'last_3=mik', 'last_3=mil', 'last_3=mim', 'last_3=min', 'last_3=mio', 'last_3=mir', 'last_3=mis', 'last_3=mit', 'last_3=miz', 'last_3=mji', 'last_3=mka', 'last_3=mki', 'last_3=mla', 'last_3=mle', 'last_3=mli', 'last_3=mma', 'last_3=mme', 'last_3=mmi', 'last_3=mmy', 'last_3=mni', 'last_3=mno', 'last_3=mod', 'last_3=moe', 'last_3=moh', 'last_3=moi', 'last_3=mol', 'last_3=mon', 'last_3=moo', 'last_3=mor', 'last_3=mos', 'last_3=mot', 'last_3=moy', 'last_3=mpa', 'last_3=mpi', 'last_3=mpu', 'last_3=mpy', 'last_3=mra', 'last_3=mri', 'last_3=mry', 'last_3=msa', 'last_3=msi', 'last_3=mta', 'last_3=mth', 'last_3=mti', 'last_3=mud', 'last_3=mun', 'last_3=mus', 'last_3=mya', 'last_3=mye', 'last_3=myn', 'last_3=myr', 'last_3=mza', 'last_3=n z', 'last_3=nca', 'last_3=nce', 'last_3=nch', 'last_3=nci', 'last_3=nck', 'last_3=nco', 'last_3=ncu', 'last_3=ncy', 'last_3=nda', 'last_3=nde', 'last_3=ndi', 'last_3=ndo', 'last_3=ndr', 'last_3=ndu', 'last_3=ndy', 'last_3=ndz', 'last_3=nea', 'last_3=ned', 'last_3=nee', 'last_3=neg', 'last_3=nek', 'last_3=nel', 'last_3=nen', 'last_3=ner', 'last_3=nes', 'last_3=net', 'last_3=ney', 'last_3=nez', 'last_3=nga', 'last_3=nge', 'last_3=ngh', 'last_3=ngi', 'last_3=ngj', 'last_3=ngo', 'last_3=ngu', 'last_3=nha', 'last_3=nhe', 'last_3=nia', 'last_3=nic', 'last_3=nid', 'last_3=nie', 'last_3=nif', 'last_3=nig', 'last_3=nii', 'last_3=nil', 'last_3=nin', 'last_3=nio', 'last_3=nis', 'last_3=nit', 'last_3=niy', 'last_3=nja', 'last_3=njh', 'last_3=nji', 'last_3=nju', 'last_3=nka', 'last_3=nke', 'last_3=nki', 'last_3=nko', 'last_3=nku', 'last_3=nky', 'last_3=nly', 'last_3=nne', 'last_3=nni', 'last_3=nno', 'last_3=nnu', 'last_3=nny', 'last_3=noa', 'last_3=nod', 'last_3=noe', 'last_3=noh', 'last_3=noi', 'last_3=noj', 'last_3=nok', 'last_3=nol', 'last_3=non', 'last_3=nor', 'last_3=nos', 'last_3=not', 'last_3=nox', 'last_3=noy', 'last_3=noz', 'last_3=nrd', 'last_3=nri', 'last_3=nry', 'last_3=nsa', 'last_3=nse', 'last_3=nsh', 'last_3=nsi', 'last_3=nso', 'last_3=nst', 'last_3=nsu', 'last_3=nsy', 'last_3=nta', 'last_3=nte', 'last_3=nth', 'last_3=nti', 'last_3=nto', 'last_3=nts', 'last_3=ntu', 'last_3=nty', 'last_3=ntz', 'last_3=nub', 'last_3=nuj', 'last_3=num', 'last_3=nup', 'last_3=nur', 'last_3=nus', 'last_3=nuu', 'last_3=nvi', 'last_3=nwi', 'last_3=nwr', 'last_3=nya', 'last_3=nye', 'last_3=nyi', 'last_3=nyl', 'last_3=nyo', 'last_3=nys', 'last_3=nyu', 'last_3=nza', 'last_3=nze', 'last_3=nzo', 'last_3=nzy', 'last_3=o i', 'last_3=oab', 'last_3=oad', 'last_3=oah', 'last_3=oan', 'last_3=oao', 'last_3=oar', 'last_3=oat', 'last_3=oba', 'last_3=obe', 'last_3=obi', 'last_3=obo', 'last_3=oby', 'last_3=och', 'last_3=ock', 'last_3=oda', 'last_3=odd', 'last_3=ode', 'last_3=odh', 'last_3=odi', 'last_3=ody', 'last_3=oel', 'last_3=oes', 'last_3=oey', 'last_3=off', 'last_3=oga', 'last_3=oge', 'last_3=ogi', 'last_3=ogy', 'last_3=ohd', 'last_3=ohi', 'last_3=ohl', 'last_3=ohn', 'last_3=ohs', 'last_3=oia', 'last_3=oic', 'last_3=oid', 'last_3=oil', 'last_3=oin', 'last_3=oir', 'last_3=ois', 'last_3=oit', 'last_3=oja', 'last_3=oji', 'last_3=ojo', 'last_3=oka', 'last_3=oke', 'last_3=oks', 'last_3=ola', 'last_3=old', 'last_3=ole', 'last_3=olf', 'last_3=oli', 'last_3=oll', 'last_3=olm', 'last_3=oln', 'last_3=olo', 'last_3=ols', 'last_3=olt', 'last_3=olu', 'last_3=oly', 'last_3=oma', 'last_3=ome', 'last_3=omi', 'last_3=omo', 'last_3=omy', 'last_3=ond', 'last_3=one', 'last_3=ong', 'last_3=oni', 'last_3=onl', 'last_3=onn', 'last_3=ono', 'last_3=ont', 'last_3=onu', 'last_3=onv', 'last_3=onx', 'last_3=ony', 'last_3=oob', 'last_3=ood', 'last_3=ooj', 'last_3=ool', 'last_3=oom', 'last_3=oon', 'last_3=oop', 'last_3=ooq', 'last_3=oor', 'last_3=oot', 'last_3=opa', 'last_3=ope', 'last_3=opi', 'last_3=opo', 'last_3=ora', 'last_3=ord', 'last_3=ore', 'last_3=org', 'last_3=ori', 'last_3=orl', 'last_3=orm', 'last_3=oro', 'last_3=orr', 'last_3=ors', 'last_3=ort', 'last_3=ory', 'last_3=osa', 'last_3=ose', 'last_3=osh', 'last_3=osi', 'last_3=osl', 'last_3=osn', 'last_3=oso', 'last_3=oss', 'last_3=ota', 'last_3=ote', 'last_3=oti', 'last_3=otr', 'last_3=ott', 'last_3=otu', 'last_3=oty', 'last_3=oud', 'last_3=oug', 'last_3=ouk', 'last_3=oul', 'last_3=our', 'last_3=ous', 'last_3=out', 'last_3=ova', 'last_3=ove', 'last_3=owa', 'last_3=owe', 'last_3=own', 'last_3=oxa', 'last_3=oya', 'last_3=oyd', 'last_3=oye', 'last_3=oyo', 'last_3=oyt', 'last_3=oza', 'last_3=ozi', 'last_3=ozy', 'last_3=pac', 'last_3=pai', 'last_3=paj', 'last_3=pak', 'last_3=pal', 'last_3=pam', 'last_3=pan', 'last_3=par', 'last_3=pas', 'last_3=pat', 'last_3=pay', 'last_3=paz', 'last_3=pch', 'last_3=pee', 'last_3=pej', 'last_3=pel', 'last_3=pen', 'last_3=per', 'last_3=pez', 'last_3=pha', 'last_3=phi', 'last_3=pid', 'last_3=pie', 'last_3=pil', 'last_3=pin', 'last_3=pio', 'last_3=pka', 'last_3=pla', 'last_3=ple', 'last_3=pno', 'last_3=pol', 'last_3=pom', 'last_3=pon', 'last_3=por', 'last_3=ppa', 'last_3=ppe', 'last_3=ppi', 'last_3=ppo', 'last_3=ppu', 'last_3=ppy', 'last_3=pra', 'last_3=psa', 'last_3=psy', 'last_3=pta', 'last_3=pti', 'last_3=pto', 'last_3=pul', 'last_3=pum', 'last_3=pur', 'last_3=pus', 'last_3=put', 'last_3=pvh', 'last_3=qia', 'last_3=qib', 'last_3=qif', 'last_3=qim', 'last_3=qir', 'last_3=qiy', 'last_3=qra', 'last_3=qua', 'last_3=que', 'last_3=qui', 'last_3=quo', 'last_3=qus', 'last_3=quy', 'last_3=qwi', 'last_3=rab', 'last_3=rad', 'last_3=rae', 'last_3=raf', 'last_3=rag', 'last_3=rah', 'last_3=rai', 'last_3=raj', 'last_3=rak', 'last_3=ral', 'last_3=ram', 'last_3=ran', 'last_3=rao', 'last_3=rar', 'last_3=ras', 'last_3=rat', 'last_3=rav', 'last_3=raw', 'last_3=ray', 'last_3=raz', 'last_3=rba', 'last_3=rbe', 'last_3=rbh', 'last_3=rbi', 'last_3=rby', 'last_3=rca', 'last_3=rce', 'last_3=rch', 'last_3=rci', 'last_3=rco', 'last_3=rcy', 'last_3=rda', 'last_3=rde', 'last_3=rdh', 'last_3=rdi', 'last_3=rdo', 'last_3=rds', 'last_3=rdy', 'last_3=rea', 'last_3=reb', 'last_3=red', 'last_3=ree', 'last_3=reg', 'last_3=rej', 'last_3=rek', 'last_3=rel', 'last_3=rem', 'last_3=ren', 'last_3=reo', 'last_3=rer', 'last_3=res', 'last_3=ret', 'last_3=rew', 'last_3=rex', 'last_3=rey', 'last_3=rez', 'last_3=rfa', 'last_3=rfi', 'last_3=rga', 'last_3=rge', 'last_3=rgi', 'last_3=rgo', 'last_3=rgu', 'last_3=rgy', 'last_3=rha', 'last_3=ria', 'last_3=rib', 'last_3=ric', 'last_3=rid', 'last_3=rie', 'last_3=rif', 'last_3=rig', 'last_3=rii', 'last_3=rij', 'last_3=rik', 'last_3=ril', 'last_3=rim', 'last_3=rin', 'last_3=rio', 'last_3=riq', 'last_3=ris', 'last_3=rit', 'last_3=riv', 'last_3=rix', 'last_3=riy', 'last_3=rja', 'last_3=rji', 'last_3=rjo', 'last_3=rju', 'last_3=rka', 'last_3=rke', 'last_3=rki', 'last_3=rkl', 'last_3=rks', 'last_3=rla', 'last_3=rle', 'last_3=rli', 'last_3=rll', 'last_3=rlo', 'last_3=rly', 'last_3=rma', 'last_3=rmi', 'last_3=rmo', 'last_3=rmu', 'last_3=rne', 'last_3=rns', 'last_3=rod', 'last_3=roe', 'last_3=roi', 'last_3=roj', 'last_3=rok', 'last_3=rol', 'last_3=ron', 'last_3=ror', 'last_3=ros', 'last_3=rot', 'last_3=row', 'last_3=roy', 'last_3=roz', 'last_3=rpa', 'last_3=rra', 'last_3=rrd', 'last_3=rre', 'last_3=rri', 'last_3=rro', 'last_3=rry', 'last_3=rsa', 'last_3=rsh', 'last_3=rsi', 'last_3=rso', 'last_3=rsu', 'last_3=rta', 'last_3=rte', 'last_3=rth', 'last_3=rti', 'last_3=rtl', 'last_3=rto', 'last_3=rty', 'last_3=rue', 'last_3=ruf', 'last_3=ruk', 'last_3=rul', 'last_3=rum', 'last_3=run', 'last_3=rur', 'last_3=rus', 'last_3=ruz', 'last_3=rva', 'last_3=rve', 'last_3=rvi', 'last_3=rwa', 'last_3=rya', 'last_3=ryc', 'last_3=ryd', 'last_3=rye', 'last_3=ryk', 'last_3=ryl', 'last_3=ryn', 'last_3=ryo', 'last_3=rza', 'last_3=saa', 'last_3=sab', 'last_3=sac', 'last_3=sad', 'last_3=sae', 'last_3=saf', 'last_3=sah', 'last_3=sai', 'last_3=sak', 'last_3=sal', 'last_3=sam', 'last_3=san', 'last_3=sap', 'last_3=sar', 'last_3=sat', 'last_3=sau', 'last_3=sav', 'last_3=say', 'last_3=sbu', 'last_3=sby', 'last_3=sca', 'last_3=sch', 'last_3=sco', 'last_3=sda', 'last_3=sdy', 'last_3=sea', 'last_3=sed', 'last_3=see', 'last_3=sek', 'last_3=sel', 'last_3=sem', 'last_3=sen', 'last_3=seo', 'last_3=ser', 'last_3=ses', 'last_3=set', 'last_3=sey', 'last_3=sez', 'last_3=sha', 'last_3=shi', 'last_3=shl', 'last_3=sho', 'last_3=shs', 'last_3=sht', 'last_3=shu', 'last_3=shv', 'last_3=shw', 'last_3=shy', 'last_3=sia', 'last_3=sib', 'last_3=sid', 'last_3=sie', 'last_3=sif', 'last_3=sih', 'last_3=sik', 'last_3=sil', 'last_3=sim', 'last_3=sin', 'last_3=sio', 'last_3=sir', 'last_3=sis', 'last_3=ska', 'last_3=ske', 'last_3=ski', 'last_3=sko', 'last_3=sky', 'last_3=sla', 'last_3=sly', 'last_3=sma', 'last_3=sme', 'last_3=smi', 'last_3=smo', 'last_3=smt', 'last_3=sne', 'last_3=sny', 'last_3=sol', 'last_3=som', 'last_3=son', 'last_3=sor', 'last_3=spa', 'last_3=sph', 'last_3=sra', 'last_3=srf', 'last_3=sri', 'last_3=sro', 'last_3=ssa', 'last_3=sse', 'last_3=ssi', 'last_3=sso', 'last_3=ssy', 'last_3=sta', 'last_3=ste', 'last_3=sth', 'last_3=sti', 'last_3=sto', 'last_3=sty', 'last_3=sue', 'last_3=suf', 'last_3=sug', 'last_3=sui', 'last_3=sul', 'last_3=sum', 'last_3=sup', 'last_3=sur', 'last_3=sus', 'last_3=suy', 'last_3=sya', 'last_3=sys', 'last_3=tab', 'last_3=tad', 'last_3=tae', 'last_3=taf', 'last_3=tah', 'last_3=tai', 'last_3=taj', 'last_3=tak', 'last_3=tal', 'last_3=tam', 'last_3=tan', 'last_3=tap', 'last_3=taq', 'last_3=tar', 'last_3=tav', 'last_3=taw', 'last_3=tay', 'last_3=taz', 'last_3=tch', 'last_3=tea', 'last_3=ted', 'last_3=tee', 'last_3=tek', 'last_3=tel', 'last_3=tem', 'last_3=ten', 'last_3=teo', 'last_3=ter', 'last_3=tes', 'last_3=tey', 'last_3=tez', 'last_3=tfa', 'last_3=tha', 'last_3=the', 'last_3=thi', 'last_3=tho', 'last_3=thu', 'last_3=thy', 'last_3=tia', 'last_3=tic', 'last_3=tie', 'last_3=tif', 'last_3=tii', 'last_3=tik', 'last_3=til', 'last_3=tim', 'last_3=tin', 'last_3=tio', 'last_3=tip', 'last_3=tis', 'last_3=tiz', 'last_3=tja', 'last_3=tki', 'last_3=tla', 'last_3=tle', 'last_3=tli', 'last_3=tly', 'last_3=tma', 'last_3=tne', 'last_3=tni', 'last_3=tnu', 'last_3=tny', 'last_3=tod', 'last_3=toe', 'last_3=tof', 'last_3=tom', 'last_3=ton', 'last_3=too', 'last_3=top', 'last_3=tor', 'last_3=tos', 'last_3=toy', 'last_3=tra', 'last_3=tre', 'last_3=tri', 'last_3=trm', 'last_3=tro', 'last_3=try', 'last_3=tsa', 'last_3=tsy', 'last_3=tta', 'last_3=tte', 'last_3=tti', 'last_3=tto', 'last_3=ttu', 'last_3=tty', 'last_3=tue', 'last_3=tul', 'last_3=tum', 'last_3=tun', 'last_3=tur', 'last_3=tus', 'last_3=twa', 'last_3=tya', 'last_3=tyi', 'last_3=tyn', 'last_3=tyv', 'last_3=tza', 'last_3=tze', 'last_3=tzy', 'last_3=uad', 'last_3=uah', 'last_3=ual', 'last_3=uan', 'last_3=uat', 'last_3=uay', 'last_3=ube', 'last_3=ubi', 'last_3=uby', 'last_3=uce', 'last_3=uck', 'last_3=ucy', 'last_3=uda', 'last_3=ude', 'last_3=udh', 'last_3=udi', 'last_3=udo', 'last_3=udy', 'last_3=ued', 'last_3=uee', 'last_3=uel', 'last_3=uen', 'last_3=uer', 'last_3=ues', 'last_3=uey', 'last_3=uez', 'last_3=uff', 'last_3=uga', 'last_3=ugh', 'last_3=ugn', 'last_3=ugo', 'last_3=ugr', 'last_3=ugu', 'last_3=uhi', 'last_3=uhn', 'last_3=uic', 'last_3=uid', 'last_3=uie', 'last_3=uil', 'last_3=uin', 'last_3=uir', 'last_3=uis', 'last_3=uiz', 'last_3=uja', 'last_3=uji', 'last_3=uju', 'last_3=uka', 'last_3=uke', 'last_3=ukh', 'last_3=uki', 'last_3=uko', 'last_3=ukt', 'last_3=ula', 'last_3=ule', 'last_3=uli', 'last_3=ulj', 'last_3=ulo', 'last_3=ult', 'last_3=ulu', 'last_3=uly', 'last_3=ulz', 'last_3=uma', 'last_3=ume', 'last_3=umn', 'last_3=umo', 'last_3=und', 'last_3=une', 'last_3=ung', 'last_3=uni', 'last_3=unn', 'last_3=uno', 'last_3=unt', 'last_3=uny', 'last_3=uon', 'last_3=upa', 'last_3=upe', 'last_3=ura', 'last_3=ure', 'last_3=urg', 'last_3=uri', 'last_3=url', 'last_3=urm', 'last_3=urn', 'last_3=uro', 'last_3=urt', 'last_3=uru', 'last_3=ury', 'last_3=usa', 'last_3=use', 'last_3=ush', 'last_3=usi', 'last_3=uss', 'last_3=ust', 'last_3=usu', 'last_3=uta', 'last_3=uth', 'last_3=uti', 'last_3=uto', 'last_3=utt', 'last_3=uty', 'last_3=uva', 'last_3=uwa', 'last_3=uwn', 'last_3=uxn', 'last_3=uzi', 'last_3=uzu', 'last_3=vah', 'last_3=vaj', 'last_3=vak', 'last_3=val', 'last_3=vam', 'last_3=van', 'last_3=var', 'last_3=vas', 'last_3=vat', 'last_3=vay', 'last_3=vaz', 'last_3=veb', 'last_3=ved', 'last_3=vee', 'last_3=vei', 'last_3=vej', 'last_3=vek', 'last_3=vel', 'last_3=ven', 'last_3=ver', 'last_3=ves', 'last_3=vet', 'last_3=vew', 'last_3=vey', 'last_3=vez', 'last_3=via', 'last_3=vic', 'last_3=vid', 'last_3=vie', 'last_3=vij', 'last_3=vil', 'last_3=vin', 'last_3=vio', 'last_3=vir', 'last_3=vis', 'last_3=vit', 'last_3=vix', 'last_3=viy', 'last_3=vki', 'last_3=vli', 'last_3=vlo', 'last_3=vly', 'last_3=vod', 'last_3=voh', 'last_3=von', 'last_3=vor', 'last_3=voy', 'last_3=vra', 'last_3=vri', 'last_3=vth', 'last_3=vus', 'last_3=vvy', 'last_3=vya', 'last_3=vyd', 'last_3=vyn', 'last_3=wab', 'last_3=wad', 'last_3=wah', 'last_3=waj', 'last_3=wak', 'last_3=wal', 'last_3=wam', 'last_3=wan', 'last_3=war', 'last_3=was', 'last_3=wat', 'last_3=wav', 'last_3=way', 'last_3=waz', 'last_3=wed', 'last_3=wel', 'last_3=wen', 'last_3=wer', 'last_3=wes', 'last_3=wey', 'last_3=wha', 'last_3=wie', 'last_3=win', 'last_3=wis', 'last_3=wla', 'last_3=wli', 'last_3=wmi', 'last_3=wne', 'last_3=wni', 'last_3=wny', 'last_3=won', 'last_3=wra', 'last_3=wri', 'last_3=wum', 'last_3=wun', 'last_3=wyn', 'last_3=xan', 'last_3=xat', 'last_3=xei', 'last_3=xel', 'last_3=xey', 'last_3=xie', 'last_3=xio', 'last_3=xis', 'last_3=xit', 'last_3=xly', 'last_3=xmi', 'last_3=xni', 'last_3=xon', 'last_3=xto', 'last_3=xus', 'last_3=yaa', 'last_3=yab', 'last_3=yad', 'last_3=yah', 'last_3=yaj', 'last_3=yak', 'last_3=yal', 'last_3=yam', 'last_3=yan', 'last_3=yap', 'last_3=yar', 'last_3=yas', 'last_3=yaw', 'last_3=yay', 'last_3=yaz', 'last_3=ybh', 'last_3=yce', 'last_3=yda', 'last_3=yde', 'last_3=ydu', 'last_3=yel', 'last_3=yer', 'last_3=yes', 'last_3=yet', 'last_3=yia', 'last_3=yid', 'last_3=yil', 'last_3=yja', 'last_3=yji', 'last_3=yka', 'last_3=yke', 'last_3=yla', 'last_3=yld', 'last_3=yle', 'last_3=yll', 'last_3=yln', 'last_3=ylo', 'last_3=yma', 'last_3=ymi', 'last_3=ymy', 'last_3=yne', 'last_3=ynn', 'last_3=yno', 'last_3=yol', 'last_3=yon', 'last_3=yor', 'last_3=yow', 'last_3=yqu', 'last_3=yra', 'last_3=yrd', 'last_3=yre', 'last_3=yri', 'last_3=yrn', 'last_3=yro', 'last_3=ysa', 'last_3=yse', 'last_3=yst', 'last_3=yta', 'last_3=yti', 'last_3=yub', 'last_3=yum', 'last_3=yun', 'last_3=yve', 'last_3=yvi', 'last_3=yvn', 'last_3=yza', 'last_3=zad', 'last_3=zae', 'last_3=zah', 'last_3=zai', 'last_3=zak', 'last_3=zal', 'last_3=zam', 'last_3=zan', 'last_3=zar', 'last_3=zay', 'last_3=zaz', 'last_3=zed', 'last_3=zef', 'last_3=zel', 'last_3=zer', 'last_3=zia', 'last_3=zid', 'last_3=zie', 'last_3=zil', 'last_3=zim', 'last_3=zin', 'last_3=zio', 'last_3=zir', 'last_3=ziz', 'last_3=zly', 'last_3=zmi', 'last_3=zni', 'last_3=zoe', 'last_3=zon', 'last_3=zoo', 'last_3=zra', 'last_3=zre', 'last_3=zum', 'last_3=zva', 'last_3=zwa', 'last_3=zya', 'last_3=zym', 'last_3=zza', 'last_3=zzy', 'length', 'll_is_v']\n"
     ]
    }
   ],
   "source": [
    "print(custom_vec.feature_names_)"
   ]
  },
  {
   "cell_type": "markdown",
   "metadata": {},
   "source": [
    "* Naive Bayes"
   ]
  },
  {
   "cell_type": "code",
   "execution_count": 236,
   "metadata": {},
   "outputs": [],
   "source": [
    "from sklearn.model_selection import RandomizedSearchCV\n",
    "from sklearn.naive_bayes import MultinomialNB"
   ]
  },
  {
   "cell_type": "code",
   "execution_count": 237,
   "metadata": {},
   "outputs": [],
   "source": [
    "nbm = MultinomialNB()"
   ]
  },
  {
   "cell_type": "code",
   "execution_count": 238,
   "metadata": {},
   "outputs": [
    {
     "data": {
      "text/plain": [
       "MultinomialNB(alpha=1.0, class_prior=None, fit_prior=True)"
      ]
     },
     "execution_count": 238,
     "metadata": {},
     "output_type": "execute_result"
    }
   ],
   "source": [
    "nbm.fit(train_features,y_train)"
   ]
  },
  {
   "cell_type": "code",
   "execution_count": 239,
   "metadata": {},
   "outputs": [
    {
     "data": {
      "text/plain": [
       "0.7485603512172871"
      ]
     },
     "execution_count": 239,
     "metadata": {},
     "output_type": "execute_result"
    }
   ],
   "source": [
    "nbm.score(train_features,y_train)"
   ]
  },
  {
   "cell_type": "code",
   "execution_count": 240,
   "metadata": {},
   "outputs": [
    {
     "data": {
      "text/plain": [
       "0.7094640820980616"
      ]
     },
     "execution_count": 240,
     "metadata": {},
     "output_type": "execute_result"
    }
   ],
   "source": [
    "nbm.score(custom_vec.transform(X_test.to_dict(orient='records')),y_test)"
   ]
  },
  {
   "cell_type": "markdown",
   "metadata": {},
   "source": [
    "* Decision Tree"
   ]
  },
  {
   "cell_type": "code",
   "execution_count": 241,
   "metadata": {},
   "outputs": [],
   "source": [
    "from sklearn.tree import DecisionTreeClassifier\n",
    " \n",
    "dclf = DecisionTreeClassifier()"
   ]
  },
  {
   "cell_type": "code",
   "execution_count": 242,
   "metadata": {},
   "outputs": [],
   "source": [
    "def print_res(model):\n",
    "    model.fit(train_features,y_train)\n",
    "    print(\"Train score :\",model.score(train_features,y_train))\n",
    "    print(\"Test Score\",model.score(custom_vec.transform(X_test.to_dict(orient='records')),y_test))"
   ]
  },
  {
   "cell_type": "code",
   "execution_count": 243,
   "metadata": {
    "scrolled": true
   },
   "outputs": [
    {
     "name": "stdout",
     "output_type": "stream",
     "text": [
      "Train score : 0.8918410399680712\n",
      "Test Score 0.7400228050171037\n"
     ]
    }
   ],
   "source": [
    "print_res(dclf)"
   ]
  },
  {
   "cell_type": "markdown",
   "metadata": {},
   "source": [
    "* Logistic Regression"
   ]
  },
  {
   "cell_type": "code",
   "execution_count": 244,
   "metadata": {},
   "outputs": [],
   "source": [
    "from sklearn.linear_model import LogisticRegression"
   ]
  },
  {
   "cell_type": "code",
   "execution_count": 245,
   "metadata": {},
   "outputs": [
    {
     "name": "stderr",
     "output_type": "stream",
     "text": [
      "/home/master/anaconda3/lib/python3.6/site-packages/sklearn/linear_model/logistic.py:433: FutureWarning: Default solver will be changed to 'lbfgs' in 0.22. Specify a solver to silence this warning.\n",
      "  FutureWarning)\n",
      "/home/master/anaconda3/lib/python3.6/site-packages/sklearn/linear_model/logistic.py:460: FutureWarning: Default multi_class will be changed to 'auto' in 0.22. Specify the multi_class option to silence this warning.\n",
      "  \"this warning.\", FutureWarning)\n"
     ]
    },
    {
     "name": "stdout",
     "output_type": "stream",
     "text": [
      "Train score : 0.7822851929984606\n",
      "Test Score 0.7230330672748004\n"
     ]
    }
   ],
   "source": [
    "print_res(LogisticRegression())"
   ]
  },
  {
   "cell_type": "markdown",
   "metadata": {},
   "source": [
    "## Count Vectorizer on name"
   ]
  },
  {
   "cell_type": "code",
   "execution_count": 248,
   "metadata": {},
   "outputs": [],
   "source": [
    "from sklearn.feature_extraction.text import CountVectorizer "
   ]
  },
  {
   "cell_type": "code",
   "execution_count": 249,
   "metadata": {},
   "outputs": [],
   "source": [
    "count_vec = CountVectorizer()"
   ]
  },
  {
   "cell_type": "code",
   "execution_count": 250,
   "metadata": {},
   "outputs": [],
   "source": [
    "count_features = count_vec.fit_transform(name_train)"
   ]
  },
  {
   "cell_type": "code",
   "execution_count": 251,
   "metadata": {},
   "outputs": [],
   "source": [
    "def print_util(model):\n",
    "    model.fit(count_features,race_train)\n",
    "    print(\"Train score :\",model.score(count_features,race_train))\n",
    "    print(\"Test Score\",model.score(count_vec.transform(name_test),race_test))"
   ]
  },
  {
   "cell_type": "code",
   "execution_count": 252,
   "metadata": {},
   "outputs": [
    {
     "name": "stdout",
     "output_type": "stream",
     "text": [
      "Train score : 0.8820913393009864\n",
      "Test Score 0.7137970353477765\n"
     ]
    }
   ],
   "source": [
    "print_util(LogisticRegression())"
   ]
  },
  {
   "cell_type": "code",
   "execution_count": 253,
   "metadata": {},
   "outputs": [
    {
     "name": "stdout",
     "output_type": "stream",
     "text": [
      "Train score : 0.874308683505331\n",
      "Test Score 0.6558722919042189\n"
     ]
    }
   ],
   "source": [
    "print_util(MultinomialNB())"
   ]
  },
  {
   "cell_type": "code",
   "execution_count": 254,
   "metadata": {},
   "outputs": [
    {
     "name": "stdout",
     "output_type": "stream",
     "text": [
      "Train score : 0.8920691031415702\n",
      "Test Score 0.7157354618015963\n"
     ]
    }
   ],
   "source": [
    "print_util(DecisionTreeClassifier())"
   ]
  },
  {
   "cell_type": "code",
   "execution_count": null,
   "metadata": {},
   "outputs": [],
   "source": []
  }
 ],
 "metadata": {
  "kernelspec": {
   "display_name": "Python 3",
   "language": "python",
   "name": "python3"
  },
  "language_info": {
   "codemirror_mode": {
    "name": "ipython",
    "version": 3
   },
   "file_extension": ".py",
   "mimetype": "text/x-python",
   "name": "python",
   "nbconvert_exporter": "python",
   "pygments_lexer": "ipython3",
   "version": "3.6.8"
  }
 },
 "nbformat": 4,
 "nbformat_minor": 2
}
