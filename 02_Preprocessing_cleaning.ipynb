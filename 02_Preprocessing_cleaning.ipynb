{
 "cells": [
  {
   "cell_type": "code",
   "execution_count": 31,
   "metadata": {},
   "outputs": [],
   "source": [
    "import pandas as pd\n",
    "import re"
   ]
  },
  {
   "cell_type": "code",
   "execution_count": 84,
   "metadata": {},
   "outputs": [
    {
     "data": {
      "text/plain": [
       "['Indian-Male-Names.csv', 'Indian-Female-Names.csv']"
      ]
     },
     "execution_count": 84,
     "metadata": {},
     "output_type": "execute_result"
    }
   ],
   "source": [
    "data_loc = './data/'\n",
    "clean_loc = './data/clean/'\n",
    "d_sets = ['Indian-Male-Names.csv','Indian-Female-Names.csv']\n",
    "d_sets"
   ]
  },
  {
   "cell_type": "markdown",
   "metadata": {},
   "source": [
    "## Mapping Info"
   ]
  },
  {
   "cell_type": "code",
   "execution_count": 91,
   "metadata": {},
   "outputs": [
    {
     "data": {
      "text/plain": [
       "{'gender': {'m': 0, 'f': 1},\n",
       " 'race': {'b': 0, 'black': 0, 'hispanic': 1, 'white': 2, 'indian': 3}}"
      ]
     },
     "execution_count": 91,
     "metadata": {},
     "output_type": "execute_result"
    }
   ],
   "source": [
    "map_info = {'gender': {'m':0,'f':1}, 'race' : {'b':0,'black':0,'hispanic':1,'white':2,'indian':3}}\n",
    "map_info"
   ]
  },
  {
   "cell_type": "code",
   "execution_count": 21,
   "metadata": {},
   "outputs": [],
   "source": [
    "def disp_d(name,d_loc):\n",
    "    d2 = pd.read_csv(d_loc+name)\n",
    "    print(name,'\\n',d2.head())\n",
    "    print('size :',len(d2))\n",
    "    print('-----------------')"
   ]
  },
  {
   "cell_type": "code",
   "execution_count": 23,
   "metadata": {},
   "outputs": [
    {
     "name": "stdout",
     "output_type": "stream",
     "text": [
      "Indian-Male-Names.csv \n",
      "               name gender    race\n",
      "0          barjraj      m  indian\n",
      "1     ramdin verma      m  indian\n",
      "2  sharat chandran      m  indian\n",
      "3  birender mandal      m  indian\n",
      "4             amit      m  indian\n",
      "size : 14845\n",
      "-----------------\n",
      "Indian-Female-Names.csv \n",
      "               name gender    race\n",
      "0          shivani      f  indian\n",
      "1             isha      f  indian\n",
      "2  smt shyani devi      f  indian\n",
      "3            divya      f  indian\n",
      "4            mansi      f  indian\n",
      "size : 15382\n",
      "-----------------\n"
     ]
    }
   ],
   "source": [
    "for i in d_sets:\n",
    "    disp_d(i,data_loc)"
   ]
  },
  {
   "cell_type": "code",
   "execution_count": 15,
   "metadata": {},
   "outputs": [],
   "source": [
    "ind_m = pd.read_csv(data_loc+d_sets[0])\n",
    "ind_f = pd.read_csv(data_loc+d_sets[1])"
   ]
  },
  {
   "cell_type": "markdown",
   "metadata": {},
   "source": [
    "### 1) Check for NULL Values"
   ]
  },
  {
   "cell_type": "code",
   "execution_count": 13,
   "metadata": {},
   "outputs": [
    {
     "data": {
      "text/plain": [
       "name      24\n",
       "gender     0\n",
       "race       0\n",
       "dtype: int64"
      ]
     },
     "execution_count": 13,
     "metadata": {},
     "output_type": "execute_result"
    }
   ],
   "source": [
    "ind_m.isna().sum()"
   ]
  },
  {
   "cell_type": "code",
   "execution_count": 16,
   "metadata": {},
   "outputs": [
    {
     "data": {
      "text/plain": [
       "name      31\n",
       "gender     0\n",
       "race       0\n",
       "dtype: int64"
      ]
     },
     "execution_count": 16,
     "metadata": {},
     "output_type": "execute_result"
    }
   ],
   "source": [
    "ind_f.isna().sum()"
   ]
  },
  {
   "cell_type": "markdown",
   "metadata": {},
   "source": [
    "### 2) Check for Duplicates"
   ]
  },
  {
   "cell_type": "code",
   "execution_count": 19,
   "metadata": {},
   "outputs": [
    {
     "data": {
      "text/plain": [
       "6325"
      ]
     },
     "execution_count": 19,
     "metadata": {},
     "output_type": "execute_result"
    }
   ],
   "source": [
    "ind_m.duplicated().sum()"
   ]
  },
  {
   "cell_type": "code",
   "execution_count": 20,
   "metadata": {},
   "outputs": [
    {
     "data": {
      "text/plain": [
       "8608"
      ]
     },
     "execution_count": 20,
     "metadata": {},
     "output_type": "execute_result"
    }
   ],
   "source": [
    "ind_f.duplicated().sum()"
   ]
  },
  {
   "cell_type": "markdown",
   "metadata": {},
   "source": [
    "## Drop duplicates"
   ]
  },
  {
   "cell_type": "code",
   "execution_count": 21,
   "metadata": {},
   "outputs": [],
   "source": [
    "ind_f.drop_duplicates(inplace=True)"
   ]
  },
  {
   "cell_type": "code",
   "execution_count": 22,
   "metadata": {},
   "outputs": [
    {
     "data": {
      "text/plain": [
       "6774"
      ]
     },
     "execution_count": 22,
     "metadata": {},
     "output_type": "execute_result"
    }
   ],
   "source": [
    "len(ind_f)"
   ]
  },
  {
   "cell_type": "code",
   "execution_count": 23,
   "metadata": {},
   "outputs": [
    {
     "data": {
      "text/plain": [
       "8520"
      ]
     },
     "execution_count": 23,
     "metadata": {},
     "output_type": "execute_result"
    }
   ],
   "source": [
    "ind_m.drop_duplicates(inplace=True)\n",
    "len(ind_m)"
   ]
  },
  {
   "cell_type": "code",
   "execution_count": 27,
   "metadata": {},
   "outputs": [
    {
     "data": {
      "text/plain": [
       "8519"
      ]
     },
     "execution_count": 27,
     "metadata": {},
     "output_type": "execute_result"
    }
   ],
   "source": [
    "ind_m.dropna(inplace=True)\n",
    "len(ind_m)"
   ]
  },
  {
   "cell_type": "code",
   "execution_count": 29,
   "metadata": {},
   "outputs": [
    {
     "data": {
      "text/plain": [
       "8519"
      ]
     },
     "execution_count": 29,
     "metadata": {},
     "output_type": "execute_result"
    }
   ],
   "source": [
    "ind_f.dropna(inplace=True)\n",
    "len(ind_m)"
   ]
  },
  {
   "cell_type": "markdown",
   "metadata": {},
   "source": [
    "### Prepocess"
   ]
  },
  {
   "cell_type": "code",
   "execution_count": 24,
   "metadata": {},
   "outputs": [],
   "source": [
    "def name_prep(word):\n",
    "    return re.sub(r'[^a-z.\\s]+','',word)"
   ]
  },
  {
   "cell_type": "markdown",
   "metadata": {},
   "source": [
    "#### Creates preprocessed,cleaned dataset csv files"
   ]
  },
  {
   "cell_type": "code",
   "execution_count": 101,
   "metadata": {},
   "outputs": [],
   "source": [
    "def preprocess_ds(name,sp=True):\n",
    "    d2 = pd.read_csv(data_loc+name)\n",
    "    d3 = pd.DataFrame([])\n",
    "    if(sp):\n",
    "        d3['name'] = d2.iloc[:,1]\n",
    "    else:\n",
    "        d3['name'] = d2.name\n",
    "    d3.name = d3.name.apply(lambda x:name_prep(str(x)))\n",
    "    d3['gender'] = d2.gender.apply(lambda x:map_info['gender'][x])\n",
    "    d3['race'] = d2.race.apply(lambda x:map_info['race'][x])\n",
    "    \n",
    "    print(name,'\\n')\n",
    "    print('Before :',len(d3))\n",
    "    print('Duplicates :', d3.duplicated().sum())\n",
    "    print('Null :', d3.isna().sum())\n",
    "    d3.drop_duplicates(inplace=True)\n",
    "    d3.dropna(inplace=True)\n",
    "    print('After :',len(d3))\n",
    "    #d3.head()\n",
    "    d3.to_csv(clean_loc+name, index=False)\n",
    "    print('-----------------')"
   ]
  },
  {
   "cell_type": "code",
   "execution_count": 102,
   "metadata": {},
   "outputs": [
    {
     "data": {
      "text/plain": [
       "['Black-Male-Names.csv',\n",
       " 'Black-Female-Names.csv',\n",
       " 'Hispanic-Male-Names.csv',\n",
       " 'Hispanic-Female-Names.csv',\n",
       " 'White-Male-Names.csv',\n",
       " 'White-Female-Names.csv']"
      ]
     },
     "execution_count": 102,
     "metadata": {},
     "output_type": "execute_result"
    }
   ],
   "source": [
    "sp_sets = ['Black-Male-Names.csv','Black-Female-Names.csv','Hispanic-Male-Names.csv','Hispanic-Female-Names.csv','White-Male-Names.csv','White-Female-Names.csv']\n",
    "sp_sets"
   ]
  },
  {
   "cell_type": "code",
   "execution_count": 106,
   "metadata": {},
   "outputs": [
    {
     "name": "stdout",
     "output_type": "stream",
     "text": [
      "Black-Male-Names.csv \n",
      "\n",
      "Before : 35081\n",
      "Duplicates : 19862\n",
      "Null : name      0\n",
      "gender    0\n",
      "race      0\n",
      "dtype: int64\n",
      "After : 15219\n",
      "-----------------\n",
      "Black-Female-Names.csv \n",
      "\n",
      "Before : 2438\n",
      "Duplicates : 243\n",
      "Null : name      0\n",
      "gender    0\n",
      "race      0\n",
      "dtype: int64\n",
      "After : 2195\n",
      "-----------------\n",
      "Hispanic-Male-Names.csv \n",
      "\n",
      "Before : 4166\n",
      "Duplicates : 1982\n",
      "Null : name      0\n",
      "gender    0\n",
      "race      0\n",
      "dtype: int64\n",
      "After : 2184\n",
      "-----------------\n",
      "Hispanic-Female-Names.csv \n",
      "\n",
      "Before : 217\n",
      "Duplicates : 15\n",
      "Null : name      0\n",
      "gender    0\n",
      "race      0\n",
      "dtype: int64\n",
      "After : 202\n",
      "-----------------\n",
      "White-Male-Names.csv \n",
      "\n",
      "Before : 44048\n",
      "Duplicates : 31022\n",
      "Null : name      0\n",
      "gender    0\n",
      "race      0\n",
      "dtype: int64\n",
      "After : 13026\n",
      "-----------------\n",
      "White-Female-Names.csv \n",
      "\n",
      "Before : 4600\n",
      "Duplicates : 1857\n",
      "Null : name      0\n",
      "gender    0\n",
      "race      0\n",
      "dtype: int64\n",
      "After : 2743\n",
      "-----------------\n"
     ]
    }
   ],
   "source": [
    "for i in sp_sets:\n",
    "    preprocess_ds(i)"
   ]
  },
  {
   "cell_type": "code",
   "execution_count": 107,
   "metadata": {},
   "outputs": [
    {
     "name": "stdout",
     "output_type": "stream",
     "text": [
      "Indian-Male-Names.csv \n",
      "\n",
      "Before : 14845\n",
      "Duplicates : 6366\n",
      "Null : name      0\n",
      "gender    0\n",
      "race      0\n",
      "dtype: int64\n",
      "After : 8479\n",
      "-----------------\n",
      "Indian-Female-Names.csv \n",
      "\n",
      "Before : 15382\n",
      "Duplicates : 8679\n",
      "Null : name      0\n",
      "gender    0\n",
      "race      0\n",
      "dtype: int64\n",
      "After : 6703\n",
      "-----------------\n"
     ]
    }
   ],
   "source": [
    "for i in d_sets:\n",
    "    preprocess_ds(i,False)"
   ]
  },
  {
   "cell_type": "markdown",
   "metadata": {},
   "source": [
    "### FInal results"
   ]
  },
  {
   "cell_type": "code",
   "execution_count": 108,
   "metadata": {},
   "outputs": [
    {
     "name": "stdout",
     "output_type": "stream",
     "text": [
      "Black-Male-Names.csv \n",
      "             name  gender  race\n",
      "0       aaric a        0     0\n",
      "1   dominique j        0     0\n",
      "2    fredrick r        0     0\n",
      "3       jarvis         0     0\n",
      "4      lorenzo         0     0\n",
      "size : 15219\n",
      "-----------------\n",
      "Black-Female-Names.csv \n",
      "             name  gender  race\n",
      "0   tashanika l        1     0\n",
      "1     denetra c        1     0\n",
      "2     tomesha d        1     0\n",
      "3    trellany c        1     0\n",
      "4     cynthia s        1     0\n",
      "size : 2195\n",
      "-----------------\n",
      "Hispanic-Male-Names.csv \n",
      "            name  gender  race\n",
      "0   jonathan r        0     1\n",
      "1   jonathan a        0     1\n",
      "2       pablo         0     1\n",
      "3    basilio l        0     1\n",
      "4      german         0     1\n",
      "size : 2184\n",
      "-----------------\n",
      "Hispanic-Female-Names.csv \n",
      "           name  gender  race\n",
      "0   shirley m        1     1\n",
      "1       ana d        1     1\n",
      "2     miriam         1     1\n",
      "3     ivette         1     1\n",
      "4      saray         1     1\n",
      "size : 202\n",
      "-----------------\n",
      "White-Male-Names.csv \n",
      "            name  gender  race\n",
      "0      billy r        0     2\n",
      "1    charles d        0     2\n",
      "2   clarence d        0     2\n",
      "3     justin c        0     2\n",
      "4        roy s        0     2\n",
      "size : 13026\n",
      "-----------------\n",
      "White-Female-Names.csv \n",
      "             name  gender  race\n",
      "0      leslie b        1     2\n",
      "1       peggy s        1     2\n",
      "2     rebecca r        1     2\n",
      "3   antoinette         1     2\n",
      "4    shaylene n        1     2\n",
      "size : 2743\n",
      "-----------------\n",
      "Indian-Male-Names.csv \n",
      "               name  gender  race\n",
      "0          barjraj       0     3\n",
      "1     ramdin verma       0     3\n",
      "2  sharat chandran       0     3\n",
      "3  birender mandal       0     3\n",
      "4             amit       0     3\n",
      "size : 8479\n",
      "-----------------\n",
      "Indian-Female-Names.csv \n",
      "               name  gender  race\n",
      "0          shivani       1     3\n",
      "1             isha       1     3\n",
      "2  smt shyani devi       1     3\n",
      "3            divya       1     3\n",
      "4            mansi       1     3\n",
      "size : 6703\n",
      "-----------------\n"
     ]
    }
   ],
   "source": [
    "for i in sp_sets+d_sets:\n",
    "    disp_d(i,clean_loc)"
   ]
  },
  {
   "cell_type": "code",
   "execution_count": null,
   "metadata": {},
   "outputs": [],
   "source": []
  }
 ],
 "metadata": {
  "kernelspec": {
   "display_name": "Python 3",
   "language": "python",
   "name": "python3"
  },
  "language_info": {
   "codemirror_mode": {
    "name": "ipython",
    "version": 3
   },
   "file_extension": ".py",
   "mimetype": "text/x-python",
   "name": "python",
   "nbconvert_exporter": "python",
   "pygments_lexer": "ipython3",
   "version": "3.6.8"
  }
 },
 "nbformat": 4,
 "nbformat_minor": 2
}
