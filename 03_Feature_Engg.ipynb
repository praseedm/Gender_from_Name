{
 "cells": [
  {
   "cell_type": "code",
   "execution_count": 7,
   "metadata": {},
   "outputs": [],
   "source": [
    "import pandas as pd\n",
    "import re\n",
    "from tqdm import tqdm "
   ]
  },
  {
   "cell_type": "code",
   "execution_count": 18,
   "metadata": {},
   "outputs": [],
   "source": [
    "data_loc = './data/clean/'"
   ]
  },
  {
   "cell_type": "code",
   "execution_count": 53,
   "metadata": {},
   "outputs": [
    {
     "data": {
      "text/plain": [
       "['Black-Male-Names.csv',\n",
       " 'Black-Female-Names.csv',\n",
       " 'Hispanic-Male-Names.csv',\n",
       " 'Hispanic-Female-Names.csv',\n",
       " 'White-Male-Names.csv',\n",
       " 'White-Female-Names.csv',\n",
       " 'Indian-Male-Names.csv',\n",
       " 'Indian-Female-Names.csv']"
      ]
     },
     "execution_count": 53,
     "metadata": {},
     "output_type": "execute_result"
    }
   ],
   "source": [
    "d_sets = ['Black-Male-Names.csv','Black-Female-Names.csv','Hispanic-Male-Names.csv','Hispanic-Female-Names.csv','White-Male-Names.csv','White-Female-Names.csv','Indian-Male-Names.csv','Indian-Female-Names.csv']\n",
    "d_sets"
   ]
  },
  {
   "cell_type": "code",
   "execution_count": 69,
   "metadata": {},
   "outputs": [],
   "source": [
    "def disp_d(name,d_loc):\n",
    "    d2 = pd.read_csv(d_loc+name)\n",
    "    print(name,'\\n',d2.head())\n",
    "    print('size :',len(d2))\n",
    "    print('-----------------')"
   ]
  },
  {
   "cell_type": "markdown",
   "metadata": {},
   "source": [
    "### Features\n",
    "* Length - character count "
   ]
  },
  {
   "cell_type": "code",
   "execution_count": 70,
   "metadata": {},
   "outputs": [],
   "source": [
    "def add_features(name):\n",
    "    d2 = pd.read_csv(data_loc+name)\n",
    "    d2['length'] = d2.name.apply(lambda x : len(str(x)))\n",
    "    d2.to_csv(data_loc+name, index=False)"
   ]
  },
  {
   "cell_type": "code",
   "execution_count": 71,
   "metadata": {},
   "outputs": [
    {
     "name": "stderr",
     "output_type": "stream",
     "text": [
      "100%|██████████| 8/8 [00:00<00:00, 27.06it/s]\n"
     ]
    }
   ],
   "source": [
    "for i in tqdm(d_sets):\n",
    "    add_features(i)"
   ]
  },
  {
   "cell_type": "code",
   "execution_count": 72,
   "metadata": {},
   "outputs": [
    {
     "name": "stdout",
     "output_type": "stream",
     "text": [
      "Black-Male-Names.csv \n",
      "           name  gender  race  length\n",
      "0      aaric a       0     0       7\n",
      "1  dominique j       0     0      11\n",
      "2   fredrick r       0     0      10\n",
      "3       jarvis       0     0       6\n",
      "4      lorenzo       0     0       7\n",
      "size : 14762\n",
      "-----------------\n",
      "Black-Female-Names.csv \n",
      "           name  gender  race  length\n",
      "0  tashanika l       1     0      11\n",
      "1    denetra c       1     0       9\n",
      "2    tomesha d       1     0       9\n",
      "3   trellany c       1     0      10\n",
      "4    cynthia s       1     0       9\n",
      "size : 2058\n",
      "-----------------\n",
      "Hispanic-Male-Names.csv \n",
      "         name  gender  race  length\n",
      "0   jothan r       0     1       8\n",
      "1   jothan a       0     1       8\n",
      "2      pablo       0     1       5\n",
      "3  basilio l       0     1       9\n",
      "4     german       0     1       6\n",
      "size : 1919\n",
      "-----------------\n",
      "Hispanic-Female-Names.csv \n",
      "         name  gender  race  length\n",
      "0  shirley m       1     1       9\n",
      "1        a d       1     1       3\n",
      "2     miriam       1     1       6\n",
      "3     ivette       1     1       6\n",
      "4      saray       1     1       5\n",
      "size : 194\n",
      "-----------------\n",
      "White-Male-Names.csv \n",
      "          name  gender  race  length\n",
      "0     billy r       0     2       7\n",
      "1   charles d       0     2       9\n",
      "2  clarence d       0     2      10\n",
      "3    justin c       0     2       8\n",
      "4       roy s       0     2       5\n",
      "size : 10444\n",
      "-----------------\n",
      "White-Female-Names.csv \n",
      "          name  gender  race  length\n",
      "0    leslie b       1     2       8\n",
      "1     peggy s       1     2       7\n",
      "2   rebecca r       1     2       9\n",
      "3  antoinette       1     2      10\n",
      "4  shaylene n       1     2      10\n",
      "size : 2627\n",
      "-----------------\n",
      "Indian-Male-Names.csv \n",
      "            name  gender  race  length\n",
      "0       barjraj       0     3       7\n",
      "1  ramdin verma       0     3      12\n",
      "2     sharat ch       0     3       9\n",
      "3    birender m       0     3      10\n",
      "4          amit       0     3       4\n",
      "size : 7683\n",
      "-----------------\n",
      "Indian-Female-Names.csv \n",
      "               name  gender  race  length\n",
      "0          shivani       1     3       7\n",
      "1             isha       1     3       4\n",
      "2  smt shyani devi       1     3      15\n",
      "3            divya       1     3       5\n",
      "4            mansi       1     3       5\n",
      "size : 5955\n",
      "-----------------\n"
     ]
    }
   ],
   "source": [
    "for i in d_sets:\n",
    "    disp_d(i,data_loc)"
   ]
  },
  {
   "cell_type": "code",
   "execution_count": 51,
   "metadata": {},
   "outputs": [
    {
     "data": {
      "text/plain": [
       "'roshan kumar s'"
      ]
     },
     "execution_count": 51,
     "metadata": {},
     "output_type": "execute_result"
    }
   ],
   "source": [
    "re.sub(r'na|/.*|@.*','','roshan kumar s/o rajkumar,')"
   ]
  },
  {
   "cell_type": "code",
   "execution_count": 61,
   "metadata": {},
   "outputs": [],
   "source": [
    "re?"
   ]
  },
  {
   "cell_type": "code",
   "execution_count": null,
   "metadata": {},
   "outputs": [],
   "source": []
  }
 ],
 "metadata": {
  "kernelspec": {
   "display_name": "Python 3",
   "language": "python",
   "name": "python3"
  },
  "language_info": {
   "codemirror_mode": {
    "name": "ipython",
    "version": 3
   },
   "file_extension": ".py",
   "mimetype": "text/x-python",
   "name": "python",
   "nbconvert_exporter": "python",
   "pygments_lexer": "ipython3",
   "version": "3.6.8"
  }
 },
 "nbformat": 4,
 "nbformat_minor": 2
}
