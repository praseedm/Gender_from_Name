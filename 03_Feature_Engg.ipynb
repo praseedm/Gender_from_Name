{
 "cells": [
  {
   "cell_type": "code",
   "execution_count": 7,
   "metadata": {},
   "outputs": [],
   "source": [
    "import pandas as pd\n",
    "import re\n",
    "from tqdm import tqdm "
   ]
  },
  {
   "cell_type": "code",
   "execution_count": 9,
   "metadata": {},
   "outputs": [],
   "source": [
    "data_loc = './data/clean/'"
   ]
  },
  {
   "cell_type": "code",
   "execution_count": 10,
   "metadata": {},
   "outputs": [
    {
     "data": {
      "text/plain": [
       "['Black-Male-Names.csv',\n",
       " 'Black-Female-Names.csv',\n",
       " 'Hispanic-Male-Names.csv',\n",
       " 'Hispanic-Female-Names.csv',\n",
       " 'White-Male-Names.csv',\n",
       " 'White-Female-Names.csv',\n",
       " 'Indian-Male-Names.csv',\n",
       " 'Indian-Female-Names.csv']"
      ]
     },
     "execution_count": 10,
     "metadata": {},
     "output_type": "execute_result"
    }
   ],
   "source": [
    "d_sets = ['Black-Male-Names.csv','Black-Female-Names.csv','Hispanic-Male-Names.csv','Hispanic-Female-Names.csv','White-Male-Names.csv','White-Female-Names.csv','Indian-Male-Names.csv','Indian-Female-Names.csv']\n",
    "d_sets"
   ]
  },
  {
   "cell_type": "code",
   "execution_count": 11,
   "metadata": {},
   "outputs": [],
   "source": [
    "def disp_d(name,d_loc):\n",
    "    d2 = pd.read_csv(d_loc+name)\n",
    "    print(name,'\\n',d2.head())\n",
    "    print('size :',len(d2))\n",
    "    print('-----------------')"
   ]
  },
  {
   "cell_type": "markdown",
   "metadata": {},
   "source": [
    "### Features\n",
    "* Length - character count "
   ]
  },
  {
   "cell_type": "code",
   "execution_count": 14,
   "metadata": {},
   "outputs": [],
   "source": [
    "def add_features(name):\n",
    "    d2 = pd.read_csv(data_loc+name)\n",
    "    d2['length'] = d2.name.apply(lambda x : len(str(x)))\n",
    "    d2.to_csv(data_loc+name, index=False)"
   ]
  },
  {
   "cell_type": "code",
   "execution_count": 16,
   "metadata": {},
   "outputs": [
    {
     "name": "stderr",
     "output_type": "stream",
     "text": [
      "100%|██████████| 8/8 [00:00<00:00, 14.95it/s]\n"
     ]
    }
   ],
   "source": [
    "for i in tqdm(d_sets):\n",
    "    add_features(i)"
   ]
  },
  {
   "cell_type": "code",
   "execution_count": 17,
   "metadata": {},
   "outputs": [
    {
     "name": "stdout",
     "output_type": "stream",
     "text": [
      "Black-Male-Names.csv \n",
      "             name  gender  race  length\n",
      "0       aaric a        0     0       9\n",
      "1   dominique j        0     0      13\n",
      "2    fredrick r        0     0      12\n",
      "3       jarvis         0     0       9\n",
      "4      lorenzo         0     0      10\n",
      "size : 15219\n",
      "-----------------\n",
      "Black-Female-Names.csv \n",
      "             name  gender  race  length\n",
      "0   tashanika l        1     0      13\n",
      "1     denetra c        1     0      11\n",
      "2     tomesha d        1     0      11\n",
      "3    trellany c        1     0      12\n",
      "4     cynthia s        1     0      11\n",
      "size : 2195\n",
      "-----------------\n",
      "Hispanic-Male-Names.csv \n",
      "            name  gender  race  length\n",
      "0   jonathan r        0     1      12\n",
      "1   jonathan a        0     1      12\n",
      "2       pablo         0     1       8\n",
      "3    basilio l        0     1      11\n",
      "4      german         0     1       9\n",
      "size : 2184\n",
      "-----------------\n",
      "Hispanic-Female-Names.csv \n",
      "           name  gender  race  length\n",
      "0   shirley m        1     1      11\n",
      "1       ana d        1     1       7\n",
      "2     miriam         1     1       9\n",
      "3     ivette         1     1       9\n",
      "4      saray         1     1       8\n",
      "size : 202\n",
      "-----------------\n",
      "White-Male-Names.csv \n",
      "            name  gender  race  length\n",
      "0      billy r        0     2       9\n",
      "1    charles d        0     2      11\n",
      "2   clarence d        0     2      12\n",
      "3     justin c        0     2      10\n",
      "4        roy s        0     2       7\n",
      "size : 13026\n",
      "-----------------\n",
      "White-Female-Names.csv \n",
      "             name  gender  race  length\n",
      "0      leslie b        1     2      10\n",
      "1       peggy s        1     2       9\n",
      "2     rebecca r        1     2      11\n",
      "3   antoinette         1     2      13\n",
      "4    shaylene n        1     2      12\n",
      "size : 2743\n",
      "-----------------\n",
      "Indian-Male-Names.csv \n",
      "               name  gender  race  length\n",
      "0          barjraj       0     3       7\n",
      "1     ramdin verma       0     3      12\n",
      "2  sharat chandran       0     3      15\n",
      "3  birender mandal       0     3      15\n",
      "4             amit       0     3       4\n",
      "size : 8479\n",
      "-----------------\n",
      "Indian-Female-Names.csv \n",
      "               name  gender  race  length\n",
      "0          shivani       1     3       7\n",
      "1             isha       1     3       4\n",
      "2  smt shyani devi       1     3      15\n",
      "3            divya       1     3       5\n",
      "4            mansi       1     3       5\n",
      "size : 6703\n",
      "-----------------\n"
     ]
    }
   ],
   "source": [
    "for i in d_sets:\n",
    "    disp_d(i,data_loc)"
   ]
  },
  {
   "cell_type": "code",
   "execution_count": null,
   "metadata": {},
   "outputs": [],
   "source": []
  }
 ],
 "metadata": {
  "kernelspec": {
   "display_name": "Python 3",
   "language": "python",
   "name": "python3"
  },
  "language_info": {
   "codemirror_mode": {
    "name": "ipython",
    "version": 3
   },
   "file_extension": ".py",
   "mimetype": "text/x-python",
   "name": "python",
   "nbconvert_exporter": "python",
   "pygments_lexer": "ipython3",
   "version": "3.6.8"
  }
 },
 "nbformat": 4,
 "nbformat_minor": 2
}
