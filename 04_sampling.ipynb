{
 "cells": [
  {
   "cell_type": "markdown",
   "metadata": {},
   "source": [
    "### For Soln 1\n",
    "#### ( Predict Gender from Name )"
   ]
  },
  {
   "cell_type": "code",
   "execution_count": 1,
   "metadata": {},
   "outputs": [],
   "source": [
    "%matplotlib inline"
   ]
  },
  {
   "cell_type": "code",
   "execution_count": 15,
   "metadata": {},
   "outputs": [],
   "source": [
    "import pandas as pd\n",
    "import matplotlib.pyplot as plt"
   ]
  },
  {
   "cell_type": "code",
   "execution_count": 16,
   "metadata": {},
   "outputs": [],
   "source": [
    "d_loc = './data/clean/'\n",
    "s_loc = './data/sample/'"
   ]
  },
  {
   "cell_type": "code",
   "execution_count": 17,
   "metadata": {},
   "outputs": [
    {
     "data": {
      "text/plain": [
       "['Indian-Male-Names.csv', 'Indian-Female-Names.csv']"
      ]
     },
     "execution_count": 17,
     "metadata": {},
     "output_type": "execute_result"
    }
   ],
   "source": [
    "ind_d_sets = ['Indian-Male-Names.csv','Indian-Female-Names.csv']\n",
    "ind_d_sets"
   ]
  },
  {
   "cell_type": "code",
   "execution_count": 28,
   "metadata": {},
   "outputs": [],
   "source": [
    "ind_m = pd.read_csv(d_loc+ind_d_sets[0])\n",
    "ind_f = pd.read_csv(d_loc+ind_d_sets[1])"
   ]
  },
  {
   "cell_type": "code",
   "execution_count": 29,
   "metadata": {},
   "outputs": [
    {
     "name": "stdout",
     "output_type": "stream",
     "text": [
      "           name  gender  race  length\n",
      "0       barjraj       0     3       7\n",
      "1  ramdin verma       0     3      12\n",
      "2        sharat       0     3       6\n",
      "3      birender       0     3       8\n",
      "4          amit       0     3       4\n",
      "              name  gender  race  length\n",
      "0          shivani       1     3       7\n",
      "1             isha       1     3       4\n",
      "2  smt shyani devi       1     3      15\n",
      "3            divya       1     3       5\n",
      "4            mansi       1     3       5\n"
     ]
    }
   ],
   "source": [
    "print(ind_m.head())\n",
    "print(ind_f.head())"
   ]
  },
  {
   "cell_type": "code",
   "execution_count": 30,
   "metadata": {},
   "outputs": [
    {
     "data": {
      "text/plain": [
       "13123"
      ]
     },
     "execution_count": 30,
     "metadata": {},
     "output_type": "execute_result"
    }
   ],
   "source": [
    "ind = ind_m.append(ind_f)\n",
    "len(ind)"
   ]
  },
  {
   "cell_type": "code",
   "execution_count": 31,
   "metadata": {},
   "outputs": [
    {
     "data": {
      "text/plain": [
       "84"
      ]
     },
     "execution_count": 31,
     "metadata": {},
     "output_type": "execute_result"
    }
   ],
   "source": [
    "(ind.length > 21).sum()"
   ]
  },
  {
   "cell_type": "code",
   "execution_count": 32,
   "metadata": {},
   "outputs": [
    {
     "data": {
      "text/plain": [
       "32"
      ]
     },
     "execution_count": 32,
     "metadata": {},
     "output_type": "execute_result"
    }
   ],
   "source": [
    "ind.length.max()"
   ]
  },
  {
   "cell_type": "code",
   "execution_count": 33,
   "metadata": {},
   "outputs": [
    {
     "data": {
      "text/plain": [
       "3"
      ]
     },
     "execution_count": 33,
     "metadata": {},
     "output_type": "execute_result"
    }
   ],
   "source": [
    "ind.length.min()"
   ]
  },
  {
   "cell_type": "code",
   "execution_count": 34,
   "metadata": {},
   "outputs": [],
   "source": [
    "th = 21"
   ]
  },
  {
   "cell_type": "code",
   "execution_count": 35,
   "metadata": {},
   "outputs": [],
   "source": [
    "for i in ind_d_sets:\n",
    "    temp = pd.read_csv(d_loc+i)\n",
    "    temp = temp[temp.length < th]\n",
    "    temp.to_csv(s_loc+i, index=False)"
   ]
  },
  {
   "cell_type": "code",
   "execution_count": 36,
   "metadata": {},
   "outputs": [],
   "source": [
    "def disp_d(name,d_loc):\n",
    "    d2 = pd.read_csv(d_loc+name)\n",
    "    print(name,'\\n',d2.head())\n",
    "    print('size :',len(d2))\n",
    "    print('-----------------')"
   ]
  },
  {
   "cell_type": "code",
   "execution_count": 37,
   "metadata": {},
   "outputs": [
    {
     "name": "stdout",
     "output_type": "stream",
     "text": [
      "Indian-Male-Names.csv \n",
      "            name  gender  race  length\n",
      "0       barjraj       0     3       7\n",
      "1  ramdin verma       0     3      12\n",
      "2        sharat       0     3       6\n",
      "3      birender       0     3       8\n",
      "4          amit       0     3       4\n",
      "size : 7307\n",
      "-----------------\n",
      "Indian-Female-Names.csv \n",
      "               name  gender  race  length\n",
      "0          shivani       1     3       7\n",
      "1             isha       1     3       4\n",
      "2  smt shyani devi       1     3      15\n",
      "3            divya       1     3       5\n",
      "4            mansi       1     3       5\n",
      "size : 5685\n",
      "-----------------\n"
     ]
    }
   ],
   "source": [
    "for i in ind_d_sets:\n",
    "    disp_d(i,s_loc)"
   ]
  },
  {
   "cell_type": "code",
   "execution_count": 13,
   "metadata": {},
   "outputs": [],
   "source": [
    "import re"
   ]
  },
  {
   "cell_type": "code",
   "execution_count": 14,
   "metadata": {},
   "outputs": [],
   "source": [
    "re?"
   ]
  },
  {
   "cell_type": "code",
   "execution_count": null,
   "metadata": {},
   "outputs": [],
   "source": []
  }
 ],
 "metadata": {
  "kernelspec": {
   "display_name": "Python 3",
   "language": "python",
   "name": "python3"
  },
  "language_info": {
   "codemirror_mode": {
    "name": "ipython",
    "version": 3
   },
   "file_extension": ".py",
   "mimetype": "text/x-python",
   "name": "python",
   "nbconvert_exporter": "python",
   "pygments_lexer": "ipython3",
   "version": "3.6.8"
  }
 },
 "nbformat": 4,
 "nbformat_minor": 2
}
