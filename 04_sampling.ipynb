{
 "cells": [
  {
   "cell_type": "markdown",
   "metadata": {},
   "source": [
    "### For Soln 1\n",
    "#### ( Predict Gender from Name )"
   ]
  },
  {
   "cell_type": "code",
   "execution_count": 1,
   "metadata": {},
   "outputs": [],
   "source": [
    "%matplotlib inline"
   ]
  },
  {
   "cell_type": "code",
   "execution_count": 15,
   "metadata": {},
   "outputs": [],
   "source": [
    "import pandas as pd\n",
    "import matplotlib.pyplot as plt"
   ]
  },
  {
   "cell_type": "code",
   "execution_count": 38,
   "metadata": {},
   "outputs": [],
   "source": [
    "d_loc = './data/clean/'\n",
    "s_loc = './data/sample/'"
   ]
  },
  {
   "cell_type": "code",
   "execution_count": 39,
   "metadata": {},
   "outputs": [
    {
     "data": {
      "text/plain": [
       "['Indian-Male-Names.csv', 'Indian-Female-Names.csv']"
      ]
     },
     "execution_count": 39,
     "metadata": {},
     "output_type": "execute_result"
    }
   ],
   "source": [
    "ind_d_sets = ['Indian-Male-Names.csv','Indian-Female-Names.csv']\n",
    "ind_d_sets"
   ]
  },
  {
   "cell_type": "code",
   "execution_count": 40,
   "metadata": {},
   "outputs": [],
   "source": [
    "ind_m = pd.read_csv(d_loc+ind_d_sets[0])\n",
    "ind_f = pd.read_csv(d_loc+ind_d_sets[1])"
   ]
  },
  {
   "cell_type": "code",
   "execution_count": 41,
   "metadata": {},
   "outputs": [
    {
     "name": "stdout",
     "output_type": "stream",
     "text": [
      "           name  gender  race  length\n",
      "0       barjraj       0     3       7\n",
      "1  ramdin verma       0     3      12\n",
      "2        sharat       0     3       6\n",
      "3      birender       0     3       8\n",
      "4          amit       0     3       4\n",
      "              name  gender  race  length\n",
      "0          shivani       1     3       7\n",
      "1             isha       1     3       4\n",
      "2  smt shyani devi       1     3      15\n",
      "3            divya       1     3       5\n",
      "4            mansi       1     3       5\n"
     ]
    }
   ],
   "source": [
    "print(ind_m.head())\n",
    "print(ind_f.head())"
   ]
  },
  {
   "cell_type": "code",
   "execution_count": 42,
   "metadata": {},
   "outputs": [
    {
     "data": {
      "text/plain": [
       "13123"
      ]
     },
     "execution_count": 42,
     "metadata": {},
     "output_type": "execute_result"
    }
   ],
   "source": [
    "ind = ind_m.append(ind_f)\n",
    "len(ind)"
   ]
  },
  {
   "cell_type": "code",
   "execution_count": 43,
   "metadata": {},
   "outputs": [
    {
     "data": {
      "text/plain": [
       "84"
      ]
     },
     "execution_count": 43,
     "metadata": {},
     "output_type": "execute_result"
    }
   ],
   "source": [
    "(ind.length > 21).sum()"
   ]
  },
  {
   "cell_type": "code",
   "execution_count": 44,
   "metadata": {},
   "outputs": [
    {
     "data": {
      "text/plain": [
       "32"
      ]
     },
     "execution_count": 44,
     "metadata": {},
     "output_type": "execute_result"
    }
   ],
   "source": [
    "ind.length.max()"
   ]
  },
  {
   "cell_type": "code",
   "execution_count": 45,
   "metadata": {},
   "outputs": [
    {
     "data": {
      "text/plain": [
       "3"
      ]
     },
     "execution_count": 45,
     "metadata": {},
     "output_type": "execute_result"
    }
   ],
   "source": [
    "ind.length.min()"
   ]
  },
  {
   "cell_type": "code",
   "execution_count": 46,
   "metadata": {},
   "outputs": [],
   "source": [
    "th = 21"
   ]
  },
  {
   "cell_type": "code",
   "execution_count": 47,
   "metadata": {},
   "outputs": [],
   "source": [
    "for i in ind_d_sets:\n",
    "    temp = pd.read_csv(d_loc+i)\n",
    "    temp = temp[temp.length < th]\n",
    "    temp.to_csv(s_loc+i, index=False)"
   ]
  },
  {
   "cell_type": "code",
   "execution_count": 53,
   "metadata": {},
   "outputs": [],
   "source": [
    "def disp_d(name,d_loc):\n",
    "    d2 = pd.read_csv(d_loc+name)\n",
    "    print(name,'\\n',d2.head())\n",
    "    print('Len max :',d2.length.max())\n",
    "    print('Len min :',d2.length.min())\n",
    "    print('size :',len(d2))\n",
    "    print('-----------------')"
   ]
  },
  {
   "cell_type": "code",
   "execution_count": 54,
   "metadata": {},
   "outputs": [
    {
     "name": "stdout",
     "output_type": "stream",
     "text": [
      "Indian-Male-Names.csv \n",
      "            name  gender  race  length\n",
      "0       barjraj       0     3       7\n",
      "1  ramdin verma       0     3      12\n",
      "2        sharat       0     3       6\n",
      "3      birender       0     3       8\n",
      "4          amit       0     3       4\n",
      "Len max : 20\n",
      "Len min : 3\n",
      "size : 7307\n",
      "-----------------\n",
      "Indian-Female-Names.csv \n",
      "               name  gender  race  length\n",
      "0          shivani       1     3       7\n",
      "1             isha       1     3       4\n",
      "2  smt shyani devi       1     3      15\n",
      "3            divya       1     3       5\n",
      "4            mansi       1     3       5\n",
      "Len max : 20\n",
      "Len min : 3\n",
      "size : 5685\n",
      "-----------------\n"
     ]
    }
   ],
   "source": [
    "for i in ind_d_sets:\n",
    "    disp_d(i,s_loc)"
   ]
  },
  {
   "cell_type": "markdown",
   "metadata": {},
   "source": [
    "### For Soln 2\n",
    "#### ( Predict Race from Name )"
   ]
  },
  {
   "cell_type": "code",
   "execution_count": 50,
   "metadata": {},
   "outputs": [
    {
     "data": {
      "text/plain": [
       "['Black-Male-Names.csv',\n",
       " 'Black-Female-Names.csv',\n",
       " 'Hispanic-Male-Names.csv',\n",
       " 'Hispanic-Female-Names.csv',\n",
       " 'White-Male-Names.csv',\n",
       " 'White-Female-Names.csv']"
      ]
     },
     "execution_count": 50,
     "metadata": {},
     "output_type": "execute_result"
    }
   ],
   "source": [
    "sp_sets = ['Black-Male-Names.csv','Black-Female-Names.csv','Hispanic-Male-Names.csv','Hispanic-Female-Names.csv','White-Male-Names.csv','White-Female-Names.csv']\n",
    "sp_sets"
   ]
  },
  {
   "cell_type": "code",
   "execution_count": 55,
   "metadata": {},
   "outputs": [
    {
     "name": "stdout",
     "output_type": "stream",
     "text": [
      "Black-Male-Names.csv \n",
      "         name  gender  race  length\n",
      "0      aaric       0     0       5\n",
      "1  dominique       0     0       9\n",
      "2   fredrick       0     0       8\n",
      "3     jarvis       0     0       6\n",
      "4    lorenzo       0     0       7\n",
      "Len max : 15\n",
      "Len min : 3\n",
      "size : 6981\n",
      "-----------------\n",
      "Black-Female-Names.csv \n",
      "         name  gender  race  length\n",
      "0  tashanika       1     0       9\n",
      "1    denetra       1     0       7\n",
      "2    tomesha       1     0       7\n",
      "3   trellany       1     0       8\n",
      "4    cynthia       1     0       7\n",
      "Len max : 11\n",
      "Len min : 3\n",
      "size : 1436\n",
      "-----------------\n",
      "Hispanic-Male-Names.csv \n",
      "       name  gender  race  length\n",
      "0   jothan       0     1       6\n",
      "1    pablo       0     1       5\n",
      "2  basilio       0     1       7\n",
      "3   german       0     1       6\n",
      "4   javier       0     1       6\n",
      "Len max : 11\n",
      "Len min : 3\n",
      "size : 872\n",
      "-----------------\n",
      "Hispanic-Female-Names.csv \n",
      "       name  gender  race  length\n",
      "0  shirley       1     1       7\n",
      "1      NaN       1     1       3\n",
      "2   miriam       1     1       6\n",
      "3   ivette       1     1       6\n",
      "4    saray       1     1       5\n",
      "Len max : 13\n",
      "Len min : 3\n",
      "size : 168\n",
      "-----------------\n",
      "White-Male-Names.csv \n",
      "        name  gender  race  length\n",
      "0     billy       0     2       5\n",
      "1   charles       0     2       7\n",
      "2  clarence       0     2       8\n",
      "3    justin       0     2       6\n",
      "4       roy       0     2       3\n",
      "Len max : 16\n",
      "Len min : 3\n",
      "size : 3184\n",
      "-----------------\n",
      "White-Female-Names.csv \n",
      "          name  gender  race  length\n",
      "0      leslie       1     2       6\n",
      "1       peggy       1     2       5\n",
      "2     rebecca       1     2       7\n",
      "3  antoinette       1     2      10\n",
      "4    shaylene       1     2       8\n",
      "Len max : 11\n",
      "Len min : 3\n",
      "size : 1159\n",
      "-----------------\n"
     ]
    }
   ],
   "source": [
    "for i in sp_sets:\n",
    "    disp_d(i,d_loc)"
   ]
  },
  {
   "cell_type": "code",
   "execution_count": 56,
   "metadata": {},
   "outputs": [],
   "source": [
    "for i in sp_sets:\n",
    "    temp = pd.read_csv(d_loc+i)\n",
    "    temp = temp[temp.length < th]\n",
    "    temp.to_csv(s_loc+i, index=False)"
   ]
  },
  {
   "cell_type": "code",
   "execution_count": null,
   "metadata": {},
   "outputs": [],
   "source": []
  }
 ],
 "metadata": {
  "kernelspec": {
   "display_name": "Python 3",
   "language": "python",
   "name": "python3"
  },
  "language_info": {
   "codemirror_mode": {
    "name": "ipython",
    "version": 3
   },
   "file_extension": ".py",
   "mimetype": "text/x-python",
   "name": "python",
   "nbconvert_exporter": "python",
   "pygments_lexer": "ipython3",
   "version": "3.6.8"
  }
 },
 "nbformat": 4,
 "nbformat_minor": 2
}
