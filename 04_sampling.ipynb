{
 "cells": [
  {
   "cell_type": "markdown",
   "metadata": {},
   "source": [
    "### For Soln 1\n",
    "#### ( Predict Gender from Name )"
   ]
  },
  {
   "cell_type": "code",
   "execution_count": 1,
   "metadata": {},
   "outputs": [],
   "source": [
    "%matplotlib inline"
   ]
  },
  {
   "cell_type": "code",
   "execution_count": 1,
   "metadata": {},
   "outputs": [],
   "source": [
    "import pandas as pd\n",
    "import matplotlib.pyplot as plt"
   ]
  },
  {
   "cell_type": "code",
   "execution_count": 2,
   "metadata": {},
   "outputs": [],
   "source": [
    "d_loc = './data/clean/'\n",
    "s_loc = './data/sample/'"
   ]
  },
  {
   "cell_type": "code",
   "execution_count": 3,
   "metadata": {},
   "outputs": [
    {
     "data": {
      "text/plain": [
       "['Indian-Male-Names.csv', 'Indian-Female-Names.csv']"
      ]
     },
     "execution_count": 3,
     "metadata": {},
     "output_type": "execute_result"
    }
   ],
   "source": [
    "ind_d_sets = ['Indian-Male-Names.csv','Indian-Female-Names.csv']\n",
    "ind_d_sets"
   ]
  },
  {
   "cell_type": "code",
   "execution_count": 4,
   "metadata": {},
   "outputs": [],
   "source": [
    "ind_m = pd.read_csv(d_loc+ind_d_sets[0])\n",
    "ind_f = pd.read_csv(d_loc+ind_d_sets[1])"
   ]
  },
  {
   "cell_type": "code",
   "execution_count": 5,
   "metadata": {},
   "outputs": [
    {
     "name": "stdout",
     "output_type": "stream",
     "text": [
      "           name  gender  race  length  fl_is_v  ll_is_v first_2 last_2  \\\n",
      "0       barjraj       0     3       7        0        0      ba     aj   \n",
      "1  ramdin verma       0     3      12        0        1      ra     ma   \n",
      "2        sharat       0     3       6        0        0      sh     at   \n",
      "3      birender       0     3       8        0        0      bi     er   \n",
      "4          amit       0     3       4        1        0      am     it   \n",
      "\n",
      "  first_3 last_3  \n",
      "0     bar    raj  \n",
      "1     ram    rma  \n",
      "2     sha    rat  \n",
      "3     bir    der  \n",
      "4     ami    mit  \n",
      "              name  gender  race  length  fl_is_v  ll_is_v first_2 last_2  \\\n",
      "0          shivani       1     3       7        0        1      sh     ni   \n",
      "1             isha       1     3       4        1        1      is     ha   \n",
      "2  smt shyani devi       1     3      15        0        1      sm     vi   \n",
      "3            divya       1     3       5        0        1      di     ya   \n",
      "4            mansi       1     3       5        0        1      ma     si   \n",
      "\n",
      "  first_3 last_3  \n",
      "0     shi    ani  \n",
      "1     ish    sha  \n",
      "2     smt    evi  \n",
      "3     div    vya  \n",
      "4     man    nsi  \n"
     ]
    }
   ],
   "source": [
    "print(ind_m.head())\n",
    "print(ind_f.head())"
   ]
  },
  {
   "cell_type": "code",
   "execution_count": 6,
   "metadata": {},
   "outputs": [
    {
     "data": {
      "text/plain": [
       "13123"
      ]
     },
     "execution_count": 6,
     "metadata": {},
     "output_type": "execute_result"
    }
   ],
   "source": [
    "ind = ind_m.append(ind_f)\n",
    "len(ind)"
   ]
  },
  {
   "cell_type": "code",
   "execution_count": 7,
   "metadata": {},
   "outputs": [
    {
     "data": {
      "text/plain": [
       "84"
      ]
     },
     "execution_count": 7,
     "metadata": {},
     "output_type": "execute_result"
    }
   ],
   "source": [
    "(ind.length > 21).sum()"
   ]
  },
  {
   "cell_type": "code",
   "execution_count": 8,
   "metadata": {},
   "outputs": [
    {
     "data": {
      "text/plain": [
       "32"
      ]
     },
     "execution_count": 8,
     "metadata": {},
     "output_type": "execute_result"
    }
   ],
   "source": [
    "ind.length.max()"
   ]
  },
  {
   "cell_type": "code",
   "execution_count": 9,
   "metadata": {},
   "outputs": [
    {
     "data": {
      "text/plain": [
       "3"
      ]
     },
     "execution_count": 9,
     "metadata": {},
     "output_type": "execute_result"
    }
   ],
   "source": [
    "ind.length.min()"
   ]
  },
  {
   "cell_type": "code",
   "execution_count": 10,
   "metadata": {},
   "outputs": [],
   "source": [
    "th = 21"
   ]
  },
  {
   "cell_type": "code",
   "execution_count": 11,
   "metadata": {},
   "outputs": [],
   "source": [
    "for i in ind_d_sets:\n",
    "    temp = pd.read_csv(d_loc+i)\n",
    "    temp = temp[temp.length < th]\n",
    "    temp.to_csv(s_loc+i, index=False)"
   ]
  },
  {
   "cell_type": "code",
   "execution_count": 12,
   "metadata": {},
   "outputs": [],
   "source": [
    "def disp_d(name,d_loc):\n",
    "    d2 = pd.read_csv(d_loc+name)\n",
    "    print(name,'\\n',d2.head())\n",
    "    print('Len max :',d2.length.max())\n",
    "    print('Len min :',d2.length.min())\n",
    "    print('size :',len(d2))\n",
    "    print('-----------------')"
   ]
  },
  {
   "cell_type": "code",
   "execution_count": 13,
   "metadata": {},
   "outputs": [
    {
     "name": "stdout",
     "output_type": "stream",
     "text": [
      "Indian-Male-Names.csv \n",
      "            name  gender  race  length  fl_is_v  ll_is_v first_2 last_2  \\\n",
      "0       barjraj       0     3       7        0        0      ba     aj   \n",
      "1  ramdin verma       0     3      12        0        1      ra     ma   \n",
      "2        sharat       0     3       6        0        0      sh     at   \n",
      "3      birender       0     3       8        0        0      bi     er   \n",
      "4          amit       0     3       4        1        0      am     it   \n",
      "\n",
      "  first_3 last_3  \n",
      "0     bar    raj  \n",
      "1     ram    rma  \n",
      "2     sha    rat  \n",
      "3     bir    der  \n",
      "4     ami    mit  \n",
      "Len max : 20\n",
      "Len min : 3\n",
      "size : 7307\n",
      "-----------------\n",
      "Indian-Female-Names.csv \n",
      "               name  gender  race  length  fl_is_v  ll_is_v first_2 last_2  \\\n",
      "0          shivani       1     3       7        0        1      sh     ni   \n",
      "1             isha       1     3       4        1        1      is     ha   \n",
      "2  smt shyani devi       1     3      15        0        1      sm     vi   \n",
      "3            divya       1     3       5        0        1      di     ya   \n",
      "4            mansi       1     3       5        0        1      ma     si   \n",
      "\n",
      "  first_3 last_3  \n",
      "0     shi    ani  \n",
      "1     ish    sha  \n",
      "2     smt    evi  \n",
      "3     div    vya  \n",
      "4     man    nsi  \n",
      "Len max : 20\n",
      "Len min : 3\n",
      "size : 5685\n",
      "-----------------\n"
     ]
    }
   ],
   "source": [
    "for i in ind_d_sets:\n",
    "    disp_d(i,s_loc)"
   ]
  },
  {
   "cell_type": "markdown",
   "metadata": {},
   "source": [
    "### For Soln 2\n",
    "#### ( Predict Race from Name )"
   ]
  },
  {
   "cell_type": "code",
   "execution_count": 14,
   "metadata": {},
   "outputs": [
    {
     "data": {
      "text/plain": [
       "['Black-Male-Names.csv',\n",
       " 'Black-Female-Names.csv',\n",
       " 'Hispanic-Male-Names.csv',\n",
       " 'Hispanic-Female-Names.csv',\n",
       " 'White-Male-Names.csv',\n",
       " 'White-Female-Names.csv']"
      ]
     },
     "execution_count": 14,
     "metadata": {},
     "output_type": "execute_result"
    }
   ],
   "source": [
    "sp_sets = ['Black-Male-Names.csv','Black-Female-Names.csv','Hispanic-Male-Names.csv','Hispanic-Female-Names.csv','White-Male-Names.csv','White-Female-Names.csv']\n",
    "sp_sets"
   ]
  },
  {
   "cell_type": "code",
   "execution_count": 15,
   "metadata": {},
   "outputs": [
    {
     "name": "stdout",
     "output_type": "stream",
     "text": [
      "Black-Male-Names.csv \n",
      "         name  gender  race  length  fl_is_v  ll_is_v first_2 last_2 first_3  \\\n",
      "0      aaric       0     0       5        1        0      aa     ic     aar   \n",
      "1  dominique       0     0       9        0        1      do     ue     dom   \n",
      "2   fredrick       0     0       8        0        0      fr     ck     fre   \n",
      "3     jarvis       0     0       6        0        0      ja     is     jar   \n",
      "4    lorenzo       0     0       7        0        1      lo     zo     lor   \n",
      "\n",
      "  last_3  \n",
      "0    ric  \n",
      "1    que  \n",
      "2    ick  \n",
      "3    vis  \n",
      "4    nzo  \n",
      "Len max : 15\n",
      "Len min : 3\n",
      "size : 6981\n",
      "-----------------\n",
      "Black-Female-Names.csv \n",
      "         name  gender  race  length  fl_is_v  ll_is_v first_2 last_2 first_3  \\\n",
      "0  tashanika       1     0       9        0        1      ta     ka     tas   \n",
      "1    denetra       1     0       7        0        1      de     ra     den   \n",
      "2    tomesha       1     0       7        0        1      to     ha     tom   \n",
      "3   trellany       1     0       8        0        0      tr     ny     tre   \n",
      "4    cynthia       1     0       7        0        1      cy     ia     cyn   \n",
      "\n",
      "  last_3  \n",
      "0    ika  \n",
      "1    tra  \n",
      "2    sha  \n",
      "3    any  \n",
      "4    hia  \n",
      "Len max : 11\n",
      "Len min : 3\n",
      "size : 1436\n",
      "-----------------\n",
      "Hispanic-Male-Names.csv \n",
      "       name  gender  race  length  fl_is_v  ll_is_v first_2 last_2 first_3  \\\n",
      "0   jothan       0     1       6        0        0      jo     an     jot   \n",
      "1    pablo       0     1       5        0        1      pa     lo     pab   \n",
      "2  basilio       0     1       7        0        1      ba     io     bas   \n",
      "3   german       0     1       6        0        0      ge     an     ger   \n",
      "4   javier       0     1       6        0        0      ja     er     jav   \n",
      "\n",
      "  last_3  \n",
      "0    han  \n",
      "1    blo  \n",
      "2    lio  \n",
      "3    man  \n",
      "4    ier  \n",
      "Len max : 11\n",
      "Len min : 3\n",
      "size : 872\n",
      "-----------------\n",
      "Hispanic-Female-Names.csv \n",
      "       name  gender  race  length  fl_is_v  ll_is_v first_2 last_2 first_3  \\\n",
      "0  shirley       1     1       7        0        0      sh     ey     shi   \n",
      "1      NaN       1     1       3        0        0      na     an     NaN   \n",
      "2   miriam       1     1       6        0        0      mi     am     mir   \n",
      "3   ivette       1     1       6        1        1      iv     te     ive   \n",
      "4    saray       1     1       5        0        0      sa     ay     sar   \n",
      "\n",
      "  last_3  \n",
      "0    ley  \n",
      "1    NaN  \n",
      "2    iam  \n",
      "3    tte  \n",
      "4    ray  \n",
      "Len max : 13\n",
      "Len min : 3\n",
      "size : 168\n",
      "-----------------\n",
      "White-Male-Names.csv \n",
      "        name  gender  race  length  fl_is_v  ll_is_v first_2 last_2 first_3  \\\n",
      "0     billy       0     2       5        0        0      bi     ly     bil   \n",
      "1   charles       0     2       7        0        0      ch     es     cha   \n",
      "2  clarence       0     2       8        0        1      cl     ce     cla   \n",
      "3    justin       0     2       6        0        0      ju     in     jus   \n",
      "4       roy       0     2       3        0        0      ro     oy     roy   \n",
      "\n",
      "  last_3  \n",
      "0    lly  \n",
      "1    les  \n",
      "2    nce  \n",
      "3    tin  \n",
      "4    roy  \n",
      "Len max : 16\n",
      "Len min : 3\n",
      "size : 3184\n",
      "-----------------\n",
      "White-Female-Names.csv \n",
      "          name  gender  race  length  fl_is_v  ll_is_v first_2 last_2 first_3  \\\n",
      "0      leslie       1     2       6        0        1      le     ie     les   \n",
      "1       peggy       1     2       5        0        0      pe     gy     peg   \n",
      "2     rebecca       1     2       7        0        1      re     ca     reb   \n",
      "3  antoinette       1     2      10        1        1      an     te     ant   \n",
      "4    shaylene       1     2       8        0        1      sh     ne     sha   \n",
      "\n",
      "  last_3  \n",
      "0    lie  \n",
      "1    ggy  \n",
      "2    cca  \n",
      "3    tte  \n",
      "4    ene  \n",
      "Len max : 11\n",
      "Len min : 3\n",
      "size : 1159\n",
      "-----------------\n"
     ]
    }
   ],
   "source": [
    "for i in sp_sets:\n",
    "    disp_d(i,d_loc)"
   ]
  },
  {
   "cell_type": "code",
   "execution_count": 16,
   "metadata": {},
   "outputs": [],
   "source": [
    "for i in sp_sets:\n",
    "    temp = pd.read_csv(d_loc+i)\n",
    "    temp = temp[temp.length < th]\n",
    "    temp.to_csv(s_loc+i, index=False)"
   ]
  },
  {
   "cell_type": "code",
   "execution_count": null,
   "metadata": {},
   "outputs": [],
   "source": []
  }
 ],
 "metadata": {
  "kernelspec": {
   "display_name": "Python 3",
   "language": "python",
   "name": "python3"
  },
  "language_info": {
   "codemirror_mode": {
    "name": "ipython",
    "version": 3
   },
   "file_extension": ".py",
   "mimetype": "text/x-python",
   "name": "python",
   "nbconvert_exporter": "python",
   "pygments_lexer": "ipython3",
   "version": "3.6.8"
  }
 },
 "nbformat": 4,
 "nbformat_minor": 2
}
